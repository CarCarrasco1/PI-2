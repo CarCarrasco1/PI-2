{
 "cells": [
  {
   "attachments": {},
   "cell_type": "markdown",
   "metadata": {},
   "source": [
    "## **PI-2**\n",
    "## DATA ANALITYCS - EDA"
   ]
  },
  {
   "attachments": {},
   "cell_type": "markdown",
   "metadata": {},
   "source": [
    "## OBTENCIÓN DE DATOS"
   ]
  },
  {
   "cell_type": "code",
   "execution_count": 1,
   "metadata": {},
   "outputs": [],
   "source": [
    "import pandas as pd\n",
    "import yfinance as yf"
   ]
  },
  {
   "cell_type": "code",
   "execution_count": 2,
   "metadata": {},
   "outputs": [],
   "source": [
    "# Obtener todos los símbolos de acciones del S&P 500\n",
    "sp500_info = pd.read_html('https://en.wikipedia.org/wiki/List_of_S%26P_500_companies')[0]\n",
    "sp500_symbols = sp500_info['Symbol'].tolist()"
   ]
  },
  {
   "cell_type": "code",
   "execution_count": 3,
   "metadata": {},
   "outputs": [],
   "source": [
    "# Definir el rango de fechas\n",
    "start_date = '2000-01-01'\n",
    "end_date = '2023-02-22'"
   ]
  },
  {
   "cell_type": "code",
   "execution_count": 4,
   "metadata": {},
   "outputs": [],
   "source": [
    "# Crear un DataFrame vacío para almacenar los datos\n",
    "sp500 = pd.DataFrame()"
   ]
  },
  {
   "cell_type": "code",
   "execution_count": 5,
   "metadata": {},
   "outputs": [
    {
     "name": "stdout",
     "output_type": "stream",
     "text": [
      "Descargando datos para MMM...\n",
      "[*********************100%***********************]  1 of 1 completed\n",
      "Descargando datos para AOS...\n"
     ]
    },
    {
     "name": "stderr",
     "output_type": "stream",
     "text": [
      "/var/folders/db/zztlpw7s0bx2bpqqwrkksxg40000gp/T/ipykernel_21914/2993019566.py:7: FutureWarning: The frame.append method is deprecated and will be removed from pandas in a future version. Use pandas.concat instead.\n",
      "  sp500 = sp500.append(data)\n"
     ]
    },
    {
     "name": "stdout",
     "output_type": "stream",
     "text": [
      "[*********************100%***********************]  1 of 1 completed\n",
      "Descargando datos para ABT...\n"
     ]
    },
    {
     "name": "stderr",
     "output_type": "stream",
     "text": [
      "/var/folders/db/zztlpw7s0bx2bpqqwrkksxg40000gp/T/ipykernel_21914/2993019566.py:7: FutureWarning: The frame.append method is deprecated and will be removed from pandas in a future version. Use pandas.concat instead.\n",
      "  sp500 = sp500.append(data)\n"
     ]
    },
    {
     "name": "stdout",
     "output_type": "stream",
     "text": [
      "[*********************100%***********************]  1 of 1 completed\n",
      "Descargando datos para ABBV...\n"
     ]
    },
    {
     "name": "stderr",
     "output_type": "stream",
     "text": [
      "/var/folders/db/zztlpw7s0bx2bpqqwrkksxg40000gp/T/ipykernel_21914/2993019566.py:7: FutureWarning: The frame.append method is deprecated and will be removed from pandas in a future version. Use pandas.concat instead.\n",
      "  sp500 = sp500.append(data)\n"
     ]
    },
    {
     "name": "stdout",
     "output_type": "stream",
     "text": [
      "[*********************100%***********************]  1 of 1 completed\n",
      "Descargando datos para ACN...\n"
     ]
    },
    {
     "name": "stderr",
     "output_type": "stream",
     "text": [
      "/var/folders/db/zztlpw7s0bx2bpqqwrkksxg40000gp/T/ipykernel_21914/2993019566.py:7: FutureWarning: The frame.append method is deprecated and will be removed from pandas in a future version. Use pandas.concat instead.\n",
      "  sp500 = sp500.append(data)\n"
     ]
    },
    {
     "name": "stdout",
     "output_type": "stream",
     "text": [
      "[*********************100%***********************]  1 of 1 completed\n",
      "Descargando datos para ATVI...\n"
     ]
    },
    {
     "name": "stderr",
     "output_type": "stream",
     "text": [
      "/var/folders/db/zztlpw7s0bx2bpqqwrkksxg40000gp/T/ipykernel_21914/2993019566.py:7: FutureWarning: The frame.append method is deprecated and will be removed from pandas in a future version. Use pandas.concat instead.\n",
      "  sp500 = sp500.append(data)\n"
     ]
    },
    {
     "name": "stdout",
     "output_type": "stream",
     "text": [
      "[*********************100%***********************]  1 of 1 completed\n",
      "Descargando datos para ADM...\n"
     ]
    },
    {
     "name": "stderr",
     "output_type": "stream",
     "text": [
      "/var/folders/db/zztlpw7s0bx2bpqqwrkksxg40000gp/T/ipykernel_21914/2993019566.py:7: FutureWarning: The frame.append method is deprecated and will be removed from pandas in a future version. Use pandas.concat instead.\n",
      "  sp500 = sp500.append(data)\n"
     ]
    },
    {
     "name": "stdout",
     "output_type": "stream",
     "text": [
      "[*********************100%***********************]  1 of 1 completed\n",
      "Descargando datos para ADBE...\n"
     ]
    },
    {
     "name": "stderr",
     "output_type": "stream",
     "text": [
      "/var/folders/db/zztlpw7s0bx2bpqqwrkksxg40000gp/T/ipykernel_21914/2993019566.py:7: FutureWarning: The frame.append method is deprecated and will be removed from pandas in a future version. Use pandas.concat instead.\n",
      "  sp500 = sp500.append(data)\n"
     ]
    },
    {
     "name": "stdout",
     "output_type": "stream",
     "text": [
      "[*********************100%***********************]  1 of 1 completed\n",
      "Descargando datos para ADP...\n"
     ]
    },
    {
     "name": "stderr",
     "output_type": "stream",
     "text": [
      "/var/folders/db/zztlpw7s0bx2bpqqwrkksxg40000gp/T/ipykernel_21914/2993019566.py:7: FutureWarning: The frame.append method is deprecated and will be removed from pandas in a future version. Use pandas.concat instead.\n",
      "  sp500 = sp500.append(data)\n"
     ]
    },
    {
     "name": "stdout",
     "output_type": "stream",
     "text": [
      "[*********************100%***********************]  1 of 1 completed\n",
      "Descargando datos para AAP...\n"
     ]
    },
    {
     "name": "stderr",
     "output_type": "stream",
     "text": [
      "/var/folders/db/zztlpw7s0bx2bpqqwrkksxg40000gp/T/ipykernel_21914/2993019566.py:7: FutureWarning: The frame.append method is deprecated and will be removed from pandas in a future version. Use pandas.concat instead.\n",
      "  sp500 = sp500.append(data)\n"
     ]
    },
    {
     "name": "stdout",
     "output_type": "stream",
     "text": [
      "[*********************100%***********************]  1 of 1 completed\n",
      "Descargando datos para AES...\n"
     ]
    },
    {
     "name": "stderr",
     "output_type": "stream",
     "text": [
      "/var/folders/db/zztlpw7s0bx2bpqqwrkksxg40000gp/T/ipykernel_21914/2993019566.py:7: FutureWarning: The frame.append method is deprecated and will be removed from pandas in a future version. Use pandas.concat instead.\n",
      "  sp500 = sp500.append(data)\n"
     ]
    },
    {
     "name": "stdout",
     "output_type": "stream",
     "text": [
      "[*********************100%***********************]  1 of 1 completed\n",
      "Descargando datos para AFL...\n"
     ]
    },
    {
     "name": "stderr",
     "output_type": "stream",
     "text": [
      "/var/folders/db/zztlpw7s0bx2bpqqwrkksxg40000gp/T/ipykernel_21914/2993019566.py:7: FutureWarning: The frame.append method is deprecated and will be removed from pandas in a future version. Use pandas.concat instead.\n",
      "  sp500 = sp500.append(data)\n"
     ]
    },
    {
     "name": "stdout",
     "output_type": "stream",
     "text": [
      "[*********************100%***********************]  1 of 1 completed\n",
      "Descargando datos para A...\n"
     ]
    },
    {
     "name": "stderr",
     "output_type": "stream",
     "text": [
      "/var/folders/db/zztlpw7s0bx2bpqqwrkksxg40000gp/T/ipykernel_21914/2993019566.py:7: FutureWarning: The frame.append method is deprecated and will be removed from pandas in a future version. Use pandas.concat instead.\n",
      "  sp500 = sp500.append(data)\n"
     ]
    },
    {
     "name": "stdout",
     "output_type": "stream",
     "text": [
      "[*********************100%***********************]  1 of 1 completed\n",
      "Descargando datos para APD...\n"
     ]
    },
    {
     "name": "stderr",
     "output_type": "stream",
     "text": [
      "/var/folders/db/zztlpw7s0bx2bpqqwrkksxg40000gp/T/ipykernel_21914/2993019566.py:7: FutureWarning: The frame.append method is deprecated and will be removed from pandas in a future version. Use pandas.concat instead.\n",
      "  sp500 = sp500.append(data)\n"
     ]
    },
    {
     "name": "stdout",
     "output_type": "stream",
     "text": [
      "[*********************100%***********************]  1 of 1 completed\n",
      "Descargando datos para AKAM...\n"
     ]
    },
    {
     "name": "stderr",
     "output_type": "stream",
     "text": [
      "/var/folders/db/zztlpw7s0bx2bpqqwrkksxg40000gp/T/ipykernel_21914/2993019566.py:7: FutureWarning: The frame.append method is deprecated and will be removed from pandas in a future version. Use pandas.concat instead.\n",
      "  sp500 = sp500.append(data)\n"
     ]
    },
    {
     "name": "stdout",
     "output_type": "stream",
     "text": [
      "[*********************100%***********************]  1 of 1 completed\n",
      "Descargando datos para ALK...\n"
     ]
    },
    {
     "name": "stderr",
     "output_type": "stream",
     "text": [
      "/var/folders/db/zztlpw7s0bx2bpqqwrkksxg40000gp/T/ipykernel_21914/2993019566.py:7: FutureWarning: The frame.append method is deprecated and will be removed from pandas in a future version. Use pandas.concat instead.\n",
      "  sp500 = sp500.append(data)\n"
     ]
    },
    {
     "name": "stdout",
     "output_type": "stream",
     "text": [
      "[*********************100%***********************]  1 of 1 completed\n",
      "Descargando datos para ALB...\n"
     ]
    },
    {
     "name": "stderr",
     "output_type": "stream",
     "text": [
      "/var/folders/db/zztlpw7s0bx2bpqqwrkksxg40000gp/T/ipykernel_21914/2993019566.py:7: FutureWarning: The frame.append method is deprecated and will be removed from pandas in a future version. Use pandas.concat instead.\n",
      "  sp500 = sp500.append(data)\n"
     ]
    },
    {
     "name": "stdout",
     "output_type": "stream",
     "text": [
      "[*********************100%***********************]  1 of 1 completed\n",
      "Descargando datos para ARE...\n"
     ]
    },
    {
     "name": "stderr",
     "output_type": "stream",
     "text": [
      "/var/folders/db/zztlpw7s0bx2bpqqwrkksxg40000gp/T/ipykernel_21914/2993019566.py:7: FutureWarning: The frame.append method is deprecated and will be removed from pandas in a future version. Use pandas.concat instead.\n",
      "  sp500 = sp500.append(data)\n"
     ]
    },
    {
     "name": "stdout",
     "output_type": "stream",
     "text": [
      "[*********************100%***********************]  1 of 1 completed\n",
      "Descargando datos para ALGN...\n"
     ]
    },
    {
     "name": "stderr",
     "output_type": "stream",
     "text": [
      "/var/folders/db/zztlpw7s0bx2bpqqwrkksxg40000gp/T/ipykernel_21914/2993019566.py:7: FutureWarning: The frame.append method is deprecated and will be removed from pandas in a future version. Use pandas.concat instead.\n",
      "  sp500 = sp500.append(data)\n"
     ]
    },
    {
     "name": "stdout",
     "output_type": "stream",
     "text": [
      "[*********************100%***********************]  1 of 1 completed\n",
      "Descargando datos para ALLE...\n"
     ]
    },
    {
     "name": "stderr",
     "output_type": "stream",
     "text": [
      "/var/folders/db/zztlpw7s0bx2bpqqwrkksxg40000gp/T/ipykernel_21914/2993019566.py:7: FutureWarning: The frame.append method is deprecated and will be removed from pandas in a future version. Use pandas.concat instead.\n",
      "  sp500 = sp500.append(data)\n"
     ]
    },
    {
     "name": "stdout",
     "output_type": "stream",
     "text": [
      "[*********************100%***********************]  1 of 1 completed\n",
      "Descargando datos para LNT...\n"
     ]
    },
    {
     "name": "stderr",
     "output_type": "stream",
     "text": [
      "/var/folders/db/zztlpw7s0bx2bpqqwrkksxg40000gp/T/ipykernel_21914/2993019566.py:7: FutureWarning: The frame.append method is deprecated and will be removed from pandas in a future version. Use pandas.concat instead.\n",
      "  sp500 = sp500.append(data)\n"
     ]
    },
    {
     "name": "stdout",
     "output_type": "stream",
     "text": [
      "[*********************100%***********************]  1 of 1 completed\n",
      "Descargando datos para ALL...\n"
     ]
    },
    {
     "name": "stderr",
     "output_type": "stream",
     "text": [
      "/var/folders/db/zztlpw7s0bx2bpqqwrkksxg40000gp/T/ipykernel_21914/2993019566.py:7: FutureWarning: The frame.append method is deprecated and will be removed from pandas in a future version. Use pandas.concat instead.\n",
      "  sp500 = sp500.append(data)\n"
     ]
    },
    {
     "name": "stdout",
     "output_type": "stream",
     "text": [
      "[*********************100%***********************]  1 of 1 completed\n",
      "Descargando datos para GOOGL...\n"
     ]
    },
    {
     "name": "stderr",
     "output_type": "stream",
     "text": [
      "/var/folders/db/zztlpw7s0bx2bpqqwrkksxg40000gp/T/ipykernel_21914/2993019566.py:7: FutureWarning: The frame.append method is deprecated and will be removed from pandas in a future version. Use pandas.concat instead.\n",
      "  sp500 = sp500.append(data)\n"
     ]
    },
    {
     "name": "stdout",
     "output_type": "stream",
     "text": [
      "[*********************100%***********************]  1 of 1 completed\n",
      "Descargando datos para GOOG...\n"
     ]
    },
    {
     "name": "stderr",
     "output_type": "stream",
     "text": [
      "/var/folders/db/zztlpw7s0bx2bpqqwrkksxg40000gp/T/ipykernel_21914/2993019566.py:7: FutureWarning: The frame.append method is deprecated and will be removed from pandas in a future version. Use pandas.concat instead.\n",
      "  sp500 = sp500.append(data)\n"
     ]
    },
    {
     "name": "stdout",
     "output_type": "stream",
     "text": [
      "[*********************100%***********************]  1 of 1 completed\n",
      "Descargando datos para MO...\n"
     ]
    },
    {
     "name": "stderr",
     "output_type": "stream",
     "text": [
      "/var/folders/db/zztlpw7s0bx2bpqqwrkksxg40000gp/T/ipykernel_21914/2993019566.py:7: FutureWarning: The frame.append method is deprecated and will be removed from pandas in a future version. Use pandas.concat instead.\n",
      "  sp500 = sp500.append(data)\n"
     ]
    },
    {
     "name": "stdout",
     "output_type": "stream",
     "text": [
      "[*********************100%***********************]  1 of 1 completed\n",
      "Descargando datos para AMZN...\n"
     ]
    },
    {
     "name": "stderr",
     "output_type": "stream",
     "text": [
      "/var/folders/db/zztlpw7s0bx2bpqqwrkksxg40000gp/T/ipykernel_21914/2993019566.py:7: FutureWarning: The frame.append method is deprecated and will be removed from pandas in a future version. Use pandas.concat instead.\n",
      "  sp500 = sp500.append(data)\n"
     ]
    },
    {
     "name": "stdout",
     "output_type": "stream",
     "text": [
      "[*********************100%***********************]  1 of 1 completed\n",
      "Descargando datos para AMCR...\n"
     ]
    },
    {
     "name": "stderr",
     "output_type": "stream",
     "text": [
      "/var/folders/db/zztlpw7s0bx2bpqqwrkksxg40000gp/T/ipykernel_21914/2993019566.py:7: FutureWarning: The frame.append method is deprecated and will be removed from pandas in a future version. Use pandas.concat instead.\n",
      "  sp500 = sp500.append(data)\n"
     ]
    },
    {
     "name": "stdout",
     "output_type": "stream",
     "text": [
      "[*********************100%***********************]  1 of 1 completed\n",
      "Descargando datos para AMD...\n"
     ]
    },
    {
     "name": "stderr",
     "output_type": "stream",
     "text": [
      "/var/folders/db/zztlpw7s0bx2bpqqwrkksxg40000gp/T/ipykernel_21914/2993019566.py:7: FutureWarning: The frame.append method is deprecated and will be removed from pandas in a future version. Use pandas.concat instead.\n",
      "  sp500 = sp500.append(data)\n"
     ]
    },
    {
     "name": "stdout",
     "output_type": "stream",
     "text": [
      "[*********************100%***********************]  1 of 1 completed\n",
      "Descargando datos para AEE...\n"
     ]
    },
    {
     "name": "stderr",
     "output_type": "stream",
     "text": [
      "/var/folders/db/zztlpw7s0bx2bpqqwrkksxg40000gp/T/ipykernel_21914/2993019566.py:7: FutureWarning: The frame.append method is deprecated and will be removed from pandas in a future version. Use pandas.concat instead.\n",
      "  sp500 = sp500.append(data)\n"
     ]
    },
    {
     "name": "stdout",
     "output_type": "stream",
     "text": [
      "[*********************100%***********************]  1 of 1 completed\n",
      "Descargando datos para AAL...\n"
     ]
    },
    {
     "name": "stderr",
     "output_type": "stream",
     "text": [
      "/var/folders/db/zztlpw7s0bx2bpqqwrkksxg40000gp/T/ipykernel_21914/2993019566.py:7: FutureWarning: The frame.append method is deprecated and will be removed from pandas in a future version. Use pandas.concat instead.\n",
      "  sp500 = sp500.append(data)\n"
     ]
    },
    {
     "name": "stdout",
     "output_type": "stream",
     "text": [
      "[*********************100%***********************]  1 of 1 completed\n",
      "Descargando datos para AEP...\n"
     ]
    },
    {
     "name": "stderr",
     "output_type": "stream",
     "text": [
      "/var/folders/db/zztlpw7s0bx2bpqqwrkksxg40000gp/T/ipykernel_21914/2993019566.py:7: FutureWarning: The frame.append method is deprecated and will be removed from pandas in a future version. Use pandas.concat instead.\n",
      "  sp500 = sp500.append(data)\n"
     ]
    },
    {
     "name": "stdout",
     "output_type": "stream",
     "text": [
      "[*********************100%***********************]  1 of 1 completed\n",
      "Descargando datos para AXP...\n"
     ]
    },
    {
     "name": "stderr",
     "output_type": "stream",
     "text": [
      "/var/folders/db/zztlpw7s0bx2bpqqwrkksxg40000gp/T/ipykernel_21914/2993019566.py:7: FutureWarning: The frame.append method is deprecated and will be removed from pandas in a future version. Use pandas.concat instead.\n",
      "  sp500 = sp500.append(data)\n"
     ]
    },
    {
     "name": "stdout",
     "output_type": "stream",
     "text": [
      "[*********************100%***********************]  1 of 1 completed\n",
      "Descargando datos para AIG...\n"
     ]
    },
    {
     "name": "stderr",
     "output_type": "stream",
     "text": [
      "/var/folders/db/zztlpw7s0bx2bpqqwrkksxg40000gp/T/ipykernel_21914/2993019566.py:7: FutureWarning: The frame.append method is deprecated and will be removed from pandas in a future version. Use pandas.concat instead.\n",
      "  sp500 = sp500.append(data)\n"
     ]
    },
    {
     "name": "stdout",
     "output_type": "stream",
     "text": [
      "[*********************100%***********************]  1 of 1 completed\n",
      "Descargando datos para AMT...\n"
     ]
    },
    {
     "name": "stderr",
     "output_type": "stream",
     "text": [
      "/var/folders/db/zztlpw7s0bx2bpqqwrkksxg40000gp/T/ipykernel_21914/2993019566.py:7: FutureWarning: The frame.append method is deprecated and will be removed from pandas in a future version. Use pandas.concat instead.\n",
      "  sp500 = sp500.append(data)\n"
     ]
    },
    {
     "name": "stdout",
     "output_type": "stream",
     "text": [
      "[*********************100%***********************]  1 of 1 completed\n",
      "Descargando datos para AWK...\n"
     ]
    },
    {
     "name": "stderr",
     "output_type": "stream",
     "text": [
      "/var/folders/db/zztlpw7s0bx2bpqqwrkksxg40000gp/T/ipykernel_21914/2993019566.py:7: FutureWarning: The frame.append method is deprecated and will be removed from pandas in a future version. Use pandas.concat instead.\n",
      "  sp500 = sp500.append(data)\n"
     ]
    },
    {
     "name": "stdout",
     "output_type": "stream",
     "text": [
      "[*********************100%***********************]  1 of 1 completed\n",
      "Descargando datos para AMP...\n"
     ]
    },
    {
     "name": "stderr",
     "output_type": "stream",
     "text": [
      "/var/folders/db/zztlpw7s0bx2bpqqwrkksxg40000gp/T/ipykernel_21914/2993019566.py:7: FutureWarning: The frame.append method is deprecated and will be removed from pandas in a future version. Use pandas.concat instead.\n",
      "  sp500 = sp500.append(data)\n"
     ]
    },
    {
     "name": "stdout",
     "output_type": "stream",
     "text": [
      "[*********************100%***********************]  1 of 1 completed\n",
      "Descargando datos para ABC...\n"
     ]
    },
    {
     "name": "stderr",
     "output_type": "stream",
     "text": [
      "/var/folders/db/zztlpw7s0bx2bpqqwrkksxg40000gp/T/ipykernel_21914/2993019566.py:7: FutureWarning: The frame.append method is deprecated and will be removed from pandas in a future version. Use pandas.concat instead.\n",
      "  sp500 = sp500.append(data)\n"
     ]
    },
    {
     "name": "stdout",
     "output_type": "stream",
     "text": [
      "[*********************100%***********************]  1 of 1 completed\n",
      "Descargando datos para AME...\n"
     ]
    },
    {
     "name": "stderr",
     "output_type": "stream",
     "text": [
      "/var/folders/db/zztlpw7s0bx2bpqqwrkksxg40000gp/T/ipykernel_21914/2993019566.py:7: FutureWarning: The frame.append method is deprecated and will be removed from pandas in a future version. Use pandas.concat instead.\n",
      "  sp500 = sp500.append(data)\n"
     ]
    },
    {
     "name": "stdout",
     "output_type": "stream",
     "text": [
      "[*********************100%***********************]  1 of 1 completed\n",
      "Descargando datos para AMGN...\n"
     ]
    },
    {
     "name": "stderr",
     "output_type": "stream",
     "text": [
      "/var/folders/db/zztlpw7s0bx2bpqqwrkksxg40000gp/T/ipykernel_21914/2993019566.py:7: FutureWarning: The frame.append method is deprecated and will be removed from pandas in a future version. Use pandas.concat instead.\n",
      "  sp500 = sp500.append(data)\n"
     ]
    },
    {
     "name": "stdout",
     "output_type": "stream",
     "text": [
      "[*********************100%***********************]  1 of 1 completed\n",
      "Descargando datos para APH...\n"
     ]
    },
    {
     "name": "stderr",
     "output_type": "stream",
     "text": [
      "/var/folders/db/zztlpw7s0bx2bpqqwrkksxg40000gp/T/ipykernel_21914/2993019566.py:7: FutureWarning: The frame.append method is deprecated and will be removed from pandas in a future version. Use pandas.concat instead.\n",
      "  sp500 = sp500.append(data)\n"
     ]
    },
    {
     "name": "stdout",
     "output_type": "stream",
     "text": [
      "[*********************100%***********************]  1 of 1 completed\n",
      "Descargando datos para ADI...\n"
     ]
    },
    {
     "name": "stderr",
     "output_type": "stream",
     "text": [
      "/var/folders/db/zztlpw7s0bx2bpqqwrkksxg40000gp/T/ipykernel_21914/2993019566.py:7: FutureWarning: The frame.append method is deprecated and will be removed from pandas in a future version. Use pandas.concat instead.\n",
      "  sp500 = sp500.append(data)\n"
     ]
    },
    {
     "name": "stdout",
     "output_type": "stream",
     "text": [
      "[*********************100%***********************]  1 of 1 completed\n",
      "Descargando datos para ANSS...\n"
     ]
    },
    {
     "name": "stderr",
     "output_type": "stream",
     "text": [
      "/var/folders/db/zztlpw7s0bx2bpqqwrkksxg40000gp/T/ipykernel_21914/2993019566.py:7: FutureWarning: The frame.append method is deprecated and will be removed from pandas in a future version. Use pandas.concat instead.\n",
      "  sp500 = sp500.append(data)\n"
     ]
    },
    {
     "name": "stdout",
     "output_type": "stream",
     "text": [
      "[*********************100%***********************]  1 of 1 completed\n",
      "Descargando datos para AON...\n"
     ]
    },
    {
     "name": "stderr",
     "output_type": "stream",
     "text": [
      "/var/folders/db/zztlpw7s0bx2bpqqwrkksxg40000gp/T/ipykernel_21914/2993019566.py:7: FutureWarning: The frame.append method is deprecated and will be removed from pandas in a future version. Use pandas.concat instead.\n",
      "  sp500 = sp500.append(data)\n"
     ]
    },
    {
     "name": "stdout",
     "output_type": "stream",
     "text": [
      "[*********************100%***********************]  1 of 1 completed\n",
      "Descargando datos para APA...\n"
     ]
    },
    {
     "name": "stderr",
     "output_type": "stream",
     "text": [
      "/var/folders/db/zztlpw7s0bx2bpqqwrkksxg40000gp/T/ipykernel_21914/2993019566.py:7: FutureWarning: The frame.append method is deprecated and will be removed from pandas in a future version. Use pandas.concat instead.\n",
      "  sp500 = sp500.append(data)\n"
     ]
    },
    {
     "name": "stdout",
     "output_type": "stream",
     "text": [
      "[*********************100%***********************]  1 of 1 completed\n",
      "Descargando datos para AAPL...\n"
     ]
    },
    {
     "name": "stderr",
     "output_type": "stream",
     "text": [
      "/var/folders/db/zztlpw7s0bx2bpqqwrkksxg40000gp/T/ipykernel_21914/2993019566.py:7: FutureWarning: The frame.append method is deprecated and will be removed from pandas in a future version. Use pandas.concat instead.\n",
      "  sp500 = sp500.append(data)\n"
     ]
    },
    {
     "name": "stdout",
     "output_type": "stream",
     "text": [
      "[*********************100%***********************]  1 of 1 completed\n",
      "Descargando datos para AMAT...\n"
     ]
    },
    {
     "name": "stderr",
     "output_type": "stream",
     "text": [
      "/var/folders/db/zztlpw7s0bx2bpqqwrkksxg40000gp/T/ipykernel_21914/2993019566.py:7: FutureWarning: The frame.append method is deprecated and will be removed from pandas in a future version. Use pandas.concat instead.\n",
      "  sp500 = sp500.append(data)\n"
     ]
    },
    {
     "name": "stdout",
     "output_type": "stream",
     "text": [
      "[*********************100%***********************]  1 of 1 completed\n",
      "Descargando datos para APTV...\n"
     ]
    },
    {
     "name": "stderr",
     "output_type": "stream",
     "text": [
      "/var/folders/db/zztlpw7s0bx2bpqqwrkksxg40000gp/T/ipykernel_21914/2993019566.py:7: FutureWarning: The frame.append method is deprecated and will be removed from pandas in a future version. Use pandas.concat instead.\n",
      "  sp500 = sp500.append(data)\n"
     ]
    },
    {
     "name": "stdout",
     "output_type": "stream",
     "text": [
      "[*********************100%***********************]  1 of 1 completed\n",
      "Descargando datos para ACGL...\n"
     ]
    },
    {
     "name": "stderr",
     "output_type": "stream",
     "text": [
      "/var/folders/db/zztlpw7s0bx2bpqqwrkksxg40000gp/T/ipykernel_21914/2993019566.py:7: FutureWarning: The frame.append method is deprecated and will be removed from pandas in a future version. Use pandas.concat instead.\n",
      "  sp500 = sp500.append(data)\n"
     ]
    },
    {
     "name": "stdout",
     "output_type": "stream",
     "text": [
      "[*********************100%***********************]  1 of 1 completed\n",
      "Descargando datos para ANET...\n"
     ]
    },
    {
     "name": "stderr",
     "output_type": "stream",
     "text": [
      "/var/folders/db/zztlpw7s0bx2bpqqwrkksxg40000gp/T/ipykernel_21914/2993019566.py:7: FutureWarning: The frame.append method is deprecated and will be removed from pandas in a future version. Use pandas.concat instead.\n",
      "  sp500 = sp500.append(data)\n"
     ]
    },
    {
     "name": "stdout",
     "output_type": "stream",
     "text": [
      "[*********************100%***********************]  1 of 1 completed\n",
      "Descargando datos para AJG...\n"
     ]
    },
    {
     "name": "stderr",
     "output_type": "stream",
     "text": [
      "/var/folders/db/zztlpw7s0bx2bpqqwrkksxg40000gp/T/ipykernel_21914/2993019566.py:7: FutureWarning: The frame.append method is deprecated and will be removed from pandas in a future version. Use pandas.concat instead.\n",
      "  sp500 = sp500.append(data)\n"
     ]
    },
    {
     "name": "stdout",
     "output_type": "stream",
     "text": [
      "[*********************100%***********************]  1 of 1 completed\n",
      "Descargando datos para AIZ...\n"
     ]
    },
    {
     "name": "stderr",
     "output_type": "stream",
     "text": [
      "/var/folders/db/zztlpw7s0bx2bpqqwrkksxg40000gp/T/ipykernel_21914/2993019566.py:7: FutureWarning: The frame.append method is deprecated and will be removed from pandas in a future version. Use pandas.concat instead.\n",
      "  sp500 = sp500.append(data)\n"
     ]
    },
    {
     "name": "stdout",
     "output_type": "stream",
     "text": [
      "[*********************100%***********************]  1 of 1 completed\n",
      "Descargando datos para T...\n"
     ]
    },
    {
     "name": "stderr",
     "output_type": "stream",
     "text": [
      "/var/folders/db/zztlpw7s0bx2bpqqwrkksxg40000gp/T/ipykernel_21914/2993019566.py:7: FutureWarning: The frame.append method is deprecated and will be removed from pandas in a future version. Use pandas.concat instead.\n",
      "  sp500 = sp500.append(data)\n"
     ]
    },
    {
     "name": "stdout",
     "output_type": "stream",
     "text": [
      "[*********************100%***********************]  1 of 1 completed\n",
      "Descargando datos para ATO...\n"
     ]
    },
    {
     "name": "stderr",
     "output_type": "stream",
     "text": [
      "/var/folders/db/zztlpw7s0bx2bpqqwrkksxg40000gp/T/ipykernel_21914/2993019566.py:7: FutureWarning: The frame.append method is deprecated and will be removed from pandas in a future version. Use pandas.concat instead.\n",
      "  sp500 = sp500.append(data)\n"
     ]
    },
    {
     "name": "stdout",
     "output_type": "stream",
     "text": [
      "[*********************100%***********************]  1 of 1 completed\n",
      "Descargando datos para ADSK...\n"
     ]
    },
    {
     "name": "stderr",
     "output_type": "stream",
     "text": [
      "/var/folders/db/zztlpw7s0bx2bpqqwrkksxg40000gp/T/ipykernel_21914/2993019566.py:7: FutureWarning: The frame.append method is deprecated and will be removed from pandas in a future version. Use pandas.concat instead.\n",
      "  sp500 = sp500.append(data)\n"
     ]
    },
    {
     "name": "stdout",
     "output_type": "stream",
     "text": [
      "[*********************100%***********************]  1 of 1 completed\n",
      "Descargando datos para AZO...\n"
     ]
    },
    {
     "name": "stderr",
     "output_type": "stream",
     "text": [
      "/var/folders/db/zztlpw7s0bx2bpqqwrkksxg40000gp/T/ipykernel_21914/2993019566.py:7: FutureWarning: The frame.append method is deprecated and will be removed from pandas in a future version. Use pandas.concat instead.\n",
      "  sp500 = sp500.append(data)\n"
     ]
    },
    {
     "name": "stdout",
     "output_type": "stream",
     "text": [
      "[*********************100%***********************]  1 of 1 completed\n",
      "Descargando datos para AVB...\n"
     ]
    },
    {
     "name": "stderr",
     "output_type": "stream",
     "text": [
      "/var/folders/db/zztlpw7s0bx2bpqqwrkksxg40000gp/T/ipykernel_21914/2993019566.py:7: FutureWarning: The frame.append method is deprecated and will be removed from pandas in a future version. Use pandas.concat instead.\n",
      "  sp500 = sp500.append(data)\n"
     ]
    },
    {
     "name": "stdout",
     "output_type": "stream",
     "text": [
      "[*********************100%***********************]  1 of 1 completed\n",
      "Descargando datos para AVY...\n"
     ]
    },
    {
     "name": "stderr",
     "output_type": "stream",
     "text": [
      "/var/folders/db/zztlpw7s0bx2bpqqwrkksxg40000gp/T/ipykernel_21914/2993019566.py:7: FutureWarning: The frame.append method is deprecated and will be removed from pandas in a future version. Use pandas.concat instead.\n",
      "  sp500 = sp500.append(data)\n"
     ]
    },
    {
     "name": "stdout",
     "output_type": "stream",
     "text": [
      "[*********************100%***********************]  1 of 1 completed\n",
      "Descargando datos para BKR...\n"
     ]
    },
    {
     "name": "stderr",
     "output_type": "stream",
     "text": [
      "/var/folders/db/zztlpw7s0bx2bpqqwrkksxg40000gp/T/ipykernel_21914/2993019566.py:7: FutureWarning: The frame.append method is deprecated and will be removed from pandas in a future version. Use pandas.concat instead.\n",
      "  sp500 = sp500.append(data)\n"
     ]
    },
    {
     "name": "stdout",
     "output_type": "stream",
     "text": [
      "[*********************100%***********************]  1 of 1 completed\n",
      "Descargando datos para BALL...\n"
     ]
    },
    {
     "name": "stderr",
     "output_type": "stream",
     "text": [
      "/var/folders/db/zztlpw7s0bx2bpqqwrkksxg40000gp/T/ipykernel_21914/2993019566.py:7: FutureWarning: The frame.append method is deprecated and will be removed from pandas in a future version. Use pandas.concat instead.\n",
      "  sp500 = sp500.append(data)\n"
     ]
    },
    {
     "name": "stdout",
     "output_type": "stream",
     "text": [
      "[*********************100%***********************]  1 of 1 completed\n",
      "Descargando datos para BAC...\n"
     ]
    },
    {
     "name": "stderr",
     "output_type": "stream",
     "text": [
      "/var/folders/db/zztlpw7s0bx2bpqqwrkksxg40000gp/T/ipykernel_21914/2993019566.py:7: FutureWarning: The frame.append method is deprecated and will be removed from pandas in a future version. Use pandas.concat instead.\n",
      "  sp500 = sp500.append(data)\n"
     ]
    },
    {
     "name": "stdout",
     "output_type": "stream",
     "text": [
      "[*********************100%***********************]  1 of 1 completed\n",
      "Descargando datos para BBWI...\n"
     ]
    },
    {
     "name": "stderr",
     "output_type": "stream",
     "text": [
      "/var/folders/db/zztlpw7s0bx2bpqqwrkksxg40000gp/T/ipykernel_21914/2993019566.py:7: FutureWarning: The frame.append method is deprecated and will be removed from pandas in a future version. Use pandas.concat instead.\n",
      "  sp500 = sp500.append(data)\n"
     ]
    },
    {
     "name": "stdout",
     "output_type": "stream",
     "text": [
      "[*********************100%***********************]  1 of 1 completed\n",
      "Descargando datos para BAX...\n"
     ]
    },
    {
     "name": "stderr",
     "output_type": "stream",
     "text": [
      "/var/folders/db/zztlpw7s0bx2bpqqwrkksxg40000gp/T/ipykernel_21914/2993019566.py:7: FutureWarning: The frame.append method is deprecated and will be removed from pandas in a future version. Use pandas.concat instead.\n",
      "  sp500 = sp500.append(data)\n"
     ]
    },
    {
     "name": "stdout",
     "output_type": "stream",
     "text": [
      "[*********************100%***********************]  1 of 1 completed\n",
      "Descargando datos para BDX...\n"
     ]
    },
    {
     "name": "stderr",
     "output_type": "stream",
     "text": [
      "/var/folders/db/zztlpw7s0bx2bpqqwrkksxg40000gp/T/ipykernel_21914/2993019566.py:7: FutureWarning: The frame.append method is deprecated and will be removed from pandas in a future version. Use pandas.concat instead.\n",
      "  sp500 = sp500.append(data)\n"
     ]
    },
    {
     "name": "stdout",
     "output_type": "stream",
     "text": [
      "[*********************100%***********************]  1 of 1 completed\n",
      "Descargando datos para WRB...\n"
     ]
    },
    {
     "name": "stderr",
     "output_type": "stream",
     "text": [
      "/var/folders/db/zztlpw7s0bx2bpqqwrkksxg40000gp/T/ipykernel_21914/2993019566.py:7: FutureWarning: The frame.append method is deprecated and will be removed from pandas in a future version. Use pandas.concat instead.\n",
      "  sp500 = sp500.append(data)\n"
     ]
    },
    {
     "name": "stdout",
     "output_type": "stream",
     "text": [
      "[*********************100%***********************]  1 of 1 completed\n",
      "Descargando datos para BRK.B...\n"
     ]
    },
    {
     "name": "stderr",
     "output_type": "stream",
     "text": [
      "/var/folders/db/zztlpw7s0bx2bpqqwrkksxg40000gp/T/ipykernel_21914/2993019566.py:7: FutureWarning: The frame.append method is deprecated and will be removed from pandas in a future version. Use pandas.concat instead.\n",
      "  sp500 = sp500.append(data)\n"
     ]
    },
    {
     "name": "stdout",
     "output_type": "stream",
     "text": [
      "[*********************100%***********************]  1 of 1 completed\n",
      "\n",
      "1 Failed download:\n",
      "- BRK.B: No timezone found, symbol may be delisted\n",
      "Descargando datos para BBY...\n",
      "[*********************100%***********************]  1 of 1 completed\n",
      "Descargando datos para BIO...\n"
     ]
    },
    {
     "name": "stderr",
     "output_type": "stream",
     "text": [
      "/var/folders/db/zztlpw7s0bx2bpqqwrkksxg40000gp/T/ipykernel_21914/2993019566.py:7: FutureWarning: The frame.append method is deprecated and will be removed from pandas in a future version. Use pandas.concat instead.\n",
      "  sp500 = sp500.append(data)\n"
     ]
    },
    {
     "name": "stdout",
     "output_type": "stream",
     "text": [
      "[*********************100%***********************]  1 of 1 completed\n",
      "Descargando datos para TECH...\n"
     ]
    },
    {
     "name": "stderr",
     "output_type": "stream",
     "text": [
      "/var/folders/db/zztlpw7s0bx2bpqqwrkksxg40000gp/T/ipykernel_21914/2993019566.py:7: FutureWarning: The frame.append method is deprecated and will be removed from pandas in a future version. Use pandas.concat instead.\n",
      "  sp500 = sp500.append(data)\n"
     ]
    },
    {
     "name": "stdout",
     "output_type": "stream",
     "text": [
      "[*********************100%***********************]  1 of 1 completed\n",
      "Descargando datos para BIIB...\n"
     ]
    },
    {
     "name": "stderr",
     "output_type": "stream",
     "text": [
      "/var/folders/db/zztlpw7s0bx2bpqqwrkksxg40000gp/T/ipykernel_21914/2993019566.py:7: FutureWarning: The frame.append method is deprecated and will be removed from pandas in a future version. Use pandas.concat instead.\n",
      "  sp500 = sp500.append(data)\n"
     ]
    },
    {
     "name": "stdout",
     "output_type": "stream",
     "text": [
      "[*********************100%***********************]  1 of 1 completed\n",
      "Descargando datos para BLK...\n"
     ]
    },
    {
     "name": "stderr",
     "output_type": "stream",
     "text": [
      "/var/folders/db/zztlpw7s0bx2bpqqwrkksxg40000gp/T/ipykernel_21914/2993019566.py:7: FutureWarning: The frame.append method is deprecated and will be removed from pandas in a future version. Use pandas.concat instead.\n",
      "  sp500 = sp500.append(data)\n"
     ]
    },
    {
     "name": "stdout",
     "output_type": "stream",
     "text": [
      "[*********************100%***********************]  1 of 1 completed\n",
      "Descargando datos para BK...\n"
     ]
    },
    {
     "name": "stderr",
     "output_type": "stream",
     "text": [
      "/var/folders/db/zztlpw7s0bx2bpqqwrkksxg40000gp/T/ipykernel_21914/2993019566.py:7: FutureWarning: The frame.append method is deprecated and will be removed from pandas in a future version. Use pandas.concat instead.\n",
      "  sp500 = sp500.append(data)\n"
     ]
    },
    {
     "name": "stdout",
     "output_type": "stream",
     "text": [
      "[*********************100%***********************]  1 of 1 completed\n",
      "Descargando datos para BA...\n"
     ]
    },
    {
     "name": "stderr",
     "output_type": "stream",
     "text": [
      "/var/folders/db/zztlpw7s0bx2bpqqwrkksxg40000gp/T/ipykernel_21914/2993019566.py:7: FutureWarning: The frame.append method is deprecated and will be removed from pandas in a future version. Use pandas.concat instead.\n",
      "  sp500 = sp500.append(data)\n"
     ]
    },
    {
     "name": "stdout",
     "output_type": "stream",
     "text": [
      "[*********************100%***********************]  1 of 1 completed\n",
      "Descargando datos para BKNG...\n"
     ]
    },
    {
     "name": "stderr",
     "output_type": "stream",
     "text": [
      "/var/folders/db/zztlpw7s0bx2bpqqwrkksxg40000gp/T/ipykernel_21914/2993019566.py:7: FutureWarning: The frame.append method is deprecated and will be removed from pandas in a future version. Use pandas.concat instead.\n",
      "  sp500 = sp500.append(data)\n"
     ]
    },
    {
     "name": "stdout",
     "output_type": "stream",
     "text": [
      "[*********************100%***********************]  1 of 1 completed\n",
      "Descargando datos para BWA...\n"
     ]
    },
    {
     "name": "stderr",
     "output_type": "stream",
     "text": [
      "/var/folders/db/zztlpw7s0bx2bpqqwrkksxg40000gp/T/ipykernel_21914/2993019566.py:7: FutureWarning: The frame.append method is deprecated and will be removed from pandas in a future version. Use pandas.concat instead.\n",
      "  sp500 = sp500.append(data)\n"
     ]
    },
    {
     "name": "stdout",
     "output_type": "stream",
     "text": [
      "[*********************100%***********************]  1 of 1 completed\n",
      "Descargando datos para BXP...\n"
     ]
    },
    {
     "name": "stderr",
     "output_type": "stream",
     "text": [
      "/var/folders/db/zztlpw7s0bx2bpqqwrkksxg40000gp/T/ipykernel_21914/2993019566.py:7: FutureWarning: The frame.append method is deprecated and will be removed from pandas in a future version. Use pandas.concat instead.\n",
      "  sp500 = sp500.append(data)\n"
     ]
    },
    {
     "name": "stdout",
     "output_type": "stream",
     "text": [
      "[*********************100%***********************]  1 of 1 completed\n",
      "Descargando datos para BSX...\n"
     ]
    },
    {
     "name": "stderr",
     "output_type": "stream",
     "text": [
      "/var/folders/db/zztlpw7s0bx2bpqqwrkksxg40000gp/T/ipykernel_21914/2993019566.py:7: FutureWarning: The frame.append method is deprecated and will be removed from pandas in a future version. Use pandas.concat instead.\n",
      "  sp500 = sp500.append(data)\n"
     ]
    },
    {
     "name": "stdout",
     "output_type": "stream",
     "text": [
      "[*********************100%***********************]  1 of 1 completed\n",
      "Descargando datos para BMY...\n"
     ]
    },
    {
     "name": "stderr",
     "output_type": "stream",
     "text": [
      "/var/folders/db/zztlpw7s0bx2bpqqwrkksxg40000gp/T/ipykernel_21914/2993019566.py:7: FutureWarning: The frame.append method is deprecated and will be removed from pandas in a future version. Use pandas.concat instead.\n",
      "  sp500 = sp500.append(data)\n"
     ]
    },
    {
     "name": "stdout",
     "output_type": "stream",
     "text": [
      "[*********************100%***********************]  1 of 1 completed\n",
      "Descargando datos para AVGO...\n"
     ]
    },
    {
     "name": "stderr",
     "output_type": "stream",
     "text": [
      "/var/folders/db/zztlpw7s0bx2bpqqwrkksxg40000gp/T/ipykernel_21914/2993019566.py:7: FutureWarning: The frame.append method is deprecated and will be removed from pandas in a future version. Use pandas.concat instead.\n",
      "  sp500 = sp500.append(data)\n"
     ]
    },
    {
     "name": "stdout",
     "output_type": "stream",
     "text": [
      "[*********************100%***********************]  1 of 1 completed\n",
      "Descargando datos para BR...\n"
     ]
    },
    {
     "name": "stderr",
     "output_type": "stream",
     "text": [
      "/var/folders/db/zztlpw7s0bx2bpqqwrkksxg40000gp/T/ipykernel_21914/2993019566.py:7: FutureWarning: The frame.append method is deprecated and will be removed from pandas in a future version. Use pandas.concat instead.\n",
      "  sp500 = sp500.append(data)\n"
     ]
    },
    {
     "name": "stdout",
     "output_type": "stream",
     "text": [
      "[*********************100%***********************]  1 of 1 completed\n",
      "Descargando datos para BRO...\n"
     ]
    },
    {
     "name": "stderr",
     "output_type": "stream",
     "text": [
      "/var/folders/db/zztlpw7s0bx2bpqqwrkksxg40000gp/T/ipykernel_21914/2993019566.py:7: FutureWarning: The frame.append method is deprecated and will be removed from pandas in a future version. Use pandas.concat instead.\n",
      "  sp500 = sp500.append(data)\n"
     ]
    },
    {
     "name": "stdout",
     "output_type": "stream",
     "text": [
      "[*********************100%***********************]  1 of 1 completed\n",
      "Descargando datos para BF.B...\n"
     ]
    },
    {
     "name": "stderr",
     "output_type": "stream",
     "text": [
      "/var/folders/db/zztlpw7s0bx2bpqqwrkksxg40000gp/T/ipykernel_21914/2993019566.py:7: FutureWarning: The frame.append method is deprecated and will be removed from pandas in a future version. Use pandas.concat instead.\n",
      "  sp500 = sp500.append(data)\n"
     ]
    },
    {
     "name": "stdout",
     "output_type": "stream",
     "text": [
      "[*********************100%***********************]  1 of 1 completed\n",
      "\n",
      "1 Failed download:\n",
      "- BF.B: No data found for this date range, symbol may be delisted\n",
      "Descargando datos para CHRW...\n",
      "[*********************100%***********************]  1 of 1 completed\n",
      "Descargando datos para CDNS...\n"
     ]
    },
    {
     "name": "stderr",
     "output_type": "stream",
     "text": [
      "/var/folders/db/zztlpw7s0bx2bpqqwrkksxg40000gp/T/ipykernel_21914/2993019566.py:7: FutureWarning: The frame.append method is deprecated and will be removed from pandas in a future version. Use pandas.concat instead.\n",
      "  sp500 = sp500.append(data)\n"
     ]
    },
    {
     "name": "stdout",
     "output_type": "stream",
     "text": [
      "[*********************100%***********************]  1 of 1 completed\n",
      "Descargando datos para CZR...\n"
     ]
    },
    {
     "name": "stderr",
     "output_type": "stream",
     "text": [
      "/var/folders/db/zztlpw7s0bx2bpqqwrkksxg40000gp/T/ipykernel_21914/2993019566.py:7: FutureWarning: The frame.append method is deprecated and will be removed from pandas in a future version. Use pandas.concat instead.\n",
      "  sp500 = sp500.append(data)\n"
     ]
    },
    {
     "name": "stdout",
     "output_type": "stream",
     "text": [
      "[*********************100%***********************]  1 of 1 completed\n",
      "Descargando datos para CPT...\n"
     ]
    },
    {
     "name": "stderr",
     "output_type": "stream",
     "text": [
      "/var/folders/db/zztlpw7s0bx2bpqqwrkksxg40000gp/T/ipykernel_21914/2993019566.py:7: FutureWarning: The frame.append method is deprecated and will be removed from pandas in a future version. Use pandas.concat instead.\n",
      "  sp500 = sp500.append(data)\n"
     ]
    },
    {
     "name": "stdout",
     "output_type": "stream",
     "text": [
      "[*********************100%***********************]  1 of 1 completed\n",
      "Descargando datos para CPB...\n"
     ]
    },
    {
     "name": "stderr",
     "output_type": "stream",
     "text": [
      "/var/folders/db/zztlpw7s0bx2bpqqwrkksxg40000gp/T/ipykernel_21914/2993019566.py:7: FutureWarning: The frame.append method is deprecated and will be removed from pandas in a future version. Use pandas.concat instead.\n",
      "  sp500 = sp500.append(data)\n"
     ]
    },
    {
     "name": "stdout",
     "output_type": "stream",
     "text": [
      "[*********************100%***********************]  1 of 1 completed\n",
      "Descargando datos para COF...\n"
     ]
    },
    {
     "name": "stderr",
     "output_type": "stream",
     "text": [
      "/var/folders/db/zztlpw7s0bx2bpqqwrkksxg40000gp/T/ipykernel_21914/2993019566.py:7: FutureWarning: The frame.append method is deprecated and will be removed from pandas in a future version. Use pandas.concat instead.\n",
      "  sp500 = sp500.append(data)\n"
     ]
    },
    {
     "name": "stdout",
     "output_type": "stream",
     "text": [
      "[*********************100%***********************]  1 of 1 completed\n",
      "Descargando datos para CAH...\n"
     ]
    },
    {
     "name": "stderr",
     "output_type": "stream",
     "text": [
      "/var/folders/db/zztlpw7s0bx2bpqqwrkksxg40000gp/T/ipykernel_21914/2993019566.py:7: FutureWarning: The frame.append method is deprecated and will be removed from pandas in a future version. Use pandas.concat instead.\n",
      "  sp500 = sp500.append(data)\n"
     ]
    },
    {
     "name": "stdout",
     "output_type": "stream",
     "text": [
      "[*********************100%***********************]  1 of 1 completed\n",
      "Descargando datos para KMX...\n"
     ]
    },
    {
     "name": "stderr",
     "output_type": "stream",
     "text": [
      "/var/folders/db/zztlpw7s0bx2bpqqwrkksxg40000gp/T/ipykernel_21914/2993019566.py:7: FutureWarning: The frame.append method is deprecated and will be removed from pandas in a future version. Use pandas.concat instead.\n",
      "  sp500 = sp500.append(data)\n"
     ]
    },
    {
     "name": "stdout",
     "output_type": "stream",
     "text": [
      "[*********************100%***********************]  1 of 1 completed\n",
      "Descargando datos para CCL...\n"
     ]
    },
    {
     "name": "stderr",
     "output_type": "stream",
     "text": [
      "/var/folders/db/zztlpw7s0bx2bpqqwrkksxg40000gp/T/ipykernel_21914/2993019566.py:7: FutureWarning: The frame.append method is deprecated and will be removed from pandas in a future version. Use pandas.concat instead.\n",
      "  sp500 = sp500.append(data)\n"
     ]
    },
    {
     "name": "stdout",
     "output_type": "stream",
     "text": [
      "[*********************100%***********************]  1 of 1 completed\n",
      "Descargando datos para CARR...\n"
     ]
    },
    {
     "name": "stderr",
     "output_type": "stream",
     "text": [
      "/var/folders/db/zztlpw7s0bx2bpqqwrkksxg40000gp/T/ipykernel_21914/2993019566.py:7: FutureWarning: The frame.append method is deprecated and will be removed from pandas in a future version. Use pandas.concat instead.\n",
      "  sp500 = sp500.append(data)\n"
     ]
    },
    {
     "name": "stdout",
     "output_type": "stream",
     "text": [
      "[*********************100%***********************]  1 of 1 completed\n",
      "Descargando datos para CTLT...\n"
     ]
    },
    {
     "name": "stderr",
     "output_type": "stream",
     "text": [
      "/var/folders/db/zztlpw7s0bx2bpqqwrkksxg40000gp/T/ipykernel_21914/2993019566.py:7: FutureWarning: The frame.append method is deprecated and will be removed from pandas in a future version. Use pandas.concat instead.\n",
      "  sp500 = sp500.append(data)\n"
     ]
    },
    {
     "name": "stdout",
     "output_type": "stream",
     "text": [
      "[*********************100%***********************]  1 of 1 completed\n",
      "Descargando datos para CAT...\n"
     ]
    },
    {
     "name": "stderr",
     "output_type": "stream",
     "text": [
      "/var/folders/db/zztlpw7s0bx2bpqqwrkksxg40000gp/T/ipykernel_21914/2993019566.py:7: FutureWarning: The frame.append method is deprecated and will be removed from pandas in a future version. Use pandas.concat instead.\n",
      "  sp500 = sp500.append(data)\n"
     ]
    },
    {
     "name": "stdout",
     "output_type": "stream",
     "text": [
      "[*********************100%***********************]  1 of 1 completed\n",
      "Descargando datos para CBOE...\n"
     ]
    },
    {
     "name": "stderr",
     "output_type": "stream",
     "text": [
      "/var/folders/db/zztlpw7s0bx2bpqqwrkksxg40000gp/T/ipykernel_21914/2993019566.py:7: FutureWarning: The frame.append method is deprecated and will be removed from pandas in a future version. Use pandas.concat instead.\n",
      "  sp500 = sp500.append(data)\n"
     ]
    },
    {
     "name": "stdout",
     "output_type": "stream",
     "text": [
      "[*********************100%***********************]  1 of 1 completed\n",
      "Descargando datos para CBRE...\n"
     ]
    },
    {
     "name": "stderr",
     "output_type": "stream",
     "text": [
      "/var/folders/db/zztlpw7s0bx2bpqqwrkksxg40000gp/T/ipykernel_21914/2993019566.py:7: FutureWarning: The frame.append method is deprecated and will be removed from pandas in a future version. Use pandas.concat instead.\n",
      "  sp500 = sp500.append(data)\n"
     ]
    },
    {
     "name": "stdout",
     "output_type": "stream",
     "text": [
      "[*********************100%***********************]  1 of 1 completed\n",
      "Descargando datos para CDW...\n"
     ]
    },
    {
     "name": "stderr",
     "output_type": "stream",
     "text": [
      "/var/folders/db/zztlpw7s0bx2bpqqwrkksxg40000gp/T/ipykernel_21914/2993019566.py:7: FutureWarning: The frame.append method is deprecated and will be removed from pandas in a future version. Use pandas.concat instead.\n",
      "  sp500 = sp500.append(data)\n"
     ]
    },
    {
     "name": "stdout",
     "output_type": "stream",
     "text": [
      "[*********************100%***********************]  1 of 1 completed\n",
      "Descargando datos para CE...\n"
     ]
    },
    {
     "name": "stderr",
     "output_type": "stream",
     "text": [
      "/var/folders/db/zztlpw7s0bx2bpqqwrkksxg40000gp/T/ipykernel_21914/2993019566.py:7: FutureWarning: The frame.append method is deprecated and will be removed from pandas in a future version. Use pandas.concat instead.\n",
      "  sp500 = sp500.append(data)\n"
     ]
    },
    {
     "name": "stdout",
     "output_type": "stream",
     "text": [
      "[*********************100%***********************]  1 of 1 completed\n",
      "Descargando datos para CNC...\n"
     ]
    },
    {
     "name": "stderr",
     "output_type": "stream",
     "text": [
      "/var/folders/db/zztlpw7s0bx2bpqqwrkksxg40000gp/T/ipykernel_21914/2993019566.py:7: FutureWarning: The frame.append method is deprecated and will be removed from pandas in a future version. Use pandas.concat instead.\n",
      "  sp500 = sp500.append(data)\n"
     ]
    },
    {
     "name": "stdout",
     "output_type": "stream",
     "text": [
      "[*********************100%***********************]  1 of 1 completed\n",
      "Descargando datos para CNP...\n"
     ]
    },
    {
     "name": "stderr",
     "output_type": "stream",
     "text": [
      "/var/folders/db/zztlpw7s0bx2bpqqwrkksxg40000gp/T/ipykernel_21914/2993019566.py:7: FutureWarning: The frame.append method is deprecated and will be removed from pandas in a future version. Use pandas.concat instead.\n",
      "  sp500 = sp500.append(data)\n"
     ]
    },
    {
     "name": "stdout",
     "output_type": "stream",
     "text": [
      "[*********************100%***********************]  1 of 1 completed\n",
      "Descargando datos para CDAY...\n"
     ]
    },
    {
     "name": "stderr",
     "output_type": "stream",
     "text": [
      "/var/folders/db/zztlpw7s0bx2bpqqwrkksxg40000gp/T/ipykernel_21914/2993019566.py:7: FutureWarning: The frame.append method is deprecated and will be removed from pandas in a future version. Use pandas.concat instead.\n",
      "  sp500 = sp500.append(data)\n"
     ]
    },
    {
     "name": "stdout",
     "output_type": "stream",
     "text": [
      "[*********************100%***********************]  1 of 1 completed\n",
      "Descargando datos para CF...\n"
     ]
    },
    {
     "name": "stderr",
     "output_type": "stream",
     "text": [
      "/var/folders/db/zztlpw7s0bx2bpqqwrkksxg40000gp/T/ipykernel_21914/2993019566.py:7: FutureWarning: The frame.append method is deprecated and will be removed from pandas in a future version. Use pandas.concat instead.\n",
      "  sp500 = sp500.append(data)\n"
     ]
    },
    {
     "name": "stdout",
     "output_type": "stream",
     "text": [
      "[*********************100%***********************]  1 of 1 completed\n",
      "Descargando datos para CRL...\n"
     ]
    },
    {
     "name": "stderr",
     "output_type": "stream",
     "text": [
      "/var/folders/db/zztlpw7s0bx2bpqqwrkksxg40000gp/T/ipykernel_21914/2993019566.py:7: FutureWarning: The frame.append method is deprecated and will be removed from pandas in a future version. Use pandas.concat instead.\n",
      "  sp500 = sp500.append(data)\n"
     ]
    },
    {
     "name": "stdout",
     "output_type": "stream",
     "text": [
      "[*********************100%***********************]  1 of 1 completed\n",
      "Descargando datos para SCHW...\n"
     ]
    },
    {
     "name": "stderr",
     "output_type": "stream",
     "text": [
      "/var/folders/db/zztlpw7s0bx2bpqqwrkksxg40000gp/T/ipykernel_21914/2993019566.py:7: FutureWarning: The frame.append method is deprecated and will be removed from pandas in a future version. Use pandas.concat instead.\n",
      "  sp500 = sp500.append(data)\n"
     ]
    },
    {
     "name": "stdout",
     "output_type": "stream",
     "text": [
      "[*********************100%***********************]  1 of 1 completed\n",
      "Descargando datos para CHTR...\n"
     ]
    },
    {
     "name": "stderr",
     "output_type": "stream",
     "text": [
      "/var/folders/db/zztlpw7s0bx2bpqqwrkksxg40000gp/T/ipykernel_21914/2993019566.py:7: FutureWarning: The frame.append method is deprecated and will be removed from pandas in a future version. Use pandas.concat instead.\n",
      "  sp500 = sp500.append(data)\n"
     ]
    },
    {
     "name": "stdout",
     "output_type": "stream",
     "text": [
      "[*********************100%***********************]  1 of 1 completed\n",
      "Descargando datos para CVX...\n"
     ]
    },
    {
     "name": "stderr",
     "output_type": "stream",
     "text": [
      "/var/folders/db/zztlpw7s0bx2bpqqwrkksxg40000gp/T/ipykernel_21914/2993019566.py:7: FutureWarning: The frame.append method is deprecated and will be removed from pandas in a future version. Use pandas.concat instead.\n",
      "  sp500 = sp500.append(data)\n"
     ]
    },
    {
     "name": "stdout",
     "output_type": "stream",
     "text": [
      "[*********************100%***********************]  1 of 1 completed\n",
      "Descargando datos para CMG...\n"
     ]
    },
    {
     "name": "stderr",
     "output_type": "stream",
     "text": [
      "/var/folders/db/zztlpw7s0bx2bpqqwrkksxg40000gp/T/ipykernel_21914/2993019566.py:7: FutureWarning: The frame.append method is deprecated and will be removed from pandas in a future version. Use pandas.concat instead.\n",
      "  sp500 = sp500.append(data)\n"
     ]
    },
    {
     "name": "stdout",
     "output_type": "stream",
     "text": [
      "[*********************100%***********************]  1 of 1 completed\n",
      "Descargando datos para CB...\n"
     ]
    },
    {
     "name": "stderr",
     "output_type": "stream",
     "text": [
      "/var/folders/db/zztlpw7s0bx2bpqqwrkksxg40000gp/T/ipykernel_21914/2993019566.py:7: FutureWarning: The frame.append method is deprecated and will be removed from pandas in a future version. Use pandas.concat instead.\n",
      "  sp500 = sp500.append(data)\n"
     ]
    },
    {
     "name": "stdout",
     "output_type": "stream",
     "text": [
      "[*********************100%***********************]  1 of 1 completed\n",
      "Descargando datos para CHD...\n"
     ]
    },
    {
     "name": "stderr",
     "output_type": "stream",
     "text": [
      "/var/folders/db/zztlpw7s0bx2bpqqwrkksxg40000gp/T/ipykernel_21914/2993019566.py:7: FutureWarning: The frame.append method is deprecated and will be removed from pandas in a future version. Use pandas.concat instead.\n",
      "  sp500 = sp500.append(data)\n"
     ]
    },
    {
     "name": "stdout",
     "output_type": "stream",
     "text": [
      "[*********************100%***********************]  1 of 1 completed\n",
      "Descargando datos para CI...\n"
     ]
    },
    {
     "name": "stderr",
     "output_type": "stream",
     "text": [
      "/var/folders/db/zztlpw7s0bx2bpqqwrkksxg40000gp/T/ipykernel_21914/2993019566.py:7: FutureWarning: The frame.append method is deprecated and will be removed from pandas in a future version. Use pandas.concat instead.\n",
      "  sp500 = sp500.append(data)\n"
     ]
    },
    {
     "name": "stdout",
     "output_type": "stream",
     "text": [
      "[*********************100%***********************]  1 of 1 completed\n",
      "Descargando datos para CINF...\n"
     ]
    },
    {
     "name": "stderr",
     "output_type": "stream",
     "text": [
      "/var/folders/db/zztlpw7s0bx2bpqqwrkksxg40000gp/T/ipykernel_21914/2993019566.py:7: FutureWarning: The frame.append method is deprecated and will be removed from pandas in a future version. Use pandas.concat instead.\n",
      "  sp500 = sp500.append(data)\n"
     ]
    },
    {
     "name": "stdout",
     "output_type": "stream",
     "text": [
      "[*********************100%***********************]  1 of 1 completed\n",
      "Descargando datos para CTAS...\n"
     ]
    },
    {
     "name": "stderr",
     "output_type": "stream",
     "text": [
      "/var/folders/db/zztlpw7s0bx2bpqqwrkksxg40000gp/T/ipykernel_21914/2993019566.py:7: FutureWarning: The frame.append method is deprecated and will be removed from pandas in a future version. Use pandas.concat instead.\n",
      "  sp500 = sp500.append(data)\n"
     ]
    },
    {
     "name": "stdout",
     "output_type": "stream",
     "text": [
      "[*********************100%***********************]  1 of 1 completed\n",
      "Descargando datos para CSCO...\n"
     ]
    },
    {
     "name": "stderr",
     "output_type": "stream",
     "text": [
      "/var/folders/db/zztlpw7s0bx2bpqqwrkksxg40000gp/T/ipykernel_21914/2993019566.py:7: FutureWarning: The frame.append method is deprecated and will be removed from pandas in a future version. Use pandas.concat instead.\n",
      "  sp500 = sp500.append(data)\n"
     ]
    },
    {
     "name": "stdout",
     "output_type": "stream",
     "text": [
      "[*********************100%***********************]  1 of 1 completed\n",
      "Descargando datos para C...\n"
     ]
    },
    {
     "name": "stderr",
     "output_type": "stream",
     "text": [
      "/var/folders/db/zztlpw7s0bx2bpqqwrkksxg40000gp/T/ipykernel_21914/2993019566.py:7: FutureWarning: The frame.append method is deprecated and will be removed from pandas in a future version. Use pandas.concat instead.\n",
      "  sp500 = sp500.append(data)\n"
     ]
    },
    {
     "name": "stdout",
     "output_type": "stream",
     "text": [
      "[*********************100%***********************]  1 of 1 completed\n",
      "Descargando datos para CFG...\n"
     ]
    },
    {
     "name": "stderr",
     "output_type": "stream",
     "text": [
      "/var/folders/db/zztlpw7s0bx2bpqqwrkksxg40000gp/T/ipykernel_21914/2993019566.py:7: FutureWarning: The frame.append method is deprecated and will be removed from pandas in a future version. Use pandas.concat instead.\n",
      "  sp500 = sp500.append(data)\n"
     ]
    },
    {
     "name": "stdout",
     "output_type": "stream",
     "text": [
      "[*********************100%***********************]  1 of 1 completed\n",
      "Descargando datos para CLX...\n"
     ]
    },
    {
     "name": "stderr",
     "output_type": "stream",
     "text": [
      "/var/folders/db/zztlpw7s0bx2bpqqwrkksxg40000gp/T/ipykernel_21914/2993019566.py:7: FutureWarning: The frame.append method is deprecated and will be removed from pandas in a future version. Use pandas.concat instead.\n",
      "  sp500 = sp500.append(data)\n"
     ]
    },
    {
     "name": "stdout",
     "output_type": "stream",
     "text": [
      "[*********************100%***********************]  1 of 1 completed\n",
      "Descargando datos para CME...\n"
     ]
    },
    {
     "name": "stderr",
     "output_type": "stream",
     "text": [
      "/var/folders/db/zztlpw7s0bx2bpqqwrkksxg40000gp/T/ipykernel_21914/2993019566.py:7: FutureWarning: The frame.append method is deprecated and will be removed from pandas in a future version. Use pandas.concat instead.\n",
      "  sp500 = sp500.append(data)\n"
     ]
    },
    {
     "name": "stdout",
     "output_type": "stream",
     "text": [
      "[*********************100%***********************]  1 of 1 completed\n",
      "Descargando datos para CMS...\n"
     ]
    },
    {
     "name": "stderr",
     "output_type": "stream",
     "text": [
      "/var/folders/db/zztlpw7s0bx2bpqqwrkksxg40000gp/T/ipykernel_21914/2993019566.py:7: FutureWarning: The frame.append method is deprecated and will be removed from pandas in a future version. Use pandas.concat instead.\n",
      "  sp500 = sp500.append(data)\n"
     ]
    },
    {
     "name": "stdout",
     "output_type": "stream",
     "text": [
      "[*********************100%***********************]  1 of 1 completed\n",
      "Descargando datos para KO...\n"
     ]
    },
    {
     "name": "stderr",
     "output_type": "stream",
     "text": [
      "/var/folders/db/zztlpw7s0bx2bpqqwrkksxg40000gp/T/ipykernel_21914/2993019566.py:7: FutureWarning: The frame.append method is deprecated and will be removed from pandas in a future version. Use pandas.concat instead.\n",
      "  sp500 = sp500.append(data)\n"
     ]
    },
    {
     "name": "stdout",
     "output_type": "stream",
     "text": [
      "[*********************100%***********************]  1 of 1 completed\n",
      "Descargando datos para CTSH...\n"
     ]
    },
    {
     "name": "stderr",
     "output_type": "stream",
     "text": [
      "/var/folders/db/zztlpw7s0bx2bpqqwrkksxg40000gp/T/ipykernel_21914/2993019566.py:7: FutureWarning: The frame.append method is deprecated and will be removed from pandas in a future version. Use pandas.concat instead.\n",
      "  sp500 = sp500.append(data)\n"
     ]
    },
    {
     "name": "stdout",
     "output_type": "stream",
     "text": [
      "[*********************100%***********************]  1 of 1 completed\n",
      "Descargando datos para CL...\n"
     ]
    },
    {
     "name": "stderr",
     "output_type": "stream",
     "text": [
      "/var/folders/db/zztlpw7s0bx2bpqqwrkksxg40000gp/T/ipykernel_21914/2993019566.py:7: FutureWarning: The frame.append method is deprecated and will be removed from pandas in a future version. Use pandas.concat instead.\n",
      "  sp500 = sp500.append(data)\n"
     ]
    },
    {
     "name": "stdout",
     "output_type": "stream",
     "text": [
      "[*********************100%***********************]  1 of 1 completed\n",
      "Descargando datos para CMCSA...\n"
     ]
    },
    {
     "name": "stderr",
     "output_type": "stream",
     "text": [
      "/var/folders/db/zztlpw7s0bx2bpqqwrkksxg40000gp/T/ipykernel_21914/2993019566.py:7: FutureWarning: The frame.append method is deprecated and will be removed from pandas in a future version. Use pandas.concat instead.\n",
      "  sp500 = sp500.append(data)\n"
     ]
    },
    {
     "name": "stdout",
     "output_type": "stream",
     "text": [
      "[*********************100%***********************]  1 of 1 completed\n",
      "Descargando datos para CMA...\n"
     ]
    },
    {
     "name": "stderr",
     "output_type": "stream",
     "text": [
      "/var/folders/db/zztlpw7s0bx2bpqqwrkksxg40000gp/T/ipykernel_21914/2993019566.py:7: FutureWarning: The frame.append method is deprecated and will be removed from pandas in a future version. Use pandas.concat instead.\n",
      "  sp500 = sp500.append(data)\n"
     ]
    },
    {
     "name": "stdout",
     "output_type": "stream",
     "text": [
      "[*********************100%***********************]  1 of 1 completed\n",
      "Descargando datos para CAG...\n"
     ]
    },
    {
     "name": "stderr",
     "output_type": "stream",
     "text": [
      "/var/folders/db/zztlpw7s0bx2bpqqwrkksxg40000gp/T/ipykernel_21914/2993019566.py:7: FutureWarning: The frame.append method is deprecated and will be removed from pandas in a future version. Use pandas.concat instead.\n",
      "  sp500 = sp500.append(data)\n"
     ]
    },
    {
     "name": "stdout",
     "output_type": "stream",
     "text": [
      "[*********************100%***********************]  1 of 1 completed\n",
      "Descargando datos para COP...\n"
     ]
    },
    {
     "name": "stderr",
     "output_type": "stream",
     "text": [
      "/var/folders/db/zztlpw7s0bx2bpqqwrkksxg40000gp/T/ipykernel_21914/2993019566.py:7: FutureWarning: The frame.append method is deprecated and will be removed from pandas in a future version. Use pandas.concat instead.\n",
      "  sp500 = sp500.append(data)\n"
     ]
    },
    {
     "name": "stdout",
     "output_type": "stream",
     "text": [
      "[*********************100%***********************]  1 of 1 completed\n",
      "Descargando datos para ED...\n"
     ]
    },
    {
     "name": "stderr",
     "output_type": "stream",
     "text": [
      "/var/folders/db/zztlpw7s0bx2bpqqwrkksxg40000gp/T/ipykernel_21914/2993019566.py:7: FutureWarning: The frame.append method is deprecated and will be removed from pandas in a future version. Use pandas.concat instead.\n",
      "  sp500 = sp500.append(data)\n"
     ]
    },
    {
     "name": "stdout",
     "output_type": "stream",
     "text": [
      "[*********************100%***********************]  1 of 1 completed\n",
      "Descargando datos para STZ...\n"
     ]
    },
    {
     "name": "stderr",
     "output_type": "stream",
     "text": [
      "/var/folders/db/zztlpw7s0bx2bpqqwrkksxg40000gp/T/ipykernel_21914/2993019566.py:7: FutureWarning: The frame.append method is deprecated and will be removed from pandas in a future version. Use pandas.concat instead.\n",
      "  sp500 = sp500.append(data)\n"
     ]
    },
    {
     "name": "stdout",
     "output_type": "stream",
     "text": [
      "[*********************100%***********************]  1 of 1 completed\n",
      "Descargando datos para CEG...\n"
     ]
    },
    {
     "name": "stderr",
     "output_type": "stream",
     "text": [
      "/var/folders/db/zztlpw7s0bx2bpqqwrkksxg40000gp/T/ipykernel_21914/2993019566.py:7: FutureWarning: The frame.append method is deprecated and will be removed from pandas in a future version. Use pandas.concat instead.\n",
      "  sp500 = sp500.append(data)\n"
     ]
    },
    {
     "name": "stdout",
     "output_type": "stream",
     "text": [
      "[*********************100%***********************]  1 of 1 completed\n",
      "Descargando datos para COO...\n"
     ]
    },
    {
     "name": "stderr",
     "output_type": "stream",
     "text": [
      "/var/folders/db/zztlpw7s0bx2bpqqwrkksxg40000gp/T/ipykernel_21914/2993019566.py:7: FutureWarning: The frame.append method is deprecated and will be removed from pandas in a future version. Use pandas.concat instead.\n",
      "  sp500 = sp500.append(data)\n"
     ]
    },
    {
     "name": "stdout",
     "output_type": "stream",
     "text": [
      "[*********************100%***********************]  1 of 1 completed\n",
      "Descargando datos para CPRT...\n"
     ]
    },
    {
     "name": "stderr",
     "output_type": "stream",
     "text": [
      "/var/folders/db/zztlpw7s0bx2bpqqwrkksxg40000gp/T/ipykernel_21914/2993019566.py:7: FutureWarning: The frame.append method is deprecated and will be removed from pandas in a future version. Use pandas.concat instead.\n",
      "  sp500 = sp500.append(data)\n"
     ]
    },
    {
     "name": "stdout",
     "output_type": "stream",
     "text": [
      "[*********************100%***********************]  1 of 1 completed\n",
      "Descargando datos para GLW...\n"
     ]
    },
    {
     "name": "stderr",
     "output_type": "stream",
     "text": [
      "/var/folders/db/zztlpw7s0bx2bpqqwrkksxg40000gp/T/ipykernel_21914/2993019566.py:7: FutureWarning: The frame.append method is deprecated and will be removed from pandas in a future version. Use pandas.concat instead.\n",
      "  sp500 = sp500.append(data)\n"
     ]
    },
    {
     "name": "stdout",
     "output_type": "stream",
     "text": [
      "[*********************100%***********************]  1 of 1 completed\n",
      "Descargando datos para CTVA...\n"
     ]
    },
    {
     "name": "stderr",
     "output_type": "stream",
     "text": [
      "/var/folders/db/zztlpw7s0bx2bpqqwrkksxg40000gp/T/ipykernel_21914/2993019566.py:7: FutureWarning: The frame.append method is deprecated and will be removed from pandas in a future version. Use pandas.concat instead.\n",
      "  sp500 = sp500.append(data)\n"
     ]
    },
    {
     "name": "stdout",
     "output_type": "stream",
     "text": [
      "[*********************100%***********************]  1 of 1 completed\n",
      "Descargando datos para CSGP...\n"
     ]
    },
    {
     "name": "stderr",
     "output_type": "stream",
     "text": [
      "/var/folders/db/zztlpw7s0bx2bpqqwrkksxg40000gp/T/ipykernel_21914/2993019566.py:7: FutureWarning: The frame.append method is deprecated and will be removed from pandas in a future version. Use pandas.concat instead.\n",
      "  sp500 = sp500.append(data)\n"
     ]
    },
    {
     "name": "stdout",
     "output_type": "stream",
     "text": [
      "[*********************100%***********************]  1 of 1 completed\n",
      "Descargando datos para COST...\n"
     ]
    },
    {
     "name": "stderr",
     "output_type": "stream",
     "text": [
      "/var/folders/db/zztlpw7s0bx2bpqqwrkksxg40000gp/T/ipykernel_21914/2993019566.py:7: FutureWarning: The frame.append method is deprecated and will be removed from pandas in a future version. Use pandas.concat instead.\n",
      "  sp500 = sp500.append(data)\n"
     ]
    },
    {
     "name": "stdout",
     "output_type": "stream",
     "text": [
      "[*********************100%***********************]  1 of 1 completed\n",
      "Descargando datos para CTRA...\n"
     ]
    },
    {
     "name": "stderr",
     "output_type": "stream",
     "text": [
      "/var/folders/db/zztlpw7s0bx2bpqqwrkksxg40000gp/T/ipykernel_21914/2993019566.py:7: FutureWarning: The frame.append method is deprecated and will be removed from pandas in a future version. Use pandas.concat instead.\n",
      "  sp500 = sp500.append(data)\n"
     ]
    },
    {
     "name": "stdout",
     "output_type": "stream",
     "text": [
      "[*********************100%***********************]  1 of 1 completed\n",
      "Descargando datos para CCI...\n"
     ]
    },
    {
     "name": "stderr",
     "output_type": "stream",
     "text": [
      "/var/folders/db/zztlpw7s0bx2bpqqwrkksxg40000gp/T/ipykernel_21914/2993019566.py:7: FutureWarning: The frame.append method is deprecated and will be removed from pandas in a future version. Use pandas.concat instead.\n",
      "  sp500 = sp500.append(data)\n"
     ]
    },
    {
     "name": "stdout",
     "output_type": "stream",
     "text": [
      "[*********************100%***********************]  1 of 1 completed\n",
      "Descargando datos para CSX...\n"
     ]
    },
    {
     "name": "stderr",
     "output_type": "stream",
     "text": [
      "/var/folders/db/zztlpw7s0bx2bpqqwrkksxg40000gp/T/ipykernel_21914/2993019566.py:7: FutureWarning: The frame.append method is deprecated and will be removed from pandas in a future version. Use pandas.concat instead.\n",
      "  sp500 = sp500.append(data)\n"
     ]
    },
    {
     "name": "stdout",
     "output_type": "stream",
     "text": [
      "[*********************100%***********************]  1 of 1 completed\n",
      "Descargando datos para CMI...\n"
     ]
    },
    {
     "name": "stderr",
     "output_type": "stream",
     "text": [
      "/var/folders/db/zztlpw7s0bx2bpqqwrkksxg40000gp/T/ipykernel_21914/2993019566.py:7: FutureWarning: The frame.append method is deprecated and will be removed from pandas in a future version. Use pandas.concat instead.\n",
      "  sp500 = sp500.append(data)\n"
     ]
    },
    {
     "name": "stdout",
     "output_type": "stream",
     "text": [
      "[*********************100%***********************]  1 of 1 completed\n",
      "Descargando datos para CVS...\n"
     ]
    },
    {
     "name": "stderr",
     "output_type": "stream",
     "text": [
      "/var/folders/db/zztlpw7s0bx2bpqqwrkksxg40000gp/T/ipykernel_21914/2993019566.py:7: FutureWarning: The frame.append method is deprecated and will be removed from pandas in a future version. Use pandas.concat instead.\n",
      "  sp500 = sp500.append(data)\n"
     ]
    },
    {
     "name": "stdout",
     "output_type": "stream",
     "text": [
      "[*********************100%***********************]  1 of 1 completed\n",
      "Descargando datos para DHI...\n"
     ]
    },
    {
     "name": "stderr",
     "output_type": "stream",
     "text": [
      "/var/folders/db/zztlpw7s0bx2bpqqwrkksxg40000gp/T/ipykernel_21914/2993019566.py:7: FutureWarning: The frame.append method is deprecated and will be removed from pandas in a future version. Use pandas.concat instead.\n",
      "  sp500 = sp500.append(data)\n"
     ]
    },
    {
     "name": "stdout",
     "output_type": "stream",
     "text": [
      "[*********************100%***********************]  1 of 1 completed\n",
      "Descargando datos para DHR...\n"
     ]
    },
    {
     "name": "stderr",
     "output_type": "stream",
     "text": [
      "/var/folders/db/zztlpw7s0bx2bpqqwrkksxg40000gp/T/ipykernel_21914/2993019566.py:7: FutureWarning: The frame.append method is deprecated and will be removed from pandas in a future version. Use pandas.concat instead.\n",
      "  sp500 = sp500.append(data)\n"
     ]
    },
    {
     "name": "stdout",
     "output_type": "stream",
     "text": [
      "[*********************100%***********************]  1 of 1 completed\n",
      "Descargando datos para DRI...\n"
     ]
    },
    {
     "name": "stderr",
     "output_type": "stream",
     "text": [
      "/var/folders/db/zztlpw7s0bx2bpqqwrkksxg40000gp/T/ipykernel_21914/2993019566.py:7: FutureWarning: The frame.append method is deprecated and will be removed from pandas in a future version. Use pandas.concat instead.\n",
      "  sp500 = sp500.append(data)\n"
     ]
    },
    {
     "name": "stdout",
     "output_type": "stream",
     "text": [
      "[*********************100%***********************]  1 of 1 completed\n",
      "Descargando datos para DVA...\n"
     ]
    },
    {
     "name": "stderr",
     "output_type": "stream",
     "text": [
      "/var/folders/db/zztlpw7s0bx2bpqqwrkksxg40000gp/T/ipykernel_21914/2993019566.py:7: FutureWarning: The frame.append method is deprecated and will be removed from pandas in a future version. Use pandas.concat instead.\n",
      "  sp500 = sp500.append(data)\n"
     ]
    },
    {
     "name": "stdout",
     "output_type": "stream",
     "text": [
      "[*********************100%***********************]  1 of 1 completed\n",
      "Descargando datos para DE...\n"
     ]
    },
    {
     "name": "stderr",
     "output_type": "stream",
     "text": [
      "/var/folders/db/zztlpw7s0bx2bpqqwrkksxg40000gp/T/ipykernel_21914/2993019566.py:7: FutureWarning: The frame.append method is deprecated and will be removed from pandas in a future version. Use pandas.concat instead.\n",
      "  sp500 = sp500.append(data)\n"
     ]
    },
    {
     "name": "stdout",
     "output_type": "stream",
     "text": [
      "[*********************100%***********************]  1 of 1 completed\n",
      "Descargando datos para DAL...\n"
     ]
    },
    {
     "name": "stderr",
     "output_type": "stream",
     "text": [
      "/var/folders/db/zztlpw7s0bx2bpqqwrkksxg40000gp/T/ipykernel_21914/2993019566.py:7: FutureWarning: The frame.append method is deprecated and will be removed from pandas in a future version. Use pandas.concat instead.\n",
      "  sp500 = sp500.append(data)\n"
     ]
    },
    {
     "name": "stdout",
     "output_type": "stream",
     "text": [
      "[*********************100%***********************]  1 of 1 completed\n",
      "Descargando datos para XRAY...\n"
     ]
    },
    {
     "name": "stderr",
     "output_type": "stream",
     "text": [
      "/var/folders/db/zztlpw7s0bx2bpqqwrkksxg40000gp/T/ipykernel_21914/2993019566.py:7: FutureWarning: The frame.append method is deprecated and will be removed from pandas in a future version. Use pandas.concat instead.\n",
      "  sp500 = sp500.append(data)\n"
     ]
    },
    {
     "name": "stdout",
     "output_type": "stream",
     "text": [
      "[*********************100%***********************]  1 of 1 completed\n",
      "Descargando datos para DVN...\n"
     ]
    },
    {
     "name": "stderr",
     "output_type": "stream",
     "text": [
      "/var/folders/db/zztlpw7s0bx2bpqqwrkksxg40000gp/T/ipykernel_21914/2993019566.py:7: FutureWarning: The frame.append method is deprecated and will be removed from pandas in a future version. Use pandas.concat instead.\n",
      "  sp500 = sp500.append(data)\n"
     ]
    },
    {
     "name": "stdout",
     "output_type": "stream",
     "text": [
      "[*********************100%***********************]  1 of 1 completed\n",
      "Descargando datos para DXCM...\n"
     ]
    },
    {
     "name": "stderr",
     "output_type": "stream",
     "text": [
      "/var/folders/db/zztlpw7s0bx2bpqqwrkksxg40000gp/T/ipykernel_21914/2993019566.py:7: FutureWarning: The frame.append method is deprecated and will be removed from pandas in a future version. Use pandas.concat instead.\n",
      "  sp500 = sp500.append(data)\n"
     ]
    },
    {
     "name": "stdout",
     "output_type": "stream",
     "text": [
      "[*********************100%***********************]  1 of 1 completed\n",
      "Descargando datos para FANG...\n"
     ]
    },
    {
     "name": "stderr",
     "output_type": "stream",
     "text": [
      "/var/folders/db/zztlpw7s0bx2bpqqwrkksxg40000gp/T/ipykernel_21914/2993019566.py:7: FutureWarning: The frame.append method is deprecated and will be removed from pandas in a future version. Use pandas.concat instead.\n",
      "  sp500 = sp500.append(data)\n"
     ]
    },
    {
     "name": "stdout",
     "output_type": "stream",
     "text": [
      "[*********************100%***********************]  1 of 1 completed\n",
      "Descargando datos para DLR...\n"
     ]
    },
    {
     "name": "stderr",
     "output_type": "stream",
     "text": [
      "/var/folders/db/zztlpw7s0bx2bpqqwrkksxg40000gp/T/ipykernel_21914/2993019566.py:7: FutureWarning: The frame.append method is deprecated and will be removed from pandas in a future version. Use pandas.concat instead.\n",
      "  sp500 = sp500.append(data)\n"
     ]
    },
    {
     "name": "stdout",
     "output_type": "stream",
     "text": [
      "[*********************100%***********************]  1 of 1 completed\n",
      "Descargando datos para DFS...\n"
     ]
    },
    {
     "name": "stderr",
     "output_type": "stream",
     "text": [
      "/var/folders/db/zztlpw7s0bx2bpqqwrkksxg40000gp/T/ipykernel_21914/2993019566.py:7: FutureWarning: The frame.append method is deprecated and will be removed from pandas in a future version. Use pandas.concat instead.\n",
      "  sp500 = sp500.append(data)\n"
     ]
    },
    {
     "name": "stdout",
     "output_type": "stream",
     "text": [
      "[*********************100%***********************]  1 of 1 completed\n",
      "Descargando datos para DISH...\n"
     ]
    },
    {
     "name": "stderr",
     "output_type": "stream",
     "text": [
      "/var/folders/db/zztlpw7s0bx2bpqqwrkksxg40000gp/T/ipykernel_21914/2993019566.py:7: FutureWarning: The frame.append method is deprecated and will be removed from pandas in a future version. Use pandas.concat instead.\n",
      "  sp500 = sp500.append(data)\n"
     ]
    },
    {
     "name": "stdout",
     "output_type": "stream",
     "text": [
      "[*********************100%***********************]  1 of 1 completed\n",
      "Descargando datos para DIS...\n"
     ]
    },
    {
     "name": "stderr",
     "output_type": "stream",
     "text": [
      "/var/folders/db/zztlpw7s0bx2bpqqwrkksxg40000gp/T/ipykernel_21914/2993019566.py:7: FutureWarning: The frame.append method is deprecated and will be removed from pandas in a future version. Use pandas.concat instead.\n",
      "  sp500 = sp500.append(data)\n"
     ]
    },
    {
     "name": "stdout",
     "output_type": "stream",
     "text": [
      "[*********************100%***********************]  1 of 1 completed\n",
      "Descargando datos para DG...\n"
     ]
    },
    {
     "name": "stderr",
     "output_type": "stream",
     "text": [
      "/var/folders/db/zztlpw7s0bx2bpqqwrkksxg40000gp/T/ipykernel_21914/2993019566.py:7: FutureWarning: The frame.append method is deprecated and will be removed from pandas in a future version. Use pandas.concat instead.\n",
      "  sp500 = sp500.append(data)\n"
     ]
    },
    {
     "name": "stdout",
     "output_type": "stream",
     "text": [
      "[*********************100%***********************]  1 of 1 completed\n",
      "Descargando datos para DLTR...\n"
     ]
    },
    {
     "name": "stderr",
     "output_type": "stream",
     "text": [
      "/var/folders/db/zztlpw7s0bx2bpqqwrkksxg40000gp/T/ipykernel_21914/2993019566.py:7: FutureWarning: The frame.append method is deprecated and will be removed from pandas in a future version. Use pandas.concat instead.\n",
      "  sp500 = sp500.append(data)\n"
     ]
    },
    {
     "name": "stdout",
     "output_type": "stream",
     "text": [
      "[*********************100%***********************]  1 of 1 completed\n",
      "Descargando datos para D...\n"
     ]
    },
    {
     "name": "stderr",
     "output_type": "stream",
     "text": [
      "/var/folders/db/zztlpw7s0bx2bpqqwrkksxg40000gp/T/ipykernel_21914/2993019566.py:7: FutureWarning: The frame.append method is deprecated and will be removed from pandas in a future version. Use pandas.concat instead.\n",
      "  sp500 = sp500.append(data)\n"
     ]
    },
    {
     "name": "stdout",
     "output_type": "stream",
     "text": [
      "[*********************100%***********************]  1 of 1 completed\n",
      "Descargando datos para DPZ...\n"
     ]
    },
    {
     "name": "stderr",
     "output_type": "stream",
     "text": [
      "/var/folders/db/zztlpw7s0bx2bpqqwrkksxg40000gp/T/ipykernel_21914/2993019566.py:7: FutureWarning: The frame.append method is deprecated and will be removed from pandas in a future version. Use pandas.concat instead.\n",
      "  sp500 = sp500.append(data)\n"
     ]
    },
    {
     "name": "stdout",
     "output_type": "stream",
     "text": [
      "[*********************100%***********************]  1 of 1 completed\n",
      "Descargando datos para DOV...\n"
     ]
    },
    {
     "name": "stderr",
     "output_type": "stream",
     "text": [
      "/var/folders/db/zztlpw7s0bx2bpqqwrkksxg40000gp/T/ipykernel_21914/2993019566.py:7: FutureWarning: The frame.append method is deprecated and will be removed from pandas in a future version. Use pandas.concat instead.\n",
      "  sp500 = sp500.append(data)\n"
     ]
    },
    {
     "name": "stdout",
     "output_type": "stream",
     "text": [
      "[*********************100%***********************]  1 of 1 completed\n",
      "Descargando datos para DOW...\n"
     ]
    },
    {
     "name": "stderr",
     "output_type": "stream",
     "text": [
      "/var/folders/db/zztlpw7s0bx2bpqqwrkksxg40000gp/T/ipykernel_21914/2993019566.py:7: FutureWarning: The frame.append method is deprecated and will be removed from pandas in a future version. Use pandas.concat instead.\n",
      "  sp500 = sp500.append(data)\n"
     ]
    },
    {
     "name": "stdout",
     "output_type": "stream",
     "text": [
      "[*********************100%***********************]  1 of 1 completed\n",
      "Descargando datos para DTE...\n"
     ]
    },
    {
     "name": "stderr",
     "output_type": "stream",
     "text": [
      "/var/folders/db/zztlpw7s0bx2bpqqwrkksxg40000gp/T/ipykernel_21914/2993019566.py:7: FutureWarning: The frame.append method is deprecated and will be removed from pandas in a future version. Use pandas.concat instead.\n",
      "  sp500 = sp500.append(data)\n"
     ]
    },
    {
     "name": "stdout",
     "output_type": "stream",
     "text": [
      "[*********************100%***********************]  1 of 1 completed\n",
      "Descargando datos para DUK...\n"
     ]
    },
    {
     "name": "stderr",
     "output_type": "stream",
     "text": [
      "/var/folders/db/zztlpw7s0bx2bpqqwrkksxg40000gp/T/ipykernel_21914/2993019566.py:7: FutureWarning: The frame.append method is deprecated and will be removed from pandas in a future version. Use pandas.concat instead.\n",
      "  sp500 = sp500.append(data)\n"
     ]
    },
    {
     "name": "stdout",
     "output_type": "stream",
     "text": [
      "[*********************100%***********************]  1 of 1 completed\n",
      "Descargando datos para DD...\n"
     ]
    },
    {
     "name": "stderr",
     "output_type": "stream",
     "text": [
      "/var/folders/db/zztlpw7s0bx2bpqqwrkksxg40000gp/T/ipykernel_21914/2993019566.py:7: FutureWarning: The frame.append method is deprecated and will be removed from pandas in a future version. Use pandas.concat instead.\n",
      "  sp500 = sp500.append(data)\n"
     ]
    },
    {
     "name": "stdout",
     "output_type": "stream",
     "text": [
      "[*********************100%***********************]  1 of 1 completed\n",
      "Descargando datos para DXC...\n"
     ]
    },
    {
     "name": "stderr",
     "output_type": "stream",
     "text": [
      "/var/folders/db/zztlpw7s0bx2bpqqwrkksxg40000gp/T/ipykernel_21914/2993019566.py:7: FutureWarning: The frame.append method is deprecated and will be removed from pandas in a future version. Use pandas.concat instead.\n",
      "  sp500 = sp500.append(data)\n"
     ]
    },
    {
     "name": "stdout",
     "output_type": "stream",
     "text": [
      "[*********************100%***********************]  1 of 1 completed\n",
      "Descargando datos para EMN...\n"
     ]
    },
    {
     "name": "stderr",
     "output_type": "stream",
     "text": [
      "/var/folders/db/zztlpw7s0bx2bpqqwrkksxg40000gp/T/ipykernel_21914/2993019566.py:7: FutureWarning: The frame.append method is deprecated and will be removed from pandas in a future version. Use pandas.concat instead.\n",
      "  sp500 = sp500.append(data)\n"
     ]
    },
    {
     "name": "stdout",
     "output_type": "stream",
     "text": [
      "[*********************100%***********************]  1 of 1 completed\n",
      "Descargando datos para ETN...\n"
     ]
    },
    {
     "name": "stderr",
     "output_type": "stream",
     "text": [
      "/var/folders/db/zztlpw7s0bx2bpqqwrkksxg40000gp/T/ipykernel_21914/2993019566.py:7: FutureWarning: The frame.append method is deprecated and will be removed from pandas in a future version. Use pandas.concat instead.\n",
      "  sp500 = sp500.append(data)\n"
     ]
    },
    {
     "name": "stdout",
     "output_type": "stream",
     "text": [
      "[*********************100%***********************]  1 of 1 completed\n",
      "Descargando datos para EBAY...\n"
     ]
    },
    {
     "name": "stderr",
     "output_type": "stream",
     "text": [
      "/var/folders/db/zztlpw7s0bx2bpqqwrkksxg40000gp/T/ipykernel_21914/2993019566.py:7: FutureWarning: The frame.append method is deprecated and will be removed from pandas in a future version. Use pandas.concat instead.\n",
      "  sp500 = sp500.append(data)\n"
     ]
    },
    {
     "name": "stdout",
     "output_type": "stream",
     "text": [
      "[*********************100%***********************]  1 of 1 completed\n",
      "Descargando datos para ECL...\n"
     ]
    },
    {
     "name": "stderr",
     "output_type": "stream",
     "text": [
      "/var/folders/db/zztlpw7s0bx2bpqqwrkksxg40000gp/T/ipykernel_21914/2993019566.py:7: FutureWarning: The frame.append method is deprecated and will be removed from pandas in a future version. Use pandas.concat instead.\n",
      "  sp500 = sp500.append(data)\n"
     ]
    },
    {
     "name": "stdout",
     "output_type": "stream",
     "text": [
      "[*********************100%***********************]  1 of 1 completed\n",
      "Descargando datos para EIX...\n"
     ]
    },
    {
     "name": "stderr",
     "output_type": "stream",
     "text": [
      "/var/folders/db/zztlpw7s0bx2bpqqwrkksxg40000gp/T/ipykernel_21914/2993019566.py:7: FutureWarning: The frame.append method is deprecated and will be removed from pandas in a future version. Use pandas.concat instead.\n",
      "  sp500 = sp500.append(data)\n"
     ]
    },
    {
     "name": "stdout",
     "output_type": "stream",
     "text": [
      "[*********************100%***********************]  1 of 1 completed\n",
      "Descargando datos para EW...\n"
     ]
    },
    {
     "name": "stderr",
     "output_type": "stream",
     "text": [
      "/var/folders/db/zztlpw7s0bx2bpqqwrkksxg40000gp/T/ipykernel_21914/2993019566.py:7: FutureWarning: The frame.append method is deprecated and will be removed from pandas in a future version. Use pandas.concat instead.\n",
      "  sp500 = sp500.append(data)\n"
     ]
    },
    {
     "name": "stdout",
     "output_type": "stream",
     "text": [
      "[*********************100%***********************]  1 of 1 completed\n",
      "Descargando datos para EA...\n"
     ]
    },
    {
     "name": "stderr",
     "output_type": "stream",
     "text": [
      "/var/folders/db/zztlpw7s0bx2bpqqwrkksxg40000gp/T/ipykernel_21914/2993019566.py:7: FutureWarning: The frame.append method is deprecated and will be removed from pandas in a future version. Use pandas.concat instead.\n",
      "  sp500 = sp500.append(data)\n"
     ]
    },
    {
     "name": "stdout",
     "output_type": "stream",
     "text": [
      "[*********************100%***********************]  1 of 1 completed\n",
      "Descargando datos para ELV...\n"
     ]
    },
    {
     "name": "stderr",
     "output_type": "stream",
     "text": [
      "/var/folders/db/zztlpw7s0bx2bpqqwrkksxg40000gp/T/ipykernel_21914/2993019566.py:7: FutureWarning: The frame.append method is deprecated and will be removed from pandas in a future version. Use pandas.concat instead.\n",
      "  sp500 = sp500.append(data)\n"
     ]
    },
    {
     "name": "stdout",
     "output_type": "stream",
     "text": [
      "[*********************100%***********************]  1 of 1 completed\n",
      "Descargando datos para LLY...\n"
     ]
    },
    {
     "name": "stderr",
     "output_type": "stream",
     "text": [
      "/var/folders/db/zztlpw7s0bx2bpqqwrkksxg40000gp/T/ipykernel_21914/2993019566.py:7: FutureWarning: The frame.append method is deprecated and will be removed from pandas in a future version. Use pandas.concat instead.\n",
      "  sp500 = sp500.append(data)\n"
     ]
    },
    {
     "name": "stdout",
     "output_type": "stream",
     "text": [
      "[*********************100%***********************]  1 of 1 completed\n",
      "Descargando datos para EMR...\n"
     ]
    },
    {
     "name": "stderr",
     "output_type": "stream",
     "text": [
      "/var/folders/db/zztlpw7s0bx2bpqqwrkksxg40000gp/T/ipykernel_21914/2993019566.py:7: FutureWarning: The frame.append method is deprecated and will be removed from pandas in a future version. Use pandas.concat instead.\n",
      "  sp500 = sp500.append(data)\n"
     ]
    },
    {
     "name": "stdout",
     "output_type": "stream",
     "text": [
      "[*********************100%***********************]  1 of 1 completed\n",
      "Descargando datos para ENPH...\n"
     ]
    },
    {
     "name": "stderr",
     "output_type": "stream",
     "text": [
      "/var/folders/db/zztlpw7s0bx2bpqqwrkksxg40000gp/T/ipykernel_21914/2993019566.py:7: FutureWarning: The frame.append method is deprecated and will be removed from pandas in a future version. Use pandas.concat instead.\n",
      "  sp500 = sp500.append(data)\n"
     ]
    },
    {
     "name": "stdout",
     "output_type": "stream",
     "text": [
      "[*********************100%***********************]  1 of 1 completed\n",
      "Descargando datos para ETR...\n"
     ]
    },
    {
     "name": "stderr",
     "output_type": "stream",
     "text": [
      "/var/folders/db/zztlpw7s0bx2bpqqwrkksxg40000gp/T/ipykernel_21914/2993019566.py:7: FutureWarning: The frame.append method is deprecated and will be removed from pandas in a future version. Use pandas.concat instead.\n",
      "  sp500 = sp500.append(data)\n"
     ]
    },
    {
     "name": "stdout",
     "output_type": "stream",
     "text": [
      "[*********************100%***********************]  1 of 1 completed\n",
      "Descargando datos para EOG...\n"
     ]
    },
    {
     "name": "stderr",
     "output_type": "stream",
     "text": [
      "/var/folders/db/zztlpw7s0bx2bpqqwrkksxg40000gp/T/ipykernel_21914/2993019566.py:7: FutureWarning: The frame.append method is deprecated and will be removed from pandas in a future version. Use pandas.concat instead.\n",
      "  sp500 = sp500.append(data)\n"
     ]
    },
    {
     "name": "stdout",
     "output_type": "stream",
     "text": [
      "[*********************100%***********************]  1 of 1 completed\n",
      "Descargando datos para EPAM...\n"
     ]
    },
    {
     "name": "stderr",
     "output_type": "stream",
     "text": [
      "/var/folders/db/zztlpw7s0bx2bpqqwrkksxg40000gp/T/ipykernel_21914/2993019566.py:7: FutureWarning: The frame.append method is deprecated and will be removed from pandas in a future version. Use pandas.concat instead.\n",
      "  sp500 = sp500.append(data)\n"
     ]
    },
    {
     "name": "stdout",
     "output_type": "stream",
     "text": [
      "[*********************100%***********************]  1 of 1 completed\n",
      "Descargando datos para EQT...\n"
     ]
    },
    {
     "name": "stderr",
     "output_type": "stream",
     "text": [
      "/var/folders/db/zztlpw7s0bx2bpqqwrkksxg40000gp/T/ipykernel_21914/2993019566.py:7: FutureWarning: The frame.append method is deprecated and will be removed from pandas in a future version. Use pandas.concat instead.\n",
      "  sp500 = sp500.append(data)\n"
     ]
    },
    {
     "name": "stdout",
     "output_type": "stream",
     "text": [
      "[*********************100%***********************]  1 of 1 completed\n",
      "Descargando datos para EFX...\n"
     ]
    },
    {
     "name": "stderr",
     "output_type": "stream",
     "text": [
      "/var/folders/db/zztlpw7s0bx2bpqqwrkksxg40000gp/T/ipykernel_21914/2993019566.py:7: FutureWarning: The frame.append method is deprecated and will be removed from pandas in a future version. Use pandas.concat instead.\n",
      "  sp500 = sp500.append(data)\n"
     ]
    },
    {
     "name": "stdout",
     "output_type": "stream",
     "text": [
      "[*********************100%***********************]  1 of 1 completed\n",
      "Descargando datos para EQIX...\n"
     ]
    },
    {
     "name": "stderr",
     "output_type": "stream",
     "text": [
      "/var/folders/db/zztlpw7s0bx2bpqqwrkksxg40000gp/T/ipykernel_21914/2993019566.py:7: FutureWarning: The frame.append method is deprecated and will be removed from pandas in a future version. Use pandas.concat instead.\n",
      "  sp500 = sp500.append(data)\n"
     ]
    },
    {
     "name": "stdout",
     "output_type": "stream",
     "text": [
      "[*********************100%***********************]  1 of 1 completed\n",
      "Descargando datos para EQR...\n"
     ]
    },
    {
     "name": "stderr",
     "output_type": "stream",
     "text": [
      "/var/folders/db/zztlpw7s0bx2bpqqwrkksxg40000gp/T/ipykernel_21914/2993019566.py:7: FutureWarning: The frame.append method is deprecated and will be removed from pandas in a future version. Use pandas.concat instead.\n",
      "  sp500 = sp500.append(data)\n"
     ]
    },
    {
     "name": "stdout",
     "output_type": "stream",
     "text": [
      "[*********************100%***********************]  1 of 1 completed\n",
      "Descargando datos para ESS...\n"
     ]
    },
    {
     "name": "stderr",
     "output_type": "stream",
     "text": [
      "/var/folders/db/zztlpw7s0bx2bpqqwrkksxg40000gp/T/ipykernel_21914/2993019566.py:7: FutureWarning: The frame.append method is deprecated and will be removed from pandas in a future version. Use pandas.concat instead.\n",
      "  sp500 = sp500.append(data)\n"
     ]
    },
    {
     "name": "stdout",
     "output_type": "stream",
     "text": [
      "[*********************100%***********************]  1 of 1 completed\n",
      "Descargando datos para EL...\n"
     ]
    },
    {
     "name": "stderr",
     "output_type": "stream",
     "text": [
      "/var/folders/db/zztlpw7s0bx2bpqqwrkksxg40000gp/T/ipykernel_21914/2993019566.py:7: FutureWarning: The frame.append method is deprecated and will be removed from pandas in a future version. Use pandas.concat instead.\n",
      "  sp500 = sp500.append(data)\n"
     ]
    },
    {
     "name": "stdout",
     "output_type": "stream",
     "text": [
      "[*********************100%***********************]  1 of 1 completed\n",
      "Descargando datos para ETSY...\n"
     ]
    },
    {
     "name": "stderr",
     "output_type": "stream",
     "text": [
      "/var/folders/db/zztlpw7s0bx2bpqqwrkksxg40000gp/T/ipykernel_21914/2993019566.py:7: FutureWarning: The frame.append method is deprecated and will be removed from pandas in a future version. Use pandas.concat instead.\n",
      "  sp500 = sp500.append(data)\n"
     ]
    },
    {
     "name": "stdout",
     "output_type": "stream",
     "text": [
      "[*********************100%***********************]  1 of 1 completed\n",
      "Descargando datos para RE...\n"
     ]
    },
    {
     "name": "stderr",
     "output_type": "stream",
     "text": [
      "/var/folders/db/zztlpw7s0bx2bpqqwrkksxg40000gp/T/ipykernel_21914/2993019566.py:7: FutureWarning: The frame.append method is deprecated and will be removed from pandas in a future version. Use pandas.concat instead.\n",
      "  sp500 = sp500.append(data)\n"
     ]
    },
    {
     "name": "stdout",
     "output_type": "stream",
     "text": [
      "[*********************100%***********************]  1 of 1 completed\n",
      "Descargando datos para EVRG...\n"
     ]
    },
    {
     "name": "stderr",
     "output_type": "stream",
     "text": [
      "/var/folders/db/zztlpw7s0bx2bpqqwrkksxg40000gp/T/ipykernel_21914/2993019566.py:7: FutureWarning: The frame.append method is deprecated and will be removed from pandas in a future version. Use pandas.concat instead.\n",
      "  sp500 = sp500.append(data)\n"
     ]
    },
    {
     "name": "stdout",
     "output_type": "stream",
     "text": [
      "[*********************100%***********************]  1 of 1 completed\n",
      "Descargando datos para ES...\n"
     ]
    },
    {
     "name": "stderr",
     "output_type": "stream",
     "text": [
      "/var/folders/db/zztlpw7s0bx2bpqqwrkksxg40000gp/T/ipykernel_21914/2993019566.py:7: FutureWarning: The frame.append method is deprecated and will be removed from pandas in a future version. Use pandas.concat instead.\n",
      "  sp500 = sp500.append(data)\n"
     ]
    },
    {
     "name": "stdout",
     "output_type": "stream",
     "text": [
      "[*********************100%***********************]  1 of 1 completed\n",
      "Descargando datos para EXC...\n"
     ]
    },
    {
     "name": "stderr",
     "output_type": "stream",
     "text": [
      "/var/folders/db/zztlpw7s0bx2bpqqwrkksxg40000gp/T/ipykernel_21914/2993019566.py:7: FutureWarning: The frame.append method is deprecated and will be removed from pandas in a future version. Use pandas.concat instead.\n",
      "  sp500 = sp500.append(data)\n"
     ]
    },
    {
     "name": "stdout",
     "output_type": "stream",
     "text": [
      "[*********************100%***********************]  1 of 1 completed\n",
      "Descargando datos para EXPE...\n"
     ]
    },
    {
     "name": "stderr",
     "output_type": "stream",
     "text": [
      "/var/folders/db/zztlpw7s0bx2bpqqwrkksxg40000gp/T/ipykernel_21914/2993019566.py:7: FutureWarning: The frame.append method is deprecated and will be removed from pandas in a future version. Use pandas.concat instead.\n",
      "  sp500 = sp500.append(data)\n"
     ]
    },
    {
     "name": "stdout",
     "output_type": "stream",
     "text": [
      "[*********************100%***********************]  1 of 1 completed\n",
      "Descargando datos para EXPD...\n"
     ]
    },
    {
     "name": "stderr",
     "output_type": "stream",
     "text": [
      "/var/folders/db/zztlpw7s0bx2bpqqwrkksxg40000gp/T/ipykernel_21914/2993019566.py:7: FutureWarning: The frame.append method is deprecated and will be removed from pandas in a future version. Use pandas.concat instead.\n",
      "  sp500 = sp500.append(data)\n"
     ]
    },
    {
     "name": "stdout",
     "output_type": "stream",
     "text": [
      "[*********************100%***********************]  1 of 1 completed\n",
      "Descargando datos para EXR...\n"
     ]
    },
    {
     "name": "stderr",
     "output_type": "stream",
     "text": [
      "/var/folders/db/zztlpw7s0bx2bpqqwrkksxg40000gp/T/ipykernel_21914/2993019566.py:7: FutureWarning: The frame.append method is deprecated and will be removed from pandas in a future version. Use pandas.concat instead.\n",
      "  sp500 = sp500.append(data)\n"
     ]
    },
    {
     "name": "stdout",
     "output_type": "stream",
     "text": [
      "[*********************100%***********************]  1 of 1 completed\n",
      "Descargando datos para XOM...\n"
     ]
    },
    {
     "name": "stderr",
     "output_type": "stream",
     "text": [
      "/var/folders/db/zztlpw7s0bx2bpqqwrkksxg40000gp/T/ipykernel_21914/2993019566.py:7: FutureWarning: The frame.append method is deprecated and will be removed from pandas in a future version. Use pandas.concat instead.\n",
      "  sp500 = sp500.append(data)\n"
     ]
    },
    {
     "name": "stdout",
     "output_type": "stream",
     "text": [
      "[*********************100%***********************]  1 of 1 completed\n",
      "Descargando datos para FFIV...\n"
     ]
    },
    {
     "name": "stderr",
     "output_type": "stream",
     "text": [
      "/var/folders/db/zztlpw7s0bx2bpqqwrkksxg40000gp/T/ipykernel_21914/2993019566.py:7: FutureWarning: The frame.append method is deprecated and will be removed from pandas in a future version. Use pandas.concat instead.\n",
      "  sp500 = sp500.append(data)\n"
     ]
    },
    {
     "name": "stdout",
     "output_type": "stream",
     "text": [
      "[*********************100%***********************]  1 of 1 completed\n",
      "Descargando datos para FDS...\n"
     ]
    },
    {
     "name": "stderr",
     "output_type": "stream",
     "text": [
      "/var/folders/db/zztlpw7s0bx2bpqqwrkksxg40000gp/T/ipykernel_21914/2993019566.py:7: FutureWarning: The frame.append method is deprecated and will be removed from pandas in a future version. Use pandas.concat instead.\n",
      "  sp500 = sp500.append(data)\n"
     ]
    },
    {
     "name": "stdout",
     "output_type": "stream",
     "text": [
      "[*********************100%***********************]  1 of 1 completed\n",
      "Descargando datos para FAST...\n"
     ]
    },
    {
     "name": "stderr",
     "output_type": "stream",
     "text": [
      "/var/folders/db/zztlpw7s0bx2bpqqwrkksxg40000gp/T/ipykernel_21914/2993019566.py:7: FutureWarning: The frame.append method is deprecated and will be removed from pandas in a future version. Use pandas.concat instead.\n",
      "  sp500 = sp500.append(data)\n"
     ]
    },
    {
     "name": "stdout",
     "output_type": "stream",
     "text": [
      "[*********************100%***********************]  1 of 1 completed\n",
      "Descargando datos para FRT...\n"
     ]
    },
    {
     "name": "stderr",
     "output_type": "stream",
     "text": [
      "/var/folders/db/zztlpw7s0bx2bpqqwrkksxg40000gp/T/ipykernel_21914/2993019566.py:7: FutureWarning: The frame.append method is deprecated and will be removed from pandas in a future version. Use pandas.concat instead.\n",
      "  sp500 = sp500.append(data)\n"
     ]
    },
    {
     "name": "stdout",
     "output_type": "stream",
     "text": [
      "[*********************100%***********************]  1 of 1 completed\n",
      "Descargando datos para FDX...\n"
     ]
    },
    {
     "name": "stderr",
     "output_type": "stream",
     "text": [
      "/var/folders/db/zztlpw7s0bx2bpqqwrkksxg40000gp/T/ipykernel_21914/2993019566.py:7: FutureWarning: The frame.append method is deprecated and will be removed from pandas in a future version. Use pandas.concat instead.\n",
      "  sp500 = sp500.append(data)\n"
     ]
    },
    {
     "name": "stdout",
     "output_type": "stream",
     "text": [
      "[*********************100%***********************]  1 of 1 completed\n",
      "Descargando datos para FITB...\n"
     ]
    },
    {
     "name": "stderr",
     "output_type": "stream",
     "text": [
      "/var/folders/db/zztlpw7s0bx2bpqqwrkksxg40000gp/T/ipykernel_21914/2993019566.py:7: FutureWarning: The frame.append method is deprecated and will be removed from pandas in a future version. Use pandas.concat instead.\n",
      "  sp500 = sp500.append(data)\n"
     ]
    },
    {
     "name": "stdout",
     "output_type": "stream",
     "text": [
      "[*********************100%***********************]  1 of 1 completed\n",
      "Descargando datos para FRC...\n"
     ]
    },
    {
     "name": "stderr",
     "output_type": "stream",
     "text": [
      "/var/folders/db/zztlpw7s0bx2bpqqwrkksxg40000gp/T/ipykernel_21914/2993019566.py:7: FutureWarning: The frame.append method is deprecated and will be removed from pandas in a future version. Use pandas.concat instead.\n",
      "  sp500 = sp500.append(data)\n"
     ]
    },
    {
     "name": "stdout",
     "output_type": "stream",
     "text": [
      "[*********************100%***********************]  1 of 1 completed\n",
      "Descargando datos para FSLR...\n"
     ]
    },
    {
     "name": "stderr",
     "output_type": "stream",
     "text": [
      "/var/folders/db/zztlpw7s0bx2bpqqwrkksxg40000gp/T/ipykernel_21914/2993019566.py:7: FutureWarning: The frame.append method is deprecated and will be removed from pandas in a future version. Use pandas.concat instead.\n",
      "  sp500 = sp500.append(data)\n"
     ]
    },
    {
     "name": "stdout",
     "output_type": "stream",
     "text": [
      "[*********************100%***********************]  1 of 1 completed\n",
      "Descargando datos para FE...\n"
     ]
    },
    {
     "name": "stderr",
     "output_type": "stream",
     "text": [
      "/var/folders/db/zztlpw7s0bx2bpqqwrkksxg40000gp/T/ipykernel_21914/2993019566.py:7: FutureWarning: The frame.append method is deprecated and will be removed from pandas in a future version. Use pandas.concat instead.\n",
      "  sp500 = sp500.append(data)\n"
     ]
    },
    {
     "name": "stdout",
     "output_type": "stream",
     "text": [
      "[*********************100%***********************]  1 of 1 completed\n",
      "Descargando datos para FIS...\n"
     ]
    },
    {
     "name": "stderr",
     "output_type": "stream",
     "text": [
      "/var/folders/db/zztlpw7s0bx2bpqqwrkksxg40000gp/T/ipykernel_21914/2993019566.py:7: FutureWarning: The frame.append method is deprecated and will be removed from pandas in a future version. Use pandas.concat instead.\n",
      "  sp500 = sp500.append(data)\n"
     ]
    },
    {
     "name": "stdout",
     "output_type": "stream",
     "text": [
      "[*********************100%***********************]  1 of 1 completed\n",
      "Descargando datos para FISV...\n"
     ]
    },
    {
     "name": "stderr",
     "output_type": "stream",
     "text": [
      "/var/folders/db/zztlpw7s0bx2bpqqwrkksxg40000gp/T/ipykernel_21914/2993019566.py:7: FutureWarning: The frame.append method is deprecated and will be removed from pandas in a future version. Use pandas.concat instead.\n",
      "  sp500 = sp500.append(data)\n"
     ]
    },
    {
     "name": "stdout",
     "output_type": "stream",
     "text": [
      "[*********************100%***********************]  1 of 1 completed\n",
      "Descargando datos para FLT...\n"
     ]
    },
    {
     "name": "stderr",
     "output_type": "stream",
     "text": [
      "/var/folders/db/zztlpw7s0bx2bpqqwrkksxg40000gp/T/ipykernel_21914/2993019566.py:7: FutureWarning: The frame.append method is deprecated and will be removed from pandas in a future version. Use pandas.concat instead.\n",
      "  sp500 = sp500.append(data)\n"
     ]
    },
    {
     "name": "stdout",
     "output_type": "stream",
     "text": [
      "[*********************100%***********************]  1 of 1 completed\n",
      "Descargando datos para FMC...\n"
     ]
    },
    {
     "name": "stderr",
     "output_type": "stream",
     "text": [
      "/var/folders/db/zztlpw7s0bx2bpqqwrkksxg40000gp/T/ipykernel_21914/2993019566.py:7: FutureWarning: The frame.append method is deprecated and will be removed from pandas in a future version. Use pandas.concat instead.\n",
      "  sp500 = sp500.append(data)\n"
     ]
    },
    {
     "name": "stdout",
     "output_type": "stream",
     "text": [
      "[*********************100%***********************]  1 of 1 completed\n",
      "Descargando datos para F...\n"
     ]
    },
    {
     "name": "stderr",
     "output_type": "stream",
     "text": [
      "/var/folders/db/zztlpw7s0bx2bpqqwrkksxg40000gp/T/ipykernel_21914/2993019566.py:7: FutureWarning: The frame.append method is deprecated and will be removed from pandas in a future version. Use pandas.concat instead.\n",
      "  sp500 = sp500.append(data)\n"
     ]
    },
    {
     "name": "stdout",
     "output_type": "stream",
     "text": [
      "[*********************100%***********************]  1 of 1 completed\n",
      "Descargando datos para FTNT...\n"
     ]
    },
    {
     "name": "stderr",
     "output_type": "stream",
     "text": [
      "/var/folders/db/zztlpw7s0bx2bpqqwrkksxg40000gp/T/ipykernel_21914/2993019566.py:7: FutureWarning: The frame.append method is deprecated and will be removed from pandas in a future version. Use pandas.concat instead.\n",
      "  sp500 = sp500.append(data)\n"
     ]
    },
    {
     "name": "stdout",
     "output_type": "stream",
     "text": [
      "[*********************100%***********************]  1 of 1 completed\n",
      "Descargando datos para FTV...\n"
     ]
    },
    {
     "name": "stderr",
     "output_type": "stream",
     "text": [
      "/var/folders/db/zztlpw7s0bx2bpqqwrkksxg40000gp/T/ipykernel_21914/2993019566.py:7: FutureWarning: The frame.append method is deprecated and will be removed from pandas in a future version. Use pandas.concat instead.\n",
      "  sp500 = sp500.append(data)\n"
     ]
    },
    {
     "name": "stdout",
     "output_type": "stream",
     "text": [
      "[*********************100%***********************]  1 of 1 completed\n",
      "Descargando datos para FOXA...\n"
     ]
    },
    {
     "name": "stderr",
     "output_type": "stream",
     "text": [
      "/var/folders/db/zztlpw7s0bx2bpqqwrkksxg40000gp/T/ipykernel_21914/2993019566.py:7: FutureWarning: The frame.append method is deprecated and will be removed from pandas in a future version. Use pandas.concat instead.\n",
      "  sp500 = sp500.append(data)\n"
     ]
    },
    {
     "name": "stdout",
     "output_type": "stream",
     "text": [
      "[*********************100%***********************]  1 of 1 completed\n",
      "Descargando datos para FOX...\n"
     ]
    },
    {
     "name": "stderr",
     "output_type": "stream",
     "text": [
      "/var/folders/db/zztlpw7s0bx2bpqqwrkksxg40000gp/T/ipykernel_21914/2993019566.py:7: FutureWarning: The frame.append method is deprecated and will be removed from pandas in a future version. Use pandas.concat instead.\n",
      "  sp500 = sp500.append(data)\n"
     ]
    },
    {
     "name": "stdout",
     "output_type": "stream",
     "text": [
      "[*********************100%***********************]  1 of 1 completed\n",
      "Descargando datos para BEN...\n"
     ]
    },
    {
     "name": "stderr",
     "output_type": "stream",
     "text": [
      "/var/folders/db/zztlpw7s0bx2bpqqwrkksxg40000gp/T/ipykernel_21914/2993019566.py:7: FutureWarning: The frame.append method is deprecated and will be removed from pandas in a future version. Use pandas.concat instead.\n",
      "  sp500 = sp500.append(data)\n"
     ]
    },
    {
     "name": "stdout",
     "output_type": "stream",
     "text": [
      "[*********************100%***********************]  1 of 1 completed\n",
      "Descargando datos para FCX...\n"
     ]
    },
    {
     "name": "stderr",
     "output_type": "stream",
     "text": [
      "/var/folders/db/zztlpw7s0bx2bpqqwrkksxg40000gp/T/ipykernel_21914/2993019566.py:7: FutureWarning: The frame.append method is deprecated and will be removed from pandas in a future version. Use pandas.concat instead.\n",
      "  sp500 = sp500.append(data)\n"
     ]
    },
    {
     "name": "stdout",
     "output_type": "stream",
     "text": [
      "[*********************100%***********************]  1 of 1 completed\n",
      "Descargando datos para GRMN...\n"
     ]
    },
    {
     "name": "stderr",
     "output_type": "stream",
     "text": [
      "/var/folders/db/zztlpw7s0bx2bpqqwrkksxg40000gp/T/ipykernel_21914/2993019566.py:7: FutureWarning: The frame.append method is deprecated and will be removed from pandas in a future version. Use pandas.concat instead.\n",
      "  sp500 = sp500.append(data)\n"
     ]
    },
    {
     "name": "stdout",
     "output_type": "stream",
     "text": [
      "[*********************100%***********************]  1 of 1 completed\n",
      "Descargando datos para IT...\n"
     ]
    },
    {
     "name": "stderr",
     "output_type": "stream",
     "text": [
      "/var/folders/db/zztlpw7s0bx2bpqqwrkksxg40000gp/T/ipykernel_21914/2993019566.py:7: FutureWarning: The frame.append method is deprecated and will be removed from pandas in a future version. Use pandas.concat instead.\n",
      "  sp500 = sp500.append(data)\n"
     ]
    },
    {
     "name": "stdout",
     "output_type": "stream",
     "text": [
      "[*********************100%***********************]  1 of 1 completed\n",
      "Descargando datos para GEHC...\n"
     ]
    },
    {
     "name": "stderr",
     "output_type": "stream",
     "text": [
      "/var/folders/db/zztlpw7s0bx2bpqqwrkksxg40000gp/T/ipykernel_21914/2993019566.py:7: FutureWarning: The frame.append method is deprecated and will be removed from pandas in a future version. Use pandas.concat instead.\n",
      "  sp500 = sp500.append(data)\n"
     ]
    },
    {
     "name": "stdout",
     "output_type": "stream",
     "text": [
      "[*********************100%***********************]  1 of 1 completed\n",
      "Descargando datos para GEN...\n"
     ]
    },
    {
     "name": "stderr",
     "output_type": "stream",
     "text": [
      "/var/folders/db/zztlpw7s0bx2bpqqwrkksxg40000gp/T/ipykernel_21914/2993019566.py:7: FutureWarning: The frame.append method is deprecated and will be removed from pandas in a future version. Use pandas.concat instead.\n",
      "  sp500 = sp500.append(data)\n"
     ]
    },
    {
     "name": "stdout",
     "output_type": "stream",
     "text": [
      "[*********************100%***********************]  1 of 1 completed\n",
      "Descargando datos para GNRC...\n"
     ]
    },
    {
     "name": "stderr",
     "output_type": "stream",
     "text": [
      "/var/folders/db/zztlpw7s0bx2bpqqwrkksxg40000gp/T/ipykernel_21914/2993019566.py:7: FutureWarning: The frame.append method is deprecated and will be removed from pandas in a future version. Use pandas.concat instead.\n",
      "  sp500 = sp500.append(data)\n"
     ]
    },
    {
     "name": "stdout",
     "output_type": "stream",
     "text": [
      "[*********************100%***********************]  1 of 1 completed\n",
      "Descargando datos para GD...\n"
     ]
    },
    {
     "name": "stderr",
     "output_type": "stream",
     "text": [
      "/var/folders/db/zztlpw7s0bx2bpqqwrkksxg40000gp/T/ipykernel_21914/2993019566.py:7: FutureWarning: The frame.append method is deprecated and will be removed from pandas in a future version. Use pandas.concat instead.\n",
      "  sp500 = sp500.append(data)\n"
     ]
    },
    {
     "name": "stdout",
     "output_type": "stream",
     "text": [
      "[*********************100%***********************]  1 of 1 completed\n",
      "Descargando datos para GE...\n"
     ]
    },
    {
     "name": "stderr",
     "output_type": "stream",
     "text": [
      "/var/folders/db/zztlpw7s0bx2bpqqwrkksxg40000gp/T/ipykernel_21914/2993019566.py:7: FutureWarning: The frame.append method is deprecated and will be removed from pandas in a future version. Use pandas.concat instead.\n",
      "  sp500 = sp500.append(data)\n"
     ]
    },
    {
     "name": "stdout",
     "output_type": "stream",
     "text": [
      "[*********************100%***********************]  1 of 1 completed\n",
      "Descargando datos para GIS...\n"
     ]
    },
    {
     "name": "stderr",
     "output_type": "stream",
     "text": [
      "/var/folders/db/zztlpw7s0bx2bpqqwrkksxg40000gp/T/ipykernel_21914/2993019566.py:7: FutureWarning: The frame.append method is deprecated and will be removed from pandas in a future version. Use pandas.concat instead.\n",
      "  sp500 = sp500.append(data)\n"
     ]
    },
    {
     "name": "stdout",
     "output_type": "stream",
     "text": [
      "[*********************100%***********************]  1 of 1 completed\n",
      "Descargando datos para GM...\n"
     ]
    },
    {
     "name": "stderr",
     "output_type": "stream",
     "text": [
      "/var/folders/db/zztlpw7s0bx2bpqqwrkksxg40000gp/T/ipykernel_21914/2993019566.py:7: FutureWarning: The frame.append method is deprecated and will be removed from pandas in a future version. Use pandas.concat instead.\n",
      "  sp500 = sp500.append(data)\n"
     ]
    },
    {
     "name": "stdout",
     "output_type": "stream",
     "text": [
      "[*********************100%***********************]  1 of 1 completed\n",
      "Descargando datos para GPC...\n"
     ]
    },
    {
     "name": "stderr",
     "output_type": "stream",
     "text": [
      "/var/folders/db/zztlpw7s0bx2bpqqwrkksxg40000gp/T/ipykernel_21914/2993019566.py:7: FutureWarning: The frame.append method is deprecated and will be removed from pandas in a future version. Use pandas.concat instead.\n",
      "  sp500 = sp500.append(data)\n"
     ]
    },
    {
     "name": "stdout",
     "output_type": "stream",
     "text": [
      "[*********************100%***********************]  1 of 1 completed\n",
      "Descargando datos para GILD...\n"
     ]
    },
    {
     "name": "stderr",
     "output_type": "stream",
     "text": [
      "/var/folders/db/zztlpw7s0bx2bpqqwrkksxg40000gp/T/ipykernel_21914/2993019566.py:7: FutureWarning: The frame.append method is deprecated and will be removed from pandas in a future version. Use pandas.concat instead.\n",
      "  sp500 = sp500.append(data)\n"
     ]
    },
    {
     "name": "stdout",
     "output_type": "stream",
     "text": [
      "[*********************100%***********************]  1 of 1 completed\n",
      "Descargando datos para GL...\n"
     ]
    },
    {
     "name": "stderr",
     "output_type": "stream",
     "text": [
      "/var/folders/db/zztlpw7s0bx2bpqqwrkksxg40000gp/T/ipykernel_21914/2993019566.py:7: FutureWarning: The frame.append method is deprecated and will be removed from pandas in a future version. Use pandas.concat instead.\n",
      "  sp500 = sp500.append(data)\n"
     ]
    },
    {
     "name": "stdout",
     "output_type": "stream",
     "text": [
      "[*********************100%***********************]  1 of 1 completed\n",
      "Descargando datos para GPN...\n"
     ]
    },
    {
     "name": "stderr",
     "output_type": "stream",
     "text": [
      "/var/folders/db/zztlpw7s0bx2bpqqwrkksxg40000gp/T/ipykernel_21914/2993019566.py:7: FutureWarning: The frame.append method is deprecated and will be removed from pandas in a future version. Use pandas.concat instead.\n",
      "  sp500 = sp500.append(data)\n"
     ]
    },
    {
     "name": "stdout",
     "output_type": "stream",
     "text": [
      "[*********************100%***********************]  1 of 1 completed\n",
      "Descargando datos para GS...\n"
     ]
    },
    {
     "name": "stderr",
     "output_type": "stream",
     "text": [
      "/var/folders/db/zztlpw7s0bx2bpqqwrkksxg40000gp/T/ipykernel_21914/2993019566.py:7: FutureWarning: The frame.append method is deprecated and will be removed from pandas in a future version. Use pandas.concat instead.\n",
      "  sp500 = sp500.append(data)\n"
     ]
    },
    {
     "name": "stdout",
     "output_type": "stream",
     "text": [
      "[*********************100%***********************]  1 of 1 completed\n",
      "Descargando datos para HAL...\n"
     ]
    },
    {
     "name": "stderr",
     "output_type": "stream",
     "text": [
      "/var/folders/db/zztlpw7s0bx2bpqqwrkksxg40000gp/T/ipykernel_21914/2993019566.py:7: FutureWarning: The frame.append method is deprecated and will be removed from pandas in a future version. Use pandas.concat instead.\n",
      "  sp500 = sp500.append(data)\n"
     ]
    },
    {
     "name": "stdout",
     "output_type": "stream",
     "text": [
      "[*********************100%***********************]  1 of 1 completed\n",
      "Descargando datos para HIG...\n"
     ]
    },
    {
     "name": "stderr",
     "output_type": "stream",
     "text": [
      "/var/folders/db/zztlpw7s0bx2bpqqwrkksxg40000gp/T/ipykernel_21914/2993019566.py:7: FutureWarning: The frame.append method is deprecated and will be removed from pandas in a future version. Use pandas.concat instead.\n",
      "  sp500 = sp500.append(data)\n"
     ]
    },
    {
     "name": "stdout",
     "output_type": "stream",
     "text": [
      "[*********************100%***********************]  1 of 1 completed\n",
      "Descargando datos para HAS...\n"
     ]
    },
    {
     "name": "stderr",
     "output_type": "stream",
     "text": [
      "/var/folders/db/zztlpw7s0bx2bpqqwrkksxg40000gp/T/ipykernel_21914/2993019566.py:7: FutureWarning: The frame.append method is deprecated and will be removed from pandas in a future version. Use pandas.concat instead.\n",
      "  sp500 = sp500.append(data)\n"
     ]
    },
    {
     "name": "stdout",
     "output_type": "stream",
     "text": [
      "[*********************100%***********************]  1 of 1 completed\n",
      "Descargando datos para HCA...\n"
     ]
    },
    {
     "name": "stderr",
     "output_type": "stream",
     "text": [
      "/var/folders/db/zztlpw7s0bx2bpqqwrkksxg40000gp/T/ipykernel_21914/2993019566.py:7: FutureWarning: The frame.append method is deprecated and will be removed from pandas in a future version. Use pandas.concat instead.\n",
      "  sp500 = sp500.append(data)\n"
     ]
    },
    {
     "name": "stdout",
     "output_type": "stream",
     "text": [
      "[*********************100%***********************]  1 of 1 completed\n",
      "Descargando datos para PEAK...\n"
     ]
    },
    {
     "name": "stderr",
     "output_type": "stream",
     "text": [
      "/var/folders/db/zztlpw7s0bx2bpqqwrkksxg40000gp/T/ipykernel_21914/2993019566.py:7: FutureWarning: The frame.append method is deprecated and will be removed from pandas in a future version. Use pandas.concat instead.\n",
      "  sp500 = sp500.append(data)\n"
     ]
    },
    {
     "name": "stdout",
     "output_type": "stream",
     "text": [
      "[*********************100%***********************]  1 of 1 completed\n",
      "Descargando datos para HSIC...\n"
     ]
    },
    {
     "name": "stderr",
     "output_type": "stream",
     "text": [
      "/var/folders/db/zztlpw7s0bx2bpqqwrkksxg40000gp/T/ipykernel_21914/2993019566.py:7: FutureWarning: The frame.append method is deprecated and will be removed from pandas in a future version. Use pandas.concat instead.\n",
      "  sp500 = sp500.append(data)\n"
     ]
    },
    {
     "name": "stdout",
     "output_type": "stream",
     "text": [
      "[*********************100%***********************]  1 of 1 completed\n",
      "Descargando datos para HSY...\n"
     ]
    },
    {
     "name": "stderr",
     "output_type": "stream",
     "text": [
      "/var/folders/db/zztlpw7s0bx2bpqqwrkksxg40000gp/T/ipykernel_21914/2993019566.py:7: FutureWarning: The frame.append method is deprecated and will be removed from pandas in a future version. Use pandas.concat instead.\n",
      "  sp500 = sp500.append(data)\n"
     ]
    },
    {
     "name": "stdout",
     "output_type": "stream",
     "text": [
      "[*********************100%***********************]  1 of 1 completed\n",
      "Descargando datos para HES...\n"
     ]
    },
    {
     "name": "stderr",
     "output_type": "stream",
     "text": [
      "/var/folders/db/zztlpw7s0bx2bpqqwrkksxg40000gp/T/ipykernel_21914/2993019566.py:7: FutureWarning: The frame.append method is deprecated and will be removed from pandas in a future version. Use pandas.concat instead.\n",
      "  sp500 = sp500.append(data)\n"
     ]
    },
    {
     "name": "stdout",
     "output_type": "stream",
     "text": [
      "[*********************100%***********************]  1 of 1 completed\n",
      "Descargando datos para HPE...\n"
     ]
    },
    {
     "name": "stderr",
     "output_type": "stream",
     "text": [
      "/var/folders/db/zztlpw7s0bx2bpqqwrkksxg40000gp/T/ipykernel_21914/2993019566.py:7: FutureWarning: The frame.append method is deprecated and will be removed from pandas in a future version. Use pandas.concat instead.\n",
      "  sp500 = sp500.append(data)\n"
     ]
    },
    {
     "name": "stdout",
     "output_type": "stream",
     "text": [
      "[*********************100%***********************]  1 of 1 completed\n",
      "Descargando datos para HLT...\n"
     ]
    },
    {
     "name": "stderr",
     "output_type": "stream",
     "text": [
      "/var/folders/db/zztlpw7s0bx2bpqqwrkksxg40000gp/T/ipykernel_21914/2993019566.py:7: FutureWarning: The frame.append method is deprecated and will be removed from pandas in a future version. Use pandas.concat instead.\n",
      "  sp500 = sp500.append(data)\n"
     ]
    },
    {
     "name": "stdout",
     "output_type": "stream",
     "text": [
      "[*********************100%***********************]  1 of 1 completed\n",
      "Descargando datos para HOLX...\n"
     ]
    },
    {
     "name": "stderr",
     "output_type": "stream",
     "text": [
      "/var/folders/db/zztlpw7s0bx2bpqqwrkksxg40000gp/T/ipykernel_21914/2993019566.py:7: FutureWarning: The frame.append method is deprecated and will be removed from pandas in a future version. Use pandas.concat instead.\n",
      "  sp500 = sp500.append(data)\n"
     ]
    },
    {
     "name": "stdout",
     "output_type": "stream",
     "text": [
      "[*********************100%***********************]  1 of 1 completed\n",
      "Descargando datos para HD...\n"
     ]
    },
    {
     "name": "stderr",
     "output_type": "stream",
     "text": [
      "/var/folders/db/zztlpw7s0bx2bpqqwrkksxg40000gp/T/ipykernel_21914/2993019566.py:7: FutureWarning: The frame.append method is deprecated and will be removed from pandas in a future version. Use pandas.concat instead.\n",
      "  sp500 = sp500.append(data)\n"
     ]
    },
    {
     "name": "stdout",
     "output_type": "stream",
     "text": [
      "[*********************100%***********************]  1 of 1 completed\n",
      "Descargando datos para HON...\n"
     ]
    },
    {
     "name": "stderr",
     "output_type": "stream",
     "text": [
      "/var/folders/db/zztlpw7s0bx2bpqqwrkksxg40000gp/T/ipykernel_21914/2993019566.py:7: FutureWarning: The frame.append method is deprecated and will be removed from pandas in a future version. Use pandas.concat instead.\n",
      "  sp500 = sp500.append(data)\n"
     ]
    },
    {
     "name": "stdout",
     "output_type": "stream",
     "text": [
      "[*********************100%***********************]  1 of 1 completed\n",
      "Descargando datos para HRL...\n"
     ]
    },
    {
     "name": "stderr",
     "output_type": "stream",
     "text": [
      "/var/folders/db/zztlpw7s0bx2bpqqwrkksxg40000gp/T/ipykernel_21914/2993019566.py:7: FutureWarning: The frame.append method is deprecated and will be removed from pandas in a future version. Use pandas.concat instead.\n",
      "  sp500 = sp500.append(data)\n"
     ]
    },
    {
     "name": "stdout",
     "output_type": "stream",
     "text": [
      "[*********************100%***********************]  1 of 1 completed\n",
      "Descargando datos para HST...\n"
     ]
    },
    {
     "name": "stderr",
     "output_type": "stream",
     "text": [
      "/var/folders/db/zztlpw7s0bx2bpqqwrkksxg40000gp/T/ipykernel_21914/2993019566.py:7: FutureWarning: The frame.append method is deprecated and will be removed from pandas in a future version. Use pandas.concat instead.\n",
      "  sp500 = sp500.append(data)\n"
     ]
    },
    {
     "name": "stdout",
     "output_type": "stream",
     "text": [
      "[*********************100%***********************]  1 of 1 completed\n",
      "Descargando datos para HWM...\n"
     ]
    },
    {
     "name": "stderr",
     "output_type": "stream",
     "text": [
      "/var/folders/db/zztlpw7s0bx2bpqqwrkksxg40000gp/T/ipykernel_21914/2993019566.py:7: FutureWarning: The frame.append method is deprecated and will be removed from pandas in a future version. Use pandas.concat instead.\n",
      "  sp500 = sp500.append(data)\n"
     ]
    },
    {
     "name": "stdout",
     "output_type": "stream",
     "text": [
      "[*********************100%***********************]  1 of 1 completed\n",
      "Descargando datos para HPQ...\n"
     ]
    },
    {
     "name": "stderr",
     "output_type": "stream",
     "text": [
      "/var/folders/db/zztlpw7s0bx2bpqqwrkksxg40000gp/T/ipykernel_21914/2993019566.py:7: FutureWarning: The frame.append method is deprecated and will be removed from pandas in a future version. Use pandas.concat instead.\n",
      "  sp500 = sp500.append(data)\n"
     ]
    },
    {
     "name": "stdout",
     "output_type": "stream",
     "text": [
      "[*********************100%***********************]  1 of 1 completed\n",
      "Descargando datos para HUM...\n"
     ]
    },
    {
     "name": "stderr",
     "output_type": "stream",
     "text": [
      "/var/folders/db/zztlpw7s0bx2bpqqwrkksxg40000gp/T/ipykernel_21914/2993019566.py:7: FutureWarning: The frame.append method is deprecated and will be removed from pandas in a future version. Use pandas.concat instead.\n",
      "  sp500 = sp500.append(data)\n"
     ]
    },
    {
     "name": "stdout",
     "output_type": "stream",
     "text": [
      "[*********************100%***********************]  1 of 1 completed\n",
      "Descargando datos para HBAN...\n"
     ]
    },
    {
     "name": "stderr",
     "output_type": "stream",
     "text": [
      "/var/folders/db/zztlpw7s0bx2bpqqwrkksxg40000gp/T/ipykernel_21914/2993019566.py:7: FutureWarning: The frame.append method is deprecated and will be removed from pandas in a future version. Use pandas.concat instead.\n",
      "  sp500 = sp500.append(data)\n"
     ]
    },
    {
     "name": "stdout",
     "output_type": "stream",
     "text": [
      "[*********************100%***********************]  1 of 1 completed\n",
      "Descargando datos para HII...\n"
     ]
    },
    {
     "name": "stderr",
     "output_type": "stream",
     "text": [
      "/var/folders/db/zztlpw7s0bx2bpqqwrkksxg40000gp/T/ipykernel_21914/2993019566.py:7: FutureWarning: The frame.append method is deprecated and will be removed from pandas in a future version. Use pandas.concat instead.\n",
      "  sp500 = sp500.append(data)\n"
     ]
    },
    {
     "name": "stdout",
     "output_type": "stream",
     "text": [
      "[*********************100%***********************]  1 of 1 completed\n",
      "Descargando datos para IBM...\n"
     ]
    },
    {
     "name": "stderr",
     "output_type": "stream",
     "text": [
      "/var/folders/db/zztlpw7s0bx2bpqqwrkksxg40000gp/T/ipykernel_21914/2993019566.py:7: FutureWarning: The frame.append method is deprecated and will be removed from pandas in a future version. Use pandas.concat instead.\n",
      "  sp500 = sp500.append(data)\n"
     ]
    },
    {
     "name": "stdout",
     "output_type": "stream",
     "text": [
      "[*********************100%***********************]  1 of 1 completed\n",
      "Descargando datos para IEX...\n"
     ]
    },
    {
     "name": "stderr",
     "output_type": "stream",
     "text": [
      "/var/folders/db/zztlpw7s0bx2bpqqwrkksxg40000gp/T/ipykernel_21914/2993019566.py:7: FutureWarning: The frame.append method is deprecated and will be removed from pandas in a future version. Use pandas.concat instead.\n",
      "  sp500 = sp500.append(data)\n"
     ]
    },
    {
     "name": "stdout",
     "output_type": "stream",
     "text": [
      "[*********************100%***********************]  1 of 1 completed\n",
      "Descargando datos para IDXX...\n"
     ]
    },
    {
     "name": "stderr",
     "output_type": "stream",
     "text": [
      "/var/folders/db/zztlpw7s0bx2bpqqwrkksxg40000gp/T/ipykernel_21914/2993019566.py:7: FutureWarning: The frame.append method is deprecated and will be removed from pandas in a future version. Use pandas.concat instead.\n",
      "  sp500 = sp500.append(data)\n"
     ]
    },
    {
     "name": "stdout",
     "output_type": "stream",
     "text": [
      "[*********************100%***********************]  1 of 1 completed\n",
      "Descargando datos para ITW...\n"
     ]
    },
    {
     "name": "stderr",
     "output_type": "stream",
     "text": [
      "/var/folders/db/zztlpw7s0bx2bpqqwrkksxg40000gp/T/ipykernel_21914/2993019566.py:7: FutureWarning: The frame.append method is deprecated and will be removed from pandas in a future version. Use pandas.concat instead.\n",
      "  sp500 = sp500.append(data)\n"
     ]
    },
    {
     "name": "stdout",
     "output_type": "stream",
     "text": [
      "[*********************100%***********************]  1 of 1 completed\n",
      "Descargando datos para ILMN...\n"
     ]
    },
    {
     "name": "stderr",
     "output_type": "stream",
     "text": [
      "/var/folders/db/zztlpw7s0bx2bpqqwrkksxg40000gp/T/ipykernel_21914/2993019566.py:7: FutureWarning: The frame.append method is deprecated and will be removed from pandas in a future version. Use pandas.concat instead.\n",
      "  sp500 = sp500.append(data)\n"
     ]
    },
    {
     "name": "stdout",
     "output_type": "stream",
     "text": [
      "[*********************100%***********************]  1 of 1 completed\n",
      "Descargando datos para INCY...\n"
     ]
    },
    {
     "name": "stderr",
     "output_type": "stream",
     "text": [
      "/var/folders/db/zztlpw7s0bx2bpqqwrkksxg40000gp/T/ipykernel_21914/2993019566.py:7: FutureWarning: The frame.append method is deprecated and will be removed from pandas in a future version. Use pandas.concat instead.\n",
      "  sp500 = sp500.append(data)\n"
     ]
    },
    {
     "name": "stdout",
     "output_type": "stream",
     "text": [
      "[*********************100%***********************]  1 of 1 completed\n",
      "Descargando datos para IR...\n"
     ]
    },
    {
     "name": "stderr",
     "output_type": "stream",
     "text": [
      "/var/folders/db/zztlpw7s0bx2bpqqwrkksxg40000gp/T/ipykernel_21914/2993019566.py:7: FutureWarning: The frame.append method is deprecated and will be removed from pandas in a future version. Use pandas.concat instead.\n",
      "  sp500 = sp500.append(data)\n"
     ]
    },
    {
     "name": "stdout",
     "output_type": "stream",
     "text": [
      "[*********************100%***********************]  1 of 1 completed\n",
      "Descargando datos para INTC...\n"
     ]
    },
    {
     "name": "stderr",
     "output_type": "stream",
     "text": [
      "/var/folders/db/zztlpw7s0bx2bpqqwrkksxg40000gp/T/ipykernel_21914/2993019566.py:7: FutureWarning: The frame.append method is deprecated and will be removed from pandas in a future version. Use pandas.concat instead.\n",
      "  sp500 = sp500.append(data)\n"
     ]
    },
    {
     "name": "stdout",
     "output_type": "stream",
     "text": [
      "[*********************100%***********************]  1 of 1 completed\n",
      "Descargando datos para ICE...\n"
     ]
    },
    {
     "name": "stderr",
     "output_type": "stream",
     "text": [
      "/var/folders/db/zztlpw7s0bx2bpqqwrkksxg40000gp/T/ipykernel_21914/2993019566.py:7: FutureWarning: The frame.append method is deprecated and will be removed from pandas in a future version. Use pandas.concat instead.\n",
      "  sp500 = sp500.append(data)\n"
     ]
    },
    {
     "name": "stdout",
     "output_type": "stream",
     "text": [
      "[*********************100%***********************]  1 of 1 completed\n",
      "Descargando datos para IFF...\n"
     ]
    },
    {
     "name": "stderr",
     "output_type": "stream",
     "text": [
      "/var/folders/db/zztlpw7s0bx2bpqqwrkksxg40000gp/T/ipykernel_21914/2993019566.py:7: FutureWarning: The frame.append method is deprecated and will be removed from pandas in a future version. Use pandas.concat instead.\n",
      "  sp500 = sp500.append(data)\n"
     ]
    },
    {
     "name": "stdout",
     "output_type": "stream",
     "text": [
      "[*********************100%***********************]  1 of 1 completed\n",
      "Descargando datos para IP...\n"
     ]
    },
    {
     "name": "stderr",
     "output_type": "stream",
     "text": [
      "/var/folders/db/zztlpw7s0bx2bpqqwrkksxg40000gp/T/ipykernel_21914/2993019566.py:7: FutureWarning: The frame.append method is deprecated and will be removed from pandas in a future version. Use pandas.concat instead.\n",
      "  sp500 = sp500.append(data)\n"
     ]
    },
    {
     "name": "stdout",
     "output_type": "stream",
     "text": [
      "[*********************100%***********************]  1 of 1 completed\n",
      "Descargando datos para IPG...\n"
     ]
    },
    {
     "name": "stderr",
     "output_type": "stream",
     "text": [
      "/var/folders/db/zztlpw7s0bx2bpqqwrkksxg40000gp/T/ipykernel_21914/2993019566.py:7: FutureWarning: The frame.append method is deprecated and will be removed from pandas in a future version. Use pandas.concat instead.\n",
      "  sp500 = sp500.append(data)\n"
     ]
    },
    {
     "name": "stdout",
     "output_type": "stream",
     "text": [
      "[*********************100%***********************]  1 of 1 completed\n",
      "Descargando datos para INTU...\n"
     ]
    },
    {
     "name": "stderr",
     "output_type": "stream",
     "text": [
      "/var/folders/db/zztlpw7s0bx2bpqqwrkksxg40000gp/T/ipykernel_21914/2993019566.py:7: FutureWarning: The frame.append method is deprecated and will be removed from pandas in a future version. Use pandas.concat instead.\n",
      "  sp500 = sp500.append(data)\n"
     ]
    },
    {
     "name": "stdout",
     "output_type": "stream",
     "text": [
      "[*********************100%***********************]  1 of 1 completed\n",
      "Descargando datos para ISRG...\n"
     ]
    },
    {
     "name": "stderr",
     "output_type": "stream",
     "text": [
      "/var/folders/db/zztlpw7s0bx2bpqqwrkksxg40000gp/T/ipykernel_21914/2993019566.py:7: FutureWarning: The frame.append method is deprecated and will be removed from pandas in a future version. Use pandas.concat instead.\n",
      "  sp500 = sp500.append(data)\n"
     ]
    },
    {
     "name": "stdout",
     "output_type": "stream",
     "text": [
      "[*********************100%***********************]  1 of 1 completed\n",
      "Descargando datos para IVZ...\n"
     ]
    },
    {
     "name": "stderr",
     "output_type": "stream",
     "text": [
      "/var/folders/db/zztlpw7s0bx2bpqqwrkksxg40000gp/T/ipykernel_21914/2993019566.py:7: FutureWarning: The frame.append method is deprecated and will be removed from pandas in a future version. Use pandas.concat instead.\n",
      "  sp500 = sp500.append(data)\n"
     ]
    },
    {
     "name": "stdout",
     "output_type": "stream",
     "text": [
      "[*********************100%***********************]  1 of 1 completed\n",
      "Descargando datos para INVH...\n"
     ]
    },
    {
     "name": "stderr",
     "output_type": "stream",
     "text": [
      "/var/folders/db/zztlpw7s0bx2bpqqwrkksxg40000gp/T/ipykernel_21914/2993019566.py:7: FutureWarning: The frame.append method is deprecated and will be removed from pandas in a future version. Use pandas.concat instead.\n",
      "  sp500 = sp500.append(data)\n"
     ]
    },
    {
     "name": "stdout",
     "output_type": "stream",
     "text": [
      "[*********************100%***********************]  1 of 1 completed\n",
      "Descargando datos para IQV...\n"
     ]
    },
    {
     "name": "stderr",
     "output_type": "stream",
     "text": [
      "/var/folders/db/zztlpw7s0bx2bpqqwrkksxg40000gp/T/ipykernel_21914/2993019566.py:7: FutureWarning: The frame.append method is deprecated and will be removed from pandas in a future version. Use pandas.concat instead.\n",
      "  sp500 = sp500.append(data)\n"
     ]
    },
    {
     "name": "stdout",
     "output_type": "stream",
     "text": [
      "[*********************100%***********************]  1 of 1 completed\n",
      "Descargando datos para IRM...\n"
     ]
    },
    {
     "name": "stderr",
     "output_type": "stream",
     "text": [
      "/var/folders/db/zztlpw7s0bx2bpqqwrkksxg40000gp/T/ipykernel_21914/2993019566.py:7: FutureWarning: The frame.append method is deprecated and will be removed from pandas in a future version. Use pandas.concat instead.\n",
      "  sp500 = sp500.append(data)\n"
     ]
    },
    {
     "name": "stdout",
     "output_type": "stream",
     "text": [
      "[*********************100%***********************]  1 of 1 completed\n",
      "Descargando datos para JBHT...\n"
     ]
    },
    {
     "name": "stderr",
     "output_type": "stream",
     "text": [
      "/var/folders/db/zztlpw7s0bx2bpqqwrkksxg40000gp/T/ipykernel_21914/2993019566.py:7: FutureWarning: The frame.append method is deprecated and will be removed from pandas in a future version. Use pandas.concat instead.\n",
      "  sp500 = sp500.append(data)\n"
     ]
    },
    {
     "name": "stdout",
     "output_type": "stream",
     "text": [
      "[*********************100%***********************]  1 of 1 completed\n",
      "Descargando datos para JKHY...\n"
     ]
    },
    {
     "name": "stderr",
     "output_type": "stream",
     "text": [
      "/var/folders/db/zztlpw7s0bx2bpqqwrkksxg40000gp/T/ipykernel_21914/2993019566.py:7: FutureWarning: The frame.append method is deprecated and will be removed from pandas in a future version. Use pandas.concat instead.\n",
      "  sp500 = sp500.append(data)\n"
     ]
    },
    {
     "name": "stdout",
     "output_type": "stream",
     "text": [
      "[*********************100%***********************]  1 of 1 completed\n",
      "Descargando datos para J...\n"
     ]
    },
    {
     "name": "stderr",
     "output_type": "stream",
     "text": [
      "/var/folders/db/zztlpw7s0bx2bpqqwrkksxg40000gp/T/ipykernel_21914/2993019566.py:7: FutureWarning: The frame.append method is deprecated and will be removed from pandas in a future version. Use pandas.concat instead.\n",
      "  sp500 = sp500.append(data)\n"
     ]
    },
    {
     "name": "stdout",
     "output_type": "stream",
     "text": [
      "[*********************100%***********************]  1 of 1 completed\n",
      "Descargando datos para JNJ...\n"
     ]
    },
    {
     "name": "stderr",
     "output_type": "stream",
     "text": [
      "/var/folders/db/zztlpw7s0bx2bpqqwrkksxg40000gp/T/ipykernel_21914/2993019566.py:7: FutureWarning: The frame.append method is deprecated and will be removed from pandas in a future version. Use pandas.concat instead.\n",
      "  sp500 = sp500.append(data)\n"
     ]
    },
    {
     "name": "stdout",
     "output_type": "stream",
     "text": [
      "[*********************100%***********************]  1 of 1 completed\n",
      "Descargando datos para JCI...\n"
     ]
    },
    {
     "name": "stderr",
     "output_type": "stream",
     "text": [
      "/var/folders/db/zztlpw7s0bx2bpqqwrkksxg40000gp/T/ipykernel_21914/2993019566.py:7: FutureWarning: The frame.append method is deprecated and will be removed from pandas in a future version. Use pandas.concat instead.\n",
      "  sp500 = sp500.append(data)\n"
     ]
    },
    {
     "name": "stdout",
     "output_type": "stream",
     "text": [
      "[*********************100%***********************]  1 of 1 completed\n",
      "Descargando datos para JPM...\n"
     ]
    },
    {
     "name": "stderr",
     "output_type": "stream",
     "text": [
      "/var/folders/db/zztlpw7s0bx2bpqqwrkksxg40000gp/T/ipykernel_21914/2993019566.py:7: FutureWarning: The frame.append method is deprecated and will be removed from pandas in a future version. Use pandas.concat instead.\n",
      "  sp500 = sp500.append(data)\n"
     ]
    },
    {
     "name": "stdout",
     "output_type": "stream",
     "text": [
      "[*********************100%***********************]  1 of 1 completed\n",
      "Descargando datos para JNPR...\n"
     ]
    },
    {
     "name": "stderr",
     "output_type": "stream",
     "text": [
      "/var/folders/db/zztlpw7s0bx2bpqqwrkksxg40000gp/T/ipykernel_21914/2993019566.py:7: FutureWarning: The frame.append method is deprecated and will be removed from pandas in a future version. Use pandas.concat instead.\n",
      "  sp500 = sp500.append(data)\n"
     ]
    },
    {
     "name": "stdout",
     "output_type": "stream",
     "text": [
      "[*********************100%***********************]  1 of 1 completed\n",
      "Descargando datos para K...\n"
     ]
    },
    {
     "name": "stderr",
     "output_type": "stream",
     "text": [
      "/var/folders/db/zztlpw7s0bx2bpqqwrkksxg40000gp/T/ipykernel_21914/2993019566.py:7: FutureWarning: The frame.append method is deprecated and will be removed from pandas in a future version. Use pandas.concat instead.\n",
      "  sp500 = sp500.append(data)\n"
     ]
    },
    {
     "name": "stdout",
     "output_type": "stream",
     "text": [
      "[*********************100%***********************]  1 of 1 completed\n",
      "Descargando datos para KDP...\n"
     ]
    },
    {
     "name": "stderr",
     "output_type": "stream",
     "text": [
      "/var/folders/db/zztlpw7s0bx2bpqqwrkksxg40000gp/T/ipykernel_21914/2993019566.py:7: FutureWarning: The frame.append method is deprecated and will be removed from pandas in a future version. Use pandas.concat instead.\n",
      "  sp500 = sp500.append(data)\n"
     ]
    },
    {
     "name": "stdout",
     "output_type": "stream",
     "text": [
      "[*********************100%***********************]  1 of 1 completed\n",
      "Descargando datos para KEY...\n"
     ]
    },
    {
     "name": "stderr",
     "output_type": "stream",
     "text": [
      "/var/folders/db/zztlpw7s0bx2bpqqwrkksxg40000gp/T/ipykernel_21914/2993019566.py:7: FutureWarning: The frame.append method is deprecated and will be removed from pandas in a future version. Use pandas.concat instead.\n",
      "  sp500 = sp500.append(data)\n"
     ]
    },
    {
     "name": "stdout",
     "output_type": "stream",
     "text": [
      "[*********************100%***********************]  1 of 1 completed\n",
      "Descargando datos para KEYS...\n"
     ]
    },
    {
     "name": "stderr",
     "output_type": "stream",
     "text": [
      "/var/folders/db/zztlpw7s0bx2bpqqwrkksxg40000gp/T/ipykernel_21914/2993019566.py:7: FutureWarning: The frame.append method is deprecated and will be removed from pandas in a future version. Use pandas.concat instead.\n",
      "  sp500 = sp500.append(data)\n"
     ]
    },
    {
     "name": "stdout",
     "output_type": "stream",
     "text": [
      "[*********************100%***********************]  1 of 1 completed\n",
      "Descargando datos para KMB...\n"
     ]
    },
    {
     "name": "stderr",
     "output_type": "stream",
     "text": [
      "/var/folders/db/zztlpw7s0bx2bpqqwrkksxg40000gp/T/ipykernel_21914/2993019566.py:7: FutureWarning: The frame.append method is deprecated and will be removed from pandas in a future version. Use pandas.concat instead.\n",
      "  sp500 = sp500.append(data)\n"
     ]
    },
    {
     "name": "stdout",
     "output_type": "stream",
     "text": [
      "[*********************100%***********************]  1 of 1 completed\n",
      "Descargando datos para KIM...\n"
     ]
    },
    {
     "name": "stderr",
     "output_type": "stream",
     "text": [
      "/var/folders/db/zztlpw7s0bx2bpqqwrkksxg40000gp/T/ipykernel_21914/2993019566.py:7: FutureWarning: The frame.append method is deprecated and will be removed from pandas in a future version. Use pandas.concat instead.\n",
      "  sp500 = sp500.append(data)\n"
     ]
    },
    {
     "name": "stdout",
     "output_type": "stream",
     "text": [
      "[*********************100%***********************]  1 of 1 completed\n",
      "Descargando datos para KMI...\n"
     ]
    },
    {
     "name": "stderr",
     "output_type": "stream",
     "text": [
      "/var/folders/db/zztlpw7s0bx2bpqqwrkksxg40000gp/T/ipykernel_21914/2993019566.py:7: FutureWarning: The frame.append method is deprecated and will be removed from pandas in a future version. Use pandas.concat instead.\n",
      "  sp500 = sp500.append(data)\n"
     ]
    },
    {
     "name": "stdout",
     "output_type": "stream",
     "text": [
      "[*********************100%***********************]  1 of 1 completed\n",
      "Descargando datos para KLAC...\n"
     ]
    },
    {
     "name": "stderr",
     "output_type": "stream",
     "text": [
      "/var/folders/db/zztlpw7s0bx2bpqqwrkksxg40000gp/T/ipykernel_21914/2993019566.py:7: FutureWarning: The frame.append method is deprecated and will be removed from pandas in a future version. Use pandas.concat instead.\n",
      "  sp500 = sp500.append(data)\n"
     ]
    },
    {
     "name": "stdout",
     "output_type": "stream",
     "text": [
      "[*********************100%***********************]  1 of 1 completed\n",
      "Descargando datos para KHC...\n"
     ]
    },
    {
     "name": "stderr",
     "output_type": "stream",
     "text": [
      "/var/folders/db/zztlpw7s0bx2bpqqwrkksxg40000gp/T/ipykernel_21914/2993019566.py:7: FutureWarning: The frame.append method is deprecated and will be removed from pandas in a future version. Use pandas.concat instead.\n",
      "  sp500 = sp500.append(data)\n"
     ]
    },
    {
     "name": "stdout",
     "output_type": "stream",
     "text": [
      "[*********************100%***********************]  1 of 1 completed\n",
      "Descargando datos para KR...\n"
     ]
    },
    {
     "name": "stderr",
     "output_type": "stream",
     "text": [
      "/var/folders/db/zztlpw7s0bx2bpqqwrkksxg40000gp/T/ipykernel_21914/2993019566.py:7: FutureWarning: The frame.append method is deprecated and will be removed from pandas in a future version. Use pandas.concat instead.\n",
      "  sp500 = sp500.append(data)\n"
     ]
    },
    {
     "name": "stdout",
     "output_type": "stream",
     "text": [
      "[*********************100%***********************]  1 of 1 completed\n",
      "Descargando datos para LHX...\n"
     ]
    },
    {
     "name": "stderr",
     "output_type": "stream",
     "text": [
      "/var/folders/db/zztlpw7s0bx2bpqqwrkksxg40000gp/T/ipykernel_21914/2993019566.py:7: FutureWarning: The frame.append method is deprecated and will be removed from pandas in a future version. Use pandas.concat instead.\n",
      "  sp500 = sp500.append(data)\n"
     ]
    },
    {
     "name": "stdout",
     "output_type": "stream",
     "text": [
      "[*********************100%***********************]  1 of 1 completed\n",
      "Descargando datos para LH...\n"
     ]
    },
    {
     "name": "stderr",
     "output_type": "stream",
     "text": [
      "/var/folders/db/zztlpw7s0bx2bpqqwrkksxg40000gp/T/ipykernel_21914/2993019566.py:7: FutureWarning: The frame.append method is deprecated and will be removed from pandas in a future version. Use pandas.concat instead.\n",
      "  sp500 = sp500.append(data)\n"
     ]
    },
    {
     "name": "stdout",
     "output_type": "stream",
     "text": [
      "[*********************100%***********************]  1 of 1 completed\n",
      "Descargando datos para LRCX...\n"
     ]
    },
    {
     "name": "stderr",
     "output_type": "stream",
     "text": [
      "/var/folders/db/zztlpw7s0bx2bpqqwrkksxg40000gp/T/ipykernel_21914/2993019566.py:7: FutureWarning: The frame.append method is deprecated and will be removed from pandas in a future version. Use pandas.concat instead.\n",
      "  sp500 = sp500.append(data)\n"
     ]
    },
    {
     "name": "stdout",
     "output_type": "stream",
     "text": [
      "[*********************100%***********************]  1 of 1 completed\n",
      "Descargando datos para LW...\n"
     ]
    },
    {
     "name": "stderr",
     "output_type": "stream",
     "text": [
      "/var/folders/db/zztlpw7s0bx2bpqqwrkksxg40000gp/T/ipykernel_21914/2993019566.py:7: FutureWarning: The frame.append method is deprecated and will be removed from pandas in a future version. Use pandas.concat instead.\n",
      "  sp500 = sp500.append(data)\n"
     ]
    },
    {
     "name": "stdout",
     "output_type": "stream",
     "text": [
      "[*********************100%***********************]  1 of 1 completed\n",
      "Descargando datos para LVS...\n"
     ]
    },
    {
     "name": "stderr",
     "output_type": "stream",
     "text": [
      "/var/folders/db/zztlpw7s0bx2bpqqwrkksxg40000gp/T/ipykernel_21914/2993019566.py:7: FutureWarning: The frame.append method is deprecated and will be removed from pandas in a future version. Use pandas.concat instead.\n",
      "  sp500 = sp500.append(data)\n"
     ]
    },
    {
     "name": "stdout",
     "output_type": "stream",
     "text": [
      "[*********************100%***********************]  1 of 1 completed\n",
      "Descargando datos para LDOS...\n"
     ]
    },
    {
     "name": "stderr",
     "output_type": "stream",
     "text": [
      "/var/folders/db/zztlpw7s0bx2bpqqwrkksxg40000gp/T/ipykernel_21914/2993019566.py:7: FutureWarning: The frame.append method is deprecated and will be removed from pandas in a future version. Use pandas.concat instead.\n",
      "  sp500 = sp500.append(data)\n"
     ]
    },
    {
     "name": "stdout",
     "output_type": "stream",
     "text": [
      "[*********************100%***********************]  1 of 1 completed\n",
      "Descargando datos para LEN...\n"
     ]
    },
    {
     "name": "stderr",
     "output_type": "stream",
     "text": [
      "/var/folders/db/zztlpw7s0bx2bpqqwrkksxg40000gp/T/ipykernel_21914/2993019566.py:7: FutureWarning: The frame.append method is deprecated and will be removed from pandas in a future version. Use pandas.concat instead.\n",
      "  sp500 = sp500.append(data)\n"
     ]
    },
    {
     "name": "stdout",
     "output_type": "stream",
     "text": [
      "[*********************100%***********************]  1 of 1 completed\n",
      "Descargando datos para LNC...\n"
     ]
    },
    {
     "name": "stderr",
     "output_type": "stream",
     "text": [
      "/var/folders/db/zztlpw7s0bx2bpqqwrkksxg40000gp/T/ipykernel_21914/2993019566.py:7: FutureWarning: The frame.append method is deprecated and will be removed from pandas in a future version. Use pandas.concat instead.\n",
      "  sp500 = sp500.append(data)\n"
     ]
    },
    {
     "name": "stdout",
     "output_type": "stream",
     "text": [
      "[*********************100%***********************]  1 of 1 completed\n",
      "Descargando datos para LIN...\n"
     ]
    },
    {
     "name": "stderr",
     "output_type": "stream",
     "text": [
      "/var/folders/db/zztlpw7s0bx2bpqqwrkksxg40000gp/T/ipykernel_21914/2993019566.py:7: FutureWarning: The frame.append method is deprecated and will be removed from pandas in a future version. Use pandas.concat instead.\n",
      "  sp500 = sp500.append(data)\n"
     ]
    },
    {
     "name": "stdout",
     "output_type": "stream",
     "text": [
      "[*********************100%***********************]  1 of 1 completed\n",
      "Descargando datos para LYV...\n"
     ]
    },
    {
     "name": "stderr",
     "output_type": "stream",
     "text": [
      "/var/folders/db/zztlpw7s0bx2bpqqwrkksxg40000gp/T/ipykernel_21914/2993019566.py:7: FutureWarning: The frame.append method is deprecated and will be removed from pandas in a future version. Use pandas.concat instead.\n",
      "  sp500 = sp500.append(data)\n"
     ]
    },
    {
     "name": "stdout",
     "output_type": "stream",
     "text": [
      "[*********************100%***********************]  1 of 1 completed\n",
      "Descargando datos para LKQ...\n"
     ]
    },
    {
     "name": "stderr",
     "output_type": "stream",
     "text": [
      "/var/folders/db/zztlpw7s0bx2bpqqwrkksxg40000gp/T/ipykernel_21914/2993019566.py:7: FutureWarning: The frame.append method is deprecated and will be removed from pandas in a future version. Use pandas.concat instead.\n",
      "  sp500 = sp500.append(data)\n"
     ]
    },
    {
     "name": "stdout",
     "output_type": "stream",
     "text": [
      "[*********************100%***********************]  1 of 1 completed\n",
      "Descargando datos para LMT...\n"
     ]
    },
    {
     "name": "stderr",
     "output_type": "stream",
     "text": [
      "/var/folders/db/zztlpw7s0bx2bpqqwrkksxg40000gp/T/ipykernel_21914/2993019566.py:7: FutureWarning: The frame.append method is deprecated and will be removed from pandas in a future version. Use pandas.concat instead.\n",
      "  sp500 = sp500.append(data)\n"
     ]
    },
    {
     "name": "stdout",
     "output_type": "stream",
     "text": [
      "[*********************100%***********************]  1 of 1 completed\n",
      "Descargando datos para L...\n"
     ]
    },
    {
     "name": "stderr",
     "output_type": "stream",
     "text": [
      "/var/folders/db/zztlpw7s0bx2bpqqwrkksxg40000gp/T/ipykernel_21914/2993019566.py:7: FutureWarning: The frame.append method is deprecated and will be removed from pandas in a future version. Use pandas.concat instead.\n",
      "  sp500 = sp500.append(data)\n"
     ]
    },
    {
     "name": "stdout",
     "output_type": "stream",
     "text": [
      "[*********************100%***********************]  1 of 1 completed\n",
      "Descargando datos para LOW...\n"
     ]
    },
    {
     "name": "stderr",
     "output_type": "stream",
     "text": [
      "/var/folders/db/zztlpw7s0bx2bpqqwrkksxg40000gp/T/ipykernel_21914/2993019566.py:7: FutureWarning: The frame.append method is deprecated and will be removed from pandas in a future version. Use pandas.concat instead.\n",
      "  sp500 = sp500.append(data)\n"
     ]
    },
    {
     "name": "stdout",
     "output_type": "stream",
     "text": [
      "[*********************100%***********************]  1 of 1 completed\n",
      "Descargando datos para LUMN...\n"
     ]
    },
    {
     "name": "stderr",
     "output_type": "stream",
     "text": [
      "/var/folders/db/zztlpw7s0bx2bpqqwrkksxg40000gp/T/ipykernel_21914/2993019566.py:7: FutureWarning: The frame.append method is deprecated and will be removed from pandas in a future version. Use pandas.concat instead.\n",
      "  sp500 = sp500.append(data)\n"
     ]
    },
    {
     "name": "stdout",
     "output_type": "stream",
     "text": [
      "[*********************100%***********************]  1 of 1 completed\n",
      "Descargando datos para LYB...\n"
     ]
    },
    {
     "name": "stderr",
     "output_type": "stream",
     "text": [
      "/var/folders/db/zztlpw7s0bx2bpqqwrkksxg40000gp/T/ipykernel_21914/2993019566.py:7: FutureWarning: The frame.append method is deprecated and will be removed from pandas in a future version. Use pandas.concat instead.\n",
      "  sp500 = sp500.append(data)\n"
     ]
    },
    {
     "name": "stdout",
     "output_type": "stream",
     "text": [
      "[*********************100%***********************]  1 of 1 completed\n",
      "Descargando datos para MTB...\n"
     ]
    },
    {
     "name": "stderr",
     "output_type": "stream",
     "text": [
      "/var/folders/db/zztlpw7s0bx2bpqqwrkksxg40000gp/T/ipykernel_21914/2993019566.py:7: FutureWarning: The frame.append method is deprecated and will be removed from pandas in a future version. Use pandas.concat instead.\n",
      "  sp500 = sp500.append(data)\n"
     ]
    },
    {
     "name": "stdout",
     "output_type": "stream",
     "text": [
      "[*********************100%***********************]  1 of 1 completed\n",
      "Descargando datos para MRO...\n"
     ]
    },
    {
     "name": "stderr",
     "output_type": "stream",
     "text": [
      "/var/folders/db/zztlpw7s0bx2bpqqwrkksxg40000gp/T/ipykernel_21914/2993019566.py:7: FutureWarning: The frame.append method is deprecated and will be removed from pandas in a future version. Use pandas.concat instead.\n",
      "  sp500 = sp500.append(data)\n"
     ]
    },
    {
     "name": "stdout",
     "output_type": "stream",
     "text": [
      "[*********************100%***********************]  1 of 1 completed\n",
      "Descargando datos para MPC...\n"
     ]
    },
    {
     "name": "stderr",
     "output_type": "stream",
     "text": [
      "/var/folders/db/zztlpw7s0bx2bpqqwrkksxg40000gp/T/ipykernel_21914/2993019566.py:7: FutureWarning: The frame.append method is deprecated and will be removed from pandas in a future version. Use pandas.concat instead.\n",
      "  sp500 = sp500.append(data)\n"
     ]
    },
    {
     "name": "stdout",
     "output_type": "stream",
     "text": [
      "[*********************100%***********************]  1 of 1 completed\n",
      "Descargando datos para MKTX...\n"
     ]
    },
    {
     "name": "stderr",
     "output_type": "stream",
     "text": [
      "/var/folders/db/zztlpw7s0bx2bpqqwrkksxg40000gp/T/ipykernel_21914/2993019566.py:7: FutureWarning: The frame.append method is deprecated and will be removed from pandas in a future version. Use pandas.concat instead.\n",
      "  sp500 = sp500.append(data)\n"
     ]
    },
    {
     "name": "stdout",
     "output_type": "stream",
     "text": [
      "[*********************100%***********************]  1 of 1 completed\n",
      "Descargando datos para MAR...\n"
     ]
    },
    {
     "name": "stderr",
     "output_type": "stream",
     "text": [
      "/var/folders/db/zztlpw7s0bx2bpqqwrkksxg40000gp/T/ipykernel_21914/2993019566.py:7: FutureWarning: The frame.append method is deprecated and will be removed from pandas in a future version. Use pandas.concat instead.\n",
      "  sp500 = sp500.append(data)\n"
     ]
    },
    {
     "name": "stdout",
     "output_type": "stream",
     "text": [
      "[*********************100%***********************]  1 of 1 completed\n",
      "Descargando datos para MMC...\n"
     ]
    },
    {
     "name": "stderr",
     "output_type": "stream",
     "text": [
      "/var/folders/db/zztlpw7s0bx2bpqqwrkksxg40000gp/T/ipykernel_21914/2993019566.py:7: FutureWarning: The frame.append method is deprecated and will be removed from pandas in a future version. Use pandas.concat instead.\n",
      "  sp500 = sp500.append(data)\n"
     ]
    },
    {
     "name": "stdout",
     "output_type": "stream",
     "text": [
      "[*********************100%***********************]  1 of 1 completed\n",
      "Descargando datos para MLM...\n"
     ]
    },
    {
     "name": "stderr",
     "output_type": "stream",
     "text": [
      "/var/folders/db/zztlpw7s0bx2bpqqwrkksxg40000gp/T/ipykernel_21914/2993019566.py:7: FutureWarning: The frame.append method is deprecated and will be removed from pandas in a future version. Use pandas.concat instead.\n",
      "  sp500 = sp500.append(data)\n"
     ]
    },
    {
     "name": "stdout",
     "output_type": "stream",
     "text": [
      "[*********************100%***********************]  1 of 1 completed\n",
      "Descargando datos para MAS...\n"
     ]
    },
    {
     "name": "stderr",
     "output_type": "stream",
     "text": [
      "/var/folders/db/zztlpw7s0bx2bpqqwrkksxg40000gp/T/ipykernel_21914/2993019566.py:7: FutureWarning: The frame.append method is deprecated and will be removed from pandas in a future version. Use pandas.concat instead.\n",
      "  sp500 = sp500.append(data)\n"
     ]
    },
    {
     "name": "stdout",
     "output_type": "stream",
     "text": [
      "[*********************100%***********************]  1 of 1 completed\n",
      "Descargando datos para MA...\n"
     ]
    },
    {
     "name": "stderr",
     "output_type": "stream",
     "text": [
      "/var/folders/db/zztlpw7s0bx2bpqqwrkksxg40000gp/T/ipykernel_21914/2993019566.py:7: FutureWarning: The frame.append method is deprecated and will be removed from pandas in a future version. Use pandas.concat instead.\n",
      "  sp500 = sp500.append(data)\n"
     ]
    },
    {
     "name": "stdout",
     "output_type": "stream",
     "text": [
      "[*********************100%***********************]  1 of 1 completed\n",
      "Descargando datos para MTCH...\n"
     ]
    },
    {
     "name": "stderr",
     "output_type": "stream",
     "text": [
      "/var/folders/db/zztlpw7s0bx2bpqqwrkksxg40000gp/T/ipykernel_21914/2993019566.py:7: FutureWarning: The frame.append method is deprecated and will be removed from pandas in a future version. Use pandas.concat instead.\n",
      "  sp500 = sp500.append(data)\n"
     ]
    },
    {
     "name": "stdout",
     "output_type": "stream",
     "text": [
      "[*********************100%***********************]  1 of 1 completed\n",
      "Descargando datos para MKC...\n"
     ]
    },
    {
     "name": "stderr",
     "output_type": "stream",
     "text": [
      "/var/folders/db/zztlpw7s0bx2bpqqwrkksxg40000gp/T/ipykernel_21914/2993019566.py:7: FutureWarning: The frame.append method is deprecated and will be removed from pandas in a future version. Use pandas.concat instead.\n",
      "  sp500 = sp500.append(data)\n"
     ]
    },
    {
     "name": "stdout",
     "output_type": "stream",
     "text": [
      "[*********************100%***********************]  1 of 1 completed\n",
      "Descargando datos para MCD...\n"
     ]
    },
    {
     "name": "stderr",
     "output_type": "stream",
     "text": [
      "/var/folders/db/zztlpw7s0bx2bpqqwrkksxg40000gp/T/ipykernel_21914/2993019566.py:7: FutureWarning: The frame.append method is deprecated and will be removed from pandas in a future version. Use pandas.concat instead.\n",
      "  sp500 = sp500.append(data)\n"
     ]
    },
    {
     "name": "stdout",
     "output_type": "stream",
     "text": [
      "[*********************100%***********************]  1 of 1 completed\n",
      "Descargando datos para MCK...\n"
     ]
    },
    {
     "name": "stderr",
     "output_type": "stream",
     "text": [
      "/var/folders/db/zztlpw7s0bx2bpqqwrkksxg40000gp/T/ipykernel_21914/2993019566.py:7: FutureWarning: The frame.append method is deprecated and will be removed from pandas in a future version. Use pandas.concat instead.\n",
      "  sp500 = sp500.append(data)\n"
     ]
    },
    {
     "name": "stdout",
     "output_type": "stream",
     "text": [
      "[*********************100%***********************]  1 of 1 completed\n",
      "Descargando datos para MDT...\n"
     ]
    },
    {
     "name": "stderr",
     "output_type": "stream",
     "text": [
      "/var/folders/db/zztlpw7s0bx2bpqqwrkksxg40000gp/T/ipykernel_21914/2993019566.py:7: FutureWarning: The frame.append method is deprecated and will be removed from pandas in a future version. Use pandas.concat instead.\n",
      "  sp500 = sp500.append(data)\n"
     ]
    },
    {
     "name": "stdout",
     "output_type": "stream",
     "text": [
      "[*********************100%***********************]  1 of 1 completed\n",
      "Descargando datos para MRK...\n"
     ]
    },
    {
     "name": "stderr",
     "output_type": "stream",
     "text": [
      "/var/folders/db/zztlpw7s0bx2bpqqwrkksxg40000gp/T/ipykernel_21914/2993019566.py:7: FutureWarning: The frame.append method is deprecated and will be removed from pandas in a future version. Use pandas.concat instead.\n",
      "  sp500 = sp500.append(data)\n"
     ]
    },
    {
     "name": "stdout",
     "output_type": "stream",
     "text": [
      "[*********************100%***********************]  1 of 1 completed\n",
      "Descargando datos para META...\n"
     ]
    },
    {
     "name": "stderr",
     "output_type": "stream",
     "text": [
      "/var/folders/db/zztlpw7s0bx2bpqqwrkksxg40000gp/T/ipykernel_21914/2993019566.py:7: FutureWarning: The frame.append method is deprecated and will be removed from pandas in a future version. Use pandas.concat instead.\n",
      "  sp500 = sp500.append(data)\n"
     ]
    },
    {
     "name": "stdout",
     "output_type": "stream",
     "text": [
      "[*********************100%***********************]  1 of 1 completed\n",
      "Descargando datos para MET...\n"
     ]
    },
    {
     "name": "stderr",
     "output_type": "stream",
     "text": [
      "/var/folders/db/zztlpw7s0bx2bpqqwrkksxg40000gp/T/ipykernel_21914/2993019566.py:7: FutureWarning: The frame.append method is deprecated and will be removed from pandas in a future version. Use pandas.concat instead.\n",
      "  sp500 = sp500.append(data)\n"
     ]
    },
    {
     "name": "stdout",
     "output_type": "stream",
     "text": [
      "[*********************100%***********************]  1 of 1 completed\n",
      "Descargando datos para MTD...\n"
     ]
    },
    {
     "name": "stderr",
     "output_type": "stream",
     "text": [
      "/var/folders/db/zztlpw7s0bx2bpqqwrkksxg40000gp/T/ipykernel_21914/2993019566.py:7: FutureWarning: The frame.append method is deprecated and will be removed from pandas in a future version. Use pandas.concat instead.\n",
      "  sp500 = sp500.append(data)\n"
     ]
    },
    {
     "name": "stdout",
     "output_type": "stream",
     "text": [
      "[*********************100%***********************]  1 of 1 completed\n",
      "Descargando datos para MGM...\n"
     ]
    },
    {
     "name": "stderr",
     "output_type": "stream",
     "text": [
      "/var/folders/db/zztlpw7s0bx2bpqqwrkksxg40000gp/T/ipykernel_21914/2993019566.py:7: FutureWarning: The frame.append method is deprecated and will be removed from pandas in a future version. Use pandas.concat instead.\n",
      "  sp500 = sp500.append(data)\n"
     ]
    },
    {
     "name": "stdout",
     "output_type": "stream",
     "text": [
      "[*********************100%***********************]  1 of 1 completed\n",
      "Descargando datos para MCHP...\n"
     ]
    },
    {
     "name": "stderr",
     "output_type": "stream",
     "text": [
      "/var/folders/db/zztlpw7s0bx2bpqqwrkksxg40000gp/T/ipykernel_21914/2993019566.py:7: FutureWarning: The frame.append method is deprecated and will be removed from pandas in a future version. Use pandas.concat instead.\n",
      "  sp500 = sp500.append(data)\n"
     ]
    },
    {
     "name": "stdout",
     "output_type": "stream",
     "text": [
      "[*********************100%***********************]  1 of 1 completed\n",
      "Descargando datos para MU...\n"
     ]
    },
    {
     "name": "stderr",
     "output_type": "stream",
     "text": [
      "/var/folders/db/zztlpw7s0bx2bpqqwrkksxg40000gp/T/ipykernel_21914/2993019566.py:7: FutureWarning: The frame.append method is deprecated and will be removed from pandas in a future version. Use pandas.concat instead.\n",
      "  sp500 = sp500.append(data)\n"
     ]
    },
    {
     "name": "stdout",
     "output_type": "stream",
     "text": [
      "[*********************100%***********************]  1 of 1 completed\n",
      "Descargando datos para MSFT...\n"
     ]
    },
    {
     "name": "stderr",
     "output_type": "stream",
     "text": [
      "/var/folders/db/zztlpw7s0bx2bpqqwrkksxg40000gp/T/ipykernel_21914/2993019566.py:7: FutureWarning: The frame.append method is deprecated and will be removed from pandas in a future version. Use pandas.concat instead.\n",
      "  sp500 = sp500.append(data)\n"
     ]
    },
    {
     "name": "stdout",
     "output_type": "stream",
     "text": [
      "[*********************100%***********************]  1 of 1 completed\n",
      "Descargando datos para MAA...\n"
     ]
    },
    {
     "name": "stderr",
     "output_type": "stream",
     "text": [
      "/var/folders/db/zztlpw7s0bx2bpqqwrkksxg40000gp/T/ipykernel_21914/2993019566.py:7: FutureWarning: The frame.append method is deprecated and will be removed from pandas in a future version. Use pandas.concat instead.\n",
      "  sp500 = sp500.append(data)\n"
     ]
    },
    {
     "name": "stdout",
     "output_type": "stream",
     "text": [
      "[*********************100%***********************]  1 of 1 completed\n",
      "Descargando datos para MRNA...\n"
     ]
    },
    {
     "name": "stderr",
     "output_type": "stream",
     "text": [
      "/var/folders/db/zztlpw7s0bx2bpqqwrkksxg40000gp/T/ipykernel_21914/2993019566.py:7: FutureWarning: The frame.append method is deprecated and will be removed from pandas in a future version. Use pandas.concat instead.\n",
      "  sp500 = sp500.append(data)\n"
     ]
    },
    {
     "name": "stdout",
     "output_type": "stream",
     "text": [
      "[*********************100%***********************]  1 of 1 completed\n",
      "Descargando datos para MHK...\n"
     ]
    },
    {
     "name": "stderr",
     "output_type": "stream",
     "text": [
      "/var/folders/db/zztlpw7s0bx2bpqqwrkksxg40000gp/T/ipykernel_21914/2993019566.py:7: FutureWarning: The frame.append method is deprecated and will be removed from pandas in a future version. Use pandas.concat instead.\n",
      "  sp500 = sp500.append(data)\n"
     ]
    },
    {
     "name": "stdout",
     "output_type": "stream",
     "text": [
      "[*********************100%***********************]  1 of 1 completed\n",
      "Descargando datos para MOH...\n"
     ]
    },
    {
     "name": "stderr",
     "output_type": "stream",
     "text": [
      "/var/folders/db/zztlpw7s0bx2bpqqwrkksxg40000gp/T/ipykernel_21914/2993019566.py:7: FutureWarning: The frame.append method is deprecated and will be removed from pandas in a future version. Use pandas.concat instead.\n",
      "  sp500 = sp500.append(data)\n"
     ]
    },
    {
     "name": "stdout",
     "output_type": "stream",
     "text": [
      "[*********************100%***********************]  1 of 1 completed\n",
      "Descargando datos para TAP...\n"
     ]
    },
    {
     "name": "stderr",
     "output_type": "stream",
     "text": [
      "/var/folders/db/zztlpw7s0bx2bpqqwrkksxg40000gp/T/ipykernel_21914/2993019566.py:7: FutureWarning: The frame.append method is deprecated and will be removed from pandas in a future version. Use pandas.concat instead.\n",
      "  sp500 = sp500.append(data)\n"
     ]
    },
    {
     "name": "stdout",
     "output_type": "stream",
     "text": [
      "[*********************100%***********************]  1 of 1 completed\n",
      "Descargando datos para MDLZ...\n"
     ]
    },
    {
     "name": "stderr",
     "output_type": "stream",
     "text": [
      "/var/folders/db/zztlpw7s0bx2bpqqwrkksxg40000gp/T/ipykernel_21914/2993019566.py:7: FutureWarning: The frame.append method is deprecated and will be removed from pandas in a future version. Use pandas.concat instead.\n",
      "  sp500 = sp500.append(data)\n"
     ]
    },
    {
     "name": "stdout",
     "output_type": "stream",
     "text": [
      "[*********************100%***********************]  1 of 1 completed\n",
      "Descargando datos para MPWR...\n"
     ]
    },
    {
     "name": "stderr",
     "output_type": "stream",
     "text": [
      "/var/folders/db/zztlpw7s0bx2bpqqwrkksxg40000gp/T/ipykernel_21914/2993019566.py:7: FutureWarning: The frame.append method is deprecated and will be removed from pandas in a future version. Use pandas.concat instead.\n",
      "  sp500 = sp500.append(data)\n"
     ]
    },
    {
     "name": "stdout",
     "output_type": "stream",
     "text": [
      "[*********************100%***********************]  1 of 1 completed\n",
      "Descargando datos para MNST...\n"
     ]
    },
    {
     "name": "stderr",
     "output_type": "stream",
     "text": [
      "/var/folders/db/zztlpw7s0bx2bpqqwrkksxg40000gp/T/ipykernel_21914/2993019566.py:7: FutureWarning: The frame.append method is deprecated and will be removed from pandas in a future version. Use pandas.concat instead.\n",
      "  sp500 = sp500.append(data)\n"
     ]
    },
    {
     "name": "stdout",
     "output_type": "stream",
     "text": [
      "[*********************100%***********************]  1 of 1 completed\n",
      "Descargando datos para MCO...\n"
     ]
    },
    {
     "name": "stderr",
     "output_type": "stream",
     "text": [
      "/var/folders/db/zztlpw7s0bx2bpqqwrkksxg40000gp/T/ipykernel_21914/2993019566.py:7: FutureWarning: The frame.append method is deprecated and will be removed from pandas in a future version. Use pandas.concat instead.\n",
      "  sp500 = sp500.append(data)\n"
     ]
    },
    {
     "name": "stdout",
     "output_type": "stream",
     "text": [
      "[*********************100%***********************]  1 of 1 completed\n",
      "Descargando datos para MS...\n"
     ]
    },
    {
     "name": "stderr",
     "output_type": "stream",
     "text": [
      "/var/folders/db/zztlpw7s0bx2bpqqwrkksxg40000gp/T/ipykernel_21914/2993019566.py:7: FutureWarning: The frame.append method is deprecated and will be removed from pandas in a future version. Use pandas.concat instead.\n",
      "  sp500 = sp500.append(data)\n"
     ]
    },
    {
     "name": "stdout",
     "output_type": "stream",
     "text": [
      "[*********************100%***********************]  1 of 1 completed\n",
      "Descargando datos para MOS...\n"
     ]
    },
    {
     "name": "stderr",
     "output_type": "stream",
     "text": [
      "/var/folders/db/zztlpw7s0bx2bpqqwrkksxg40000gp/T/ipykernel_21914/2993019566.py:7: FutureWarning: The frame.append method is deprecated and will be removed from pandas in a future version. Use pandas.concat instead.\n",
      "  sp500 = sp500.append(data)\n"
     ]
    },
    {
     "name": "stdout",
     "output_type": "stream",
     "text": [
      "[*********************100%***********************]  1 of 1 completed\n",
      "Descargando datos para MSI...\n"
     ]
    },
    {
     "name": "stderr",
     "output_type": "stream",
     "text": [
      "/var/folders/db/zztlpw7s0bx2bpqqwrkksxg40000gp/T/ipykernel_21914/2993019566.py:7: FutureWarning: The frame.append method is deprecated and will be removed from pandas in a future version. Use pandas.concat instead.\n",
      "  sp500 = sp500.append(data)\n"
     ]
    },
    {
     "name": "stdout",
     "output_type": "stream",
     "text": [
      "[*********************100%***********************]  1 of 1 completed\n",
      "Descargando datos para MSCI...\n"
     ]
    },
    {
     "name": "stderr",
     "output_type": "stream",
     "text": [
      "/var/folders/db/zztlpw7s0bx2bpqqwrkksxg40000gp/T/ipykernel_21914/2993019566.py:7: FutureWarning: The frame.append method is deprecated and will be removed from pandas in a future version. Use pandas.concat instead.\n",
      "  sp500 = sp500.append(data)\n"
     ]
    },
    {
     "name": "stdout",
     "output_type": "stream",
     "text": [
      "[*********************100%***********************]  1 of 1 completed\n",
      "Descargando datos para NDAQ...\n"
     ]
    },
    {
     "name": "stderr",
     "output_type": "stream",
     "text": [
      "/var/folders/db/zztlpw7s0bx2bpqqwrkksxg40000gp/T/ipykernel_21914/2993019566.py:7: FutureWarning: The frame.append method is deprecated and will be removed from pandas in a future version. Use pandas.concat instead.\n",
      "  sp500 = sp500.append(data)\n"
     ]
    },
    {
     "name": "stdout",
     "output_type": "stream",
     "text": [
      "[*********************100%***********************]  1 of 1 completed\n",
      "Descargando datos para NTAP...\n"
     ]
    },
    {
     "name": "stderr",
     "output_type": "stream",
     "text": [
      "/var/folders/db/zztlpw7s0bx2bpqqwrkksxg40000gp/T/ipykernel_21914/2993019566.py:7: FutureWarning: The frame.append method is deprecated and will be removed from pandas in a future version. Use pandas.concat instead.\n",
      "  sp500 = sp500.append(data)\n"
     ]
    },
    {
     "name": "stdout",
     "output_type": "stream",
     "text": [
      "[*********************100%***********************]  1 of 1 completed\n",
      "Descargando datos para NFLX...\n"
     ]
    },
    {
     "name": "stderr",
     "output_type": "stream",
     "text": [
      "/var/folders/db/zztlpw7s0bx2bpqqwrkksxg40000gp/T/ipykernel_21914/2993019566.py:7: FutureWarning: The frame.append method is deprecated and will be removed from pandas in a future version. Use pandas.concat instead.\n",
      "  sp500 = sp500.append(data)\n"
     ]
    },
    {
     "name": "stdout",
     "output_type": "stream",
     "text": [
      "[*********************100%***********************]  1 of 1 completed\n",
      "Descargando datos para NWL...\n"
     ]
    },
    {
     "name": "stderr",
     "output_type": "stream",
     "text": [
      "/var/folders/db/zztlpw7s0bx2bpqqwrkksxg40000gp/T/ipykernel_21914/2993019566.py:7: FutureWarning: The frame.append method is deprecated and will be removed from pandas in a future version. Use pandas.concat instead.\n",
      "  sp500 = sp500.append(data)\n"
     ]
    },
    {
     "name": "stdout",
     "output_type": "stream",
     "text": [
      "[*********************100%***********************]  1 of 1 completed\n",
      "Descargando datos para NEM...\n"
     ]
    },
    {
     "name": "stderr",
     "output_type": "stream",
     "text": [
      "/var/folders/db/zztlpw7s0bx2bpqqwrkksxg40000gp/T/ipykernel_21914/2993019566.py:7: FutureWarning: The frame.append method is deprecated and will be removed from pandas in a future version. Use pandas.concat instead.\n",
      "  sp500 = sp500.append(data)\n"
     ]
    },
    {
     "name": "stdout",
     "output_type": "stream",
     "text": [
      "[*********************100%***********************]  1 of 1 completed\n",
      "Descargando datos para NWSA...\n"
     ]
    },
    {
     "name": "stderr",
     "output_type": "stream",
     "text": [
      "/var/folders/db/zztlpw7s0bx2bpqqwrkksxg40000gp/T/ipykernel_21914/2993019566.py:7: FutureWarning: The frame.append method is deprecated and will be removed from pandas in a future version. Use pandas.concat instead.\n",
      "  sp500 = sp500.append(data)\n"
     ]
    },
    {
     "name": "stdout",
     "output_type": "stream",
     "text": [
      "[*********************100%***********************]  1 of 1 completed\n",
      "Descargando datos para NWS...\n"
     ]
    },
    {
     "name": "stderr",
     "output_type": "stream",
     "text": [
      "/var/folders/db/zztlpw7s0bx2bpqqwrkksxg40000gp/T/ipykernel_21914/2993019566.py:7: FutureWarning: The frame.append method is deprecated and will be removed from pandas in a future version. Use pandas.concat instead.\n",
      "  sp500 = sp500.append(data)\n"
     ]
    },
    {
     "name": "stdout",
     "output_type": "stream",
     "text": [
      "[*********************100%***********************]  1 of 1 completed\n",
      "Descargando datos para NEE...\n"
     ]
    },
    {
     "name": "stderr",
     "output_type": "stream",
     "text": [
      "/var/folders/db/zztlpw7s0bx2bpqqwrkksxg40000gp/T/ipykernel_21914/2993019566.py:7: FutureWarning: The frame.append method is deprecated and will be removed from pandas in a future version. Use pandas.concat instead.\n",
      "  sp500 = sp500.append(data)\n"
     ]
    },
    {
     "name": "stdout",
     "output_type": "stream",
     "text": [
      "[*********************100%***********************]  1 of 1 completed\n",
      "Descargando datos para NKE...\n"
     ]
    },
    {
     "name": "stderr",
     "output_type": "stream",
     "text": [
      "/var/folders/db/zztlpw7s0bx2bpqqwrkksxg40000gp/T/ipykernel_21914/2993019566.py:7: FutureWarning: The frame.append method is deprecated and will be removed from pandas in a future version. Use pandas.concat instead.\n",
      "  sp500 = sp500.append(data)\n"
     ]
    },
    {
     "name": "stdout",
     "output_type": "stream",
     "text": [
      "[*********************100%***********************]  1 of 1 completed\n",
      "Descargando datos para NI...\n"
     ]
    },
    {
     "name": "stderr",
     "output_type": "stream",
     "text": [
      "/var/folders/db/zztlpw7s0bx2bpqqwrkksxg40000gp/T/ipykernel_21914/2993019566.py:7: FutureWarning: The frame.append method is deprecated and will be removed from pandas in a future version. Use pandas.concat instead.\n",
      "  sp500 = sp500.append(data)\n"
     ]
    },
    {
     "name": "stdout",
     "output_type": "stream",
     "text": [
      "[*********************100%***********************]  1 of 1 completed\n",
      "Descargando datos para NDSN...\n"
     ]
    },
    {
     "name": "stderr",
     "output_type": "stream",
     "text": [
      "/var/folders/db/zztlpw7s0bx2bpqqwrkksxg40000gp/T/ipykernel_21914/2993019566.py:7: FutureWarning: The frame.append method is deprecated and will be removed from pandas in a future version. Use pandas.concat instead.\n",
      "  sp500 = sp500.append(data)\n"
     ]
    },
    {
     "name": "stdout",
     "output_type": "stream",
     "text": [
      "[*********************100%***********************]  1 of 1 completed\n",
      "Descargando datos para NSC...\n"
     ]
    },
    {
     "name": "stderr",
     "output_type": "stream",
     "text": [
      "/var/folders/db/zztlpw7s0bx2bpqqwrkksxg40000gp/T/ipykernel_21914/2993019566.py:7: FutureWarning: The frame.append method is deprecated and will be removed from pandas in a future version. Use pandas.concat instead.\n",
      "  sp500 = sp500.append(data)\n"
     ]
    },
    {
     "name": "stdout",
     "output_type": "stream",
     "text": [
      "[*********************100%***********************]  1 of 1 completed\n",
      "Descargando datos para NTRS...\n"
     ]
    },
    {
     "name": "stderr",
     "output_type": "stream",
     "text": [
      "/var/folders/db/zztlpw7s0bx2bpqqwrkksxg40000gp/T/ipykernel_21914/2993019566.py:7: FutureWarning: The frame.append method is deprecated and will be removed from pandas in a future version. Use pandas.concat instead.\n",
      "  sp500 = sp500.append(data)\n"
     ]
    },
    {
     "name": "stdout",
     "output_type": "stream",
     "text": [
      "[*********************100%***********************]  1 of 1 completed\n",
      "Descargando datos para NOC...\n"
     ]
    },
    {
     "name": "stderr",
     "output_type": "stream",
     "text": [
      "/var/folders/db/zztlpw7s0bx2bpqqwrkksxg40000gp/T/ipykernel_21914/2993019566.py:7: FutureWarning: The frame.append method is deprecated and will be removed from pandas in a future version. Use pandas.concat instead.\n",
      "  sp500 = sp500.append(data)\n"
     ]
    },
    {
     "name": "stdout",
     "output_type": "stream",
     "text": [
      "[*********************100%***********************]  1 of 1 completed\n",
      "Descargando datos para NCLH...\n"
     ]
    },
    {
     "name": "stderr",
     "output_type": "stream",
     "text": [
      "/var/folders/db/zztlpw7s0bx2bpqqwrkksxg40000gp/T/ipykernel_21914/2993019566.py:7: FutureWarning: The frame.append method is deprecated and will be removed from pandas in a future version. Use pandas.concat instead.\n",
      "  sp500 = sp500.append(data)\n"
     ]
    },
    {
     "name": "stdout",
     "output_type": "stream",
     "text": [
      "[*********************100%***********************]  1 of 1 completed\n",
      "Descargando datos para NRG...\n"
     ]
    },
    {
     "name": "stderr",
     "output_type": "stream",
     "text": [
      "/var/folders/db/zztlpw7s0bx2bpqqwrkksxg40000gp/T/ipykernel_21914/2993019566.py:7: FutureWarning: The frame.append method is deprecated and will be removed from pandas in a future version. Use pandas.concat instead.\n",
      "  sp500 = sp500.append(data)\n"
     ]
    },
    {
     "name": "stdout",
     "output_type": "stream",
     "text": [
      "[*********************100%***********************]  1 of 1 completed\n",
      "Descargando datos para NUE...\n"
     ]
    },
    {
     "name": "stderr",
     "output_type": "stream",
     "text": [
      "/var/folders/db/zztlpw7s0bx2bpqqwrkksxg40000gp/T/ipykernel_21914/2993019566.py:7: FutureWarning: The frame.append method is deprecated and will be removed from pandas in a future version. Use pandas.concat instead.\n",
      "  sp500 = sp500.append(data)\n"
     ]
    },
    {
     "name": "stdout",
     "output_type": "stream",
     "text": [
      "[*********************100%***********************]  1 of 1 completed\n",
      "Descargando datos para NVDA...\n"
     ]
    },
    {
     "name": "stderr",
     "output_type": "stream",
     "text": [
      "/var/folders/db/zztlpw7s0bx2bpqqwrkksxg40000gp/T/ipykernel_21914/2993019566.py:7: FutureWarning: The frame.append method is deprecated and will be removed from pandas in a future version. Use pandas.concat instead.\n",
      "  sp500 = sp500.append(data)\n"
     ]
    },
    {
     "name": "stdout",
     "output_type": "stream",
     "text": [
      "[*********************100%***********************]  1 of 1 completed\n",
      "Descargando datos para NVR...\n"
     ]
    },
    {
     "name": "stderr",
     "output_type": "stream",
     "text": [
      "/var/folders/db/zztlpw7s0bx2bpqqwrkksxg40000gp/T/ipykernel_21914/2993019566.py:7: FutureWarning: The frame.append method is deprecated and will be removed from pandas in a future version. Use pandas.concat instead.\n",
      "  sp500 = sp500.append(data)\n"
     ]
    },
    {
     "name": "stdout",
     "output_type": "stream",
     "text": [
      "[*********************100%***********************]  1 of 1 completed\n",
      "Descargando datos para NXPI...\n"
     ]
    },
    {
     "name": "stderr",
     "output_type": "stream",
     "text": [
      "/var/folders/db/zztlpw7s0bx2bpqqwrkksxg40000gp/T/ipykernel_21914/2993019566.py:7: FutureWarning: The frame.append method is deprecated and will be removed from pandas in a future version. Use pandas.concat instead.\n",
      "  sp500 = sp500.append(data)\n"
     ]
    },
    {
     "name": "stdout",
     "output_type": "stream",
     "text": [
      "[*********************100%***********************]  1 of 1 completed\n",
      "Descargando datos para ORLY...\n"
     ]
    },
    {
     "name": "stderr",
     "output_type": "stream",
     "text": [
      "/var/folders/db/zztlpw7s0bx2bpqqwrkksxg40000gp/T/ipykernel_21914/2993019566.py:7: FutureWarning: The frame.append method is deprecated and will be removed from pandas in a future version. Use pandas.concat instead.\n",
      "  sp500 = sp500.append(data)\n"
     ]
    },
    {
     "name": "stdout",
     "output_type": "stream",
     "text": [
      "[*********************100%***********************]  1 of 1 completed\n",
      "Descargando datos para OXY...\n"
     ]
    },
    {
     "name": "stderr",
     "output_type": "stream",
     "text": [
      "/var/folders/db/zztlpw7s0bx2bpqqwrkksxg40000gp/T/ipykernel_21914/2993019566.py:7: FutureWarning: The frame.append method is deprecated and will be removed from pandas in a future version. Use pandas.concat instead.\n",
      "  sp500 = sp500.append(data)\n"
     ]
    },
    {
     "name": "stdout",
     "output_type": "stream",
     "text": [
      "[*********************100%***********************]  1 of 1 completed\n",
      "Descargando datos para ODFL...\n"
     ]
    },
    {
     "name": "stderr",
     "output_type": "stream",
     "text": [
      "/var/folders/db/zztlpw7s0bx2bpqqwrkksxg40000gp/T/ipykernel_21914/2993019566.py:7: FutureWarning: The frame.append method is deprecated and will be removed from pandas in a future version. Use pandas.concat instead.\n",
      "  sp500 = sp500.append(data)\n"
     ]
    },
    {
     "name": "stdout",
     "output_type": "stream",
     "text": [
      "[*********************100%***********************]  1 of 1 completed\n",
      "Descargando datos para OMC...\n"
     ]
    },
    {
     "name": "stderr",
     "output_type": "stream",
     "text": [
      "/var/folders/db/zztlpw7s0bx2bpqqwrkksxg40000gp/T/ipykernel_21914/2993019566.py:7: FutureWarning: The frame.append method is deprecated and will be removed from pandas in a future version. Use pandas.concat instead.\n",
      "  sp500 = sp500.append(data)\n"
     ]
    },
    {
     "name": "stdout",
     "output_type": "stream",
     "text": [
      "[*********************100%***********************]  1 of 1 completed\n",
      "Descargando datos para ON...\n"
     ]
    },
    {
     "name": "stderr",
     "output_type": "stream",
     "text": [
      "/var/folders/db/zztlpw7s0bx2bpqqwrkksxg40000gp/T/ipykernel_21914/2993019566.py:7: FutureWarning: The frame.append method is deprecated and will be removed from pandas in a future version. Use pandas.concat instead.\n",
      "  sp500 = sp500.append(data)\n"
     ]
    },
    {
     "name": "stdout",
     "output_type": "stream",
     "text": [
      "[*********************100%***********************]  1 of 1 completed\n",
      "Descargando datos para OKE...\n"
     ]
    },
    {
     "name": "stderr",
     "output_type": "stream",
     "text": [
      "/var/folders/db/zztlpw7s0bx2bpqqwrkksxg40000gp/T/ipykernel_21914/2993019566.py:7: FutureWarning: The frame.append method is deprecated and will be removed from pandas in a future version. Use pandas.concat instead.\n",
      "  sp500 = sp500.append(data)\n"
     ]
    },
    {
     "name": "stdout",
     "output_type": "stream",
     "text": [
      "[*********************100%***********************]  1 of 1 completed\n",
      "Descargando datos para ORCL...\n"
     ]
    },
    {
     "name": "stderr",
     "output_type": "stream",
     "text": [
      "/var/folders/db/zztlpw7s0bx2bpqqwrkksxg40000gp/T/ipykernel_21914/2993019566.py:7: FutureWarning: The frame.append method is deprecated and will be removed from pandas in a future version. Use pandas.concat instead.\n",
      "  sp500 = sp500.append(data)\n"
     ]
    },
    {
     "name": "stdout",
     "output_type": "stream",
     "text": [
      "[*********************100%***********************]  1 of 1 completed\n",
      "Descargando datos para OGN...\n"
     ]
    },
    {
     "name": "stderr",
     "output_type": "stream",
     "text": [
      "/var/folders/db/zztlpw7s0bx2bpqqwrkksxg40000gp/T/ipykernel_21914/2993019566.py:7: FutureWarning: The frame.append method is deprecated and will be removed from pandas in a future version. Use pandas.concat instead.\n",
      "  sp500 = sp500.append(data)\n"
     ]
    },
    {
     "name": "stdout",
     "output_type": "stream",
     "text": [
      "[*********************100%***********************]  1 of 1 completed\n",
      "Descargando datos para OTIS...\n"
     ]
    },
    {
     "name": "stderr",
     "output_type": "stream",
     "text": [
      "/var/folders/db/zztlpw7s0bx2bpqqwrkksxg40000gp/T/ipykernel_21914/2993019566.py:7: FutureWarning: The frame.append method is deprecated and will be removed from pandas in a future version. Use pandas.concat instead.\n",
      "  sp500 = sp500.append(data)\n"
     ]
    },
    {
     "name": "stdout",
     "output_type": "stream",
     "text": [
      "[*********************100%***********************]  1 of 1 completed\n",
      "Descargando datos para PCAR...\n"
     ]
    },
    {
     "name": "stderr",
     "output_type": "stream",
     "text": [
      "/var/folders/db/zztlpw7s0bx2bpqqwrkksxg40000gp/T/ipykernel_21914/2993019566.py:7: FutureWarning: The frame.append method is deprecated and will be removed from pandas in a future version. Use pandas.concat instead.\n",
      "  sp500 = sp500.append(data)\n"
     ]
    },
    {
     "name": "stdout",
     "output_type": "stream",
     "text": [
      "[*********************100%***********************]  1 of 1 completed\n",
      "Descargando datos para PKG...\n"
     ]
    },
    {
     "name": "stderr",
     "output_type": "stream",
     "text": [
      "/var/folders/db/zztlpw7s0bx2bpqqwrkksxg40000gp/T/ipykernel_21914/2993019566.py:7: FutureWarning: The frame.append method is deprecated and will be removed from pandas in a future version. Use pandas.concat instead.\n",
      "  sp500 = sp500.append(data)\n"
     ]
    },
    {
     "name": "stdout",
     "output_type": "stream",
     "text": [
      "[*********************100%***********************]  1 of 1 completed\n",
      "Descargando datos para PARA...\n"
     ]
    },
    {
     "name": "stderr",
     "output_type": "stream",
     "text": [
      "/var/folders/db/zztlpw7s0bx2bpqqwrkksxg40000gp/T/ipykernel_21914/2993019566.py:7: FutureWarning: The frame.append method is deprecated and will be removed from pandas in a future version. Use pandas.concat instead.\n",
      "  sp500 = sp500.append(data)\n"
     ]
    },
    {
     "name": "stdout",
     "output_type": "stream",
     "text": [
      "[*********************100%***********************]  1 of 1 completed\n",
      "Descargando datos para PH...\n"
     ]
    },
    {
     "name": "stderr",
     "output_type": "stream",
     "text": [
      "/var/folders/db/zztlpw7s0bx2bpqqwrkksxg40000gp/T/ipykernel_21914/2993019566.py:7: FutureWarning: The frame.append method is deprecated and will be removed from pandas in a future version. Use pandas.concat instead.\n",
      "  sp500 = sp500.append(data)\n"
     ]
    },
    {
     "name": "stdout",
     "output_type": "stream",
     "text": [
      "[*********************100%***********************]  1 of 1 completed\n",
      "Descargando datos para PAYX...\n"
     ]
    },
    {
     "name": "stderr",
     "output_type": "stream",
     "text": [
      "/var/folders/db/zztlpw7s0bx2bpqqwrkksxg40000gp/T/ipykernel_21914/2993019566.py:7: FutureWarning: The frame.append method is deprecated and will be removed from pandas in a future version. Use pandas.concat instead.\n",
      "  sp500 = sp500.append(data)\n"
     ]
    },
    {
     "name": "stdout",
     "output_type": "stream",
     "text": [
      "[*********************100%***********************]  1 of 1 completed\n",
      "Descargando datos para PAYC...\n"
     ]
    },
    {
     "name": "stderr",
     "output_type": "stream",
     "text": [
      "/var/folders/db/zztlpw7s0bx2bpqqwrkksxg40000gp/T/ipykernel_21914/2993019566.py:7: FutureWarning: The frame.append method is deprecated and will be removed from pandas in a future version. Use pandas.concat instead.\n",
      "  sp500 = sp500.append(data)\n"
     ]
    },
    {
     "name": "stdout",
     "output_type": "stream",
     "text": [
      "[*********************100%***********************]  1 of 1 completed\n",
      "Descargando datos para PYPL...\n"
     ]
    },
    {
     "name": "stderr",
     "output_type": "stream",
     "text": [
      "/var/folders/db/zztlpw7s0bx2bpqqwrkksxg40000gp/T/ipykernel_21914/2993019566.py:7: FutureWarning: The frame.append method is deprecated and will be removed from pandas in a future version. Use pandas.concat instead.\n",
      "  sp500 = sp500.append(data)\n"
     ]
    },
    {
     "name": "stdout",
     "output_type": "stream",
     "text": [
      "[*********************100%***********************]  1 of 1 completed\n",
      "Descargando datos para PNR...\n"
     ]
    },
    {
     "name": "stderr",
     "output_type": "stream",
     "text": [
      "/var/folders/db/zztlpw7s0bx2bpqqwrkksxg40000gp/T/ipykernel_21914/2993019566.py:7: FutureWarning: The frame.append method is deprecated and will be removed from pandas in a future version. Use pandas.concat instead.\n",
      "  sp500 = sp500.append(data)\n"
     ]
    },
    {
     "name": "stdout",
     "output_type": "stream",
     "text": [
      "[*********************100%***********************]  1 of 1 completed\n",
      "Descargando datos para PEP...\n"
     ]
    },
    {
     "name": "stderr",
     "output_type": "stream",
     "text": [
      "/var/folders/db/zztlpw7s0bx2bpqqwrkksxg40000gp/T/ipykernel_21914/2993019566.py:7: FutureWarning: The frame.append method is deprecated and will be removed from pandas in a future version. Use pandas.concat instead.\n",
      "  sp500 = sp500.append(data)\n"
     ]
    },
    {
     "name": "stdout",
     "output_type": "stream",
     "text": [
      "[*********************100%***********************]  1 of 1 completed\n",
      "Descargando datos para PKI...\n"
     ]
    },
    {
     "name": "stderr",
     "output_type": "stream",
     "text": [
      "/var/folders/db/zztlpw7s0bx2bpqqwrkksxg40000gp/T/ipykernel_21914/2993019566.py:7: FutureWarning: The frame.append method is deprecated and will be removed from pandas in a future version. Use pandas.concat instead.\n",
      "  sp500 = sp500.append(data)\n"
     ]
    },
    {
     "name": "stdout",
     "output_type": "stream",
     "text": [
      "[*********************100%***********************]  1 of 1 completed\n",
      "Descargando datos para PFE...\n"
     ]
    },
    {
     "name": "stderr",
     "output_type": "stream",
     "text": [
      "/var/folders/db/zztlpw7s0bx2bpqqwrkksxg40000gp/T/ipykernel_21914/2993019566.py:7: FutureWarning: The frame.append method is deprecated and will be removed from pandas in a future version. Use pandas.concat instead.\n",
      "  sp500 = sp500.append(data)\n"
     ]
    },
    {
     "name": "stdout",
     "output_type": "stream",
     "text": [
      "[*********************100%***********************]  1 of 1 completed\n",
      "Descargando datos para PCG...\n"
     ]
    },
    {
     "name": "stderr",
     "output_type": "stream",
     "text": [
      "/var/folders/db/zztlpw7s0bx2bpqqwrkksxg40000gp/T/ipykernel_21914/2993019566.py:7: FutureWarning: The frame.append method is deprecated and will be removed from pandas in a future version. Use pandas.concat instead.\n",
      "  sp500 = sp500.append(data)\n"
     ]
    },
    {
     "name": "stdout",
     "output_type": "stream",
     "text": [
      "[*********************100%***********************]  1 of 1 completed\n",
      "Descargando datos para PM...\n"
     ]
    },
    {
     "name": "stderr",
     "output_type": "stream",
     "text": [
      "/var/folders/db/zztlpw7s0bx2bpqqwrkksxg40000gp/T/ipykernel_21914/2993019566.py:7: FutureWarning: The frame.append method is deprecated and will be removed from pandas in a future version. Use pandas.concat instead.\n",
      "  sp500 = sp500.append(data)\n"
     ]
    },
    {
     "name": "stdout",
     "output_type": "stream",
     "text": [
      "[*********************100%***********************]  1 of 1 completed\n",
      "Descargando datos para PSX...\n"
     ]
    },
    {
     "name": "stderr",
     "output_type": "stream",
     "text": [
      "/var/folders/db/zztlpw7s0bx2bpqqwrkksxg40000gp/T/ipykernel_21914/2993019566.py:7: FutureWarning: The frame.append method is deprecated and will be removed from pandas in a future version. Use pandas.concat instead.\n",
      "  sp500 = sp500.append(data)\n"
     ]
    },
    {
     "name": "stdout",
     "output_type": "stream",
     "text": [
      "[*********************100%***********************]  1 of 1 completed\n",
      "Descargando datos para PNW...\n"
     ]
    },
    {
     "name": "stderr",
     "output_type": "stream",
     "text": [
      "/var/folders/db/zztlpw7s0bx2bpqqwrkksxg40000gp/T/ipykernel_21914/2993019566.py:7: FutureWarning: The frame.append method is deprecated and will be removed from pandas in a future version. Use pandas.concat instead.\n",
      "  sp500 = sp500.append(data)\n"
     ]
    },
    {
     "name": "stdout",
     "output_type": "stream",
     "text": [
      "[*********************100%***********************]  1 of 1 completed\n",
      "Descargando datos para PXD...\n"
     ]
    },
    {
     "name": "stderr",
     "output_type": "stream",
     "text": [
      "/var/folders/db/zztlpw7s0bx2bpqqwrkksxg40000gp/T/ipykernel_21914/2993019566.py:7: FutureWarning: The frame.append method is deprecated and will be removed from pandas in a future version. Use pandas.concat instead.\n",
      "  sp500 = sp500.append(data)\n"
     ]
    },
    {
     "name": "stdout",
     "output_type": "stream",
     "text": [
      "[*********************100%***********************]  1 of 1 completed\n",
      "Descargando datos para PNC...\n"
     ]
    },
    {
     "name": "stderr",
     "output_type": "stream",
     "text": [
      "/var/folders/db/zztlpw7s0bx2bpqqwrkksxg40000gp/T/ipykernel_21914/2993019566.py:7: FutureWarning: The frame.append method is deprecated and will be removed from pandas in a future version. Use pandas.concat instead.\n",
      "  sp500 = sp500.append(data)\n"
     ]
    },
    {
     "name": "stdout",
     "output_type": "stream",
     "text": [
      "[*********************100%***********************]  1 of 1 completed\n",
      "Descargando datos para POOL...\n"
     ]
    },
    {
     "name": "stderr",
     "output_type": "stream",
     "text": [
      "/var/folders/db/zztlpw7s0bx2bpqqwrkksxg40000gp/T/ipykernel_21914/2993019566.py:7: FutureWarning: The frame.append method is deprecated and will be removed from pandas in a future version. Use pandas.concat instead.\n",
      "  sp500 = sp500.append(data)\n"
     ]
    },
    {
     "name": "stdout",
     "output_type": "stream",
     "text": [
      "[*********************100%***********************]  1 of 1 completed\n",
      "Descargando datos para PPG...\n"
     ]
    },
    {
     "name": "stderr",
     "output_type": "stream",
     "text": [
      "/var/folders/db/zztlpw7s0bx2bpqqwrkksxg40000gp/T/ipykernel_21914/2993019566.py:7: FutureWarning: The frame.append method is deprecated and will be removed from pandas in a future version. Use pandas.concat instead.\n",
      "  sp500 = sp500.append(data)\n"
     ]
    },
    {
     "name": "stdout",
     "output_type": "stream",
     "text": [
      "[*********************100%***********************]  1 of 1 completed\n",
      "Descargando datos para PPL...\n"
     ]
    },
    {
     "name": "stderr",
     "output_type": "stream",
     "text": [
      "/var/folders/db/zztlpw7s0bx2bpqqwrkksxg40000gp/T/ipykernel_21914/2993019566.py:7: FutureWarning: The frame.append method is deprecated and will be removed from pandas in a future version. Use pandas.concat instead.\n",
      "  sp500 = sp500.append(data)\n"
     ]
    },
    {
     "name": "stdout",
     "output_type": "stream",
     "text": [
      "[*********************100%***********************]  1 of 1 completed\n",
      "Descargando datos para PFG...\n"
     ]
    },
    {
     "name": "stderr",
     "output_type": "stream",
     "text": [
      "/var/folders/db/zztlpw7s0bx2bpqqwrkksxg40000gp/T/ipykernel_21914/2993019566.py:7: FutureWarning: The frame.append method is deprecated and will be removed from pandas in a future version. Use pandas.concat instead.\n",
      "  sp500 = sp500.append(data)\n"
     ]
    },
    {
     "name": "stdout",
     "output_type": "stream",
     "text": [
      "[*********************100%***********************]  1 of 1 completed\n",
      "Descargando datos para PG...\n"
     ]
    },
    {
     "name": "stderr",
     "output_type": "stream",
     "text": [
      "/var/folders/db/zztlpw7s0bx2bpqqwrkksxg40000gp/T/ipykernel_21914/2993019566.py:7: FutureWarning: The frame.append method is deprecated and will be removed from pandas in a future version. Use pandas.concat instead.\n",
      "  sp500 = sp500.append(data)\n"
     ]
    },
    {
     "name": "stdout",
     "output_type": "stream",
     "text": [
      "[*********************100%***********************]  1 of 1 completed\n",
      "Descargando datos para PGR...\n"
     ]
    },
    {
     "name": "stderr",
     "output_type": "stream",
     "text": [
      "/var/folders/db/zztlpw7s0bx2bpqqwrkksxg40000gp/T/ipykernel_21914/2993019566.py:7: FutureWarning: The frame.append method is deprecated and will be removed from pandas in a future version. Use pandas.concat instead.\n",
      "  sp500 = sp500.append(data)\n"
     ]
    },
    {
     "name": "stdout",
     "output_type": "stream",
     "text": [
      "[*********************100%***********************]  1 of 1 completed\n",
      "Descargando datos para PLD...\n"
     ]
    },
    {
     "name": "stderr",
     "output_type": "stream",
     "text": [
      "/var/folders/db/zztlpw7s0bx2bpqqwrkksxg40000gp/T/ipykernel_21914/2993019566.py:7: FutureWarning: The frame.append method is deprecated and will be removed from pandas in a future version. Use pandas.concat instead.\n",
      "  sp500 = sp500.append(data)\n"
     ]
    },
    {
     "name": "stdout",
     "output_type": "stream",
     "text": [
      "[*********************100%***********************]  1 of 1 completed\n",
      "Descargando datos para PRU...\n"
     ]
    },
    {
     "name": "stderr",
     "output_type": "stream",
     "text": [
      "/var/folders/db/zztlpw7s0bx2bpqqwrkksxg40000gp/T/ipykernel_21914/2993019566.py:7: FutureWarning: The frame.append method is deprecated and will be removed from pandas in a future version. Use pandas.concat instead.\n",
      "  sp500 = sp500.append(data)\n"
     ]
    },
    {
     "name": "stdout",
     "output_type": "stream",
     "text": [
      "[*********************100%***********************]  1 of 1 completed\n",
      "Descargando datos para PEG...\n"
     ]
    },
    {
     "name": "stderr",
     "output_type": "stream",
     "text": [
      "/var/folders/db/zztlpw7s0bx2bpqqwrkksxg40000gp/T/ipykernel_21914/2993019566.py:7: FutureWarning: The frame.append method is deprecated and will be removed from pandas in a future version. Use pandas.concat instead.\n",
      "  sp500 = sp500.append(data)\n"
     ]
    },
    {
     "name": "stdout",
     "output_type": "stream",
     "text": [
      "[*********************100%***********************]  1 of 1 completed\n",
      "Descargando datos para PTC...\n"
     ]
    },
    {
     "name": "stderr",
     "output_type": "stream",
     "text": [
      "/var/folders/db/zztlpw7s0bx2bpqqwrkksxg40000gp/T/ipykernel_21914/2993019566.py:7: FutureWarning: The frame.append method is deprecated and will be removed from pandas in a future version. Use pandas.concat instead.\n",
      "  sp500 = sp500.append(data)\n"
     ]
    },
    {
     "name": "stdout",
     "output_type": "stream",
     "text": [
      "[*********************100%***********************]  1 of 1 completed\n",
      "Descargando datos para PSA...\n"
     ]
    },
    {
     "name": "stderr",
     "output_type": "stream",
     "text": [
      "/var/folders/db/zztlpw7s0bx2bpqqwrkksxg40000gp/T/ipykernel_21914/2993019566.py:7: FutureWarning: The frame.append method is deprecated and will be removed from pandas in a future version. Use pandas.concat instead.\n",
      "  sp500 = sp500.append(data)\n"
     ]
    },
    {
     "name": "stdout",
     "output_type": "stream",
     "text": [
      "[*********************100%***********************]  1 of 1 completed\n",
      "Descargando datos para PHM...\n"
     ]
    },
    {
     "name": "stderr",
     "output_type": "stream",
     "text": [
      "/var/folders/db/zztlpw7s0bx2bpqqwrkksxg40000gp/T/ipykernel_21914/2993019566.py:7: FutureWarning: The frame.append method is deprecated and will be removed from pandas in a future version. Use pandas.concat instead.\n",
      "  sp500 = sp500.append(data)\n"
     ]
    },
    {
     "name": "stdout",
     "output_type": "stream",
     "text": [
      "[*********************100%***********************]  1 of 1 completed\n",
      "Descargando datos para QRVO...\n"
     ]
    },
    {
     "name": "stderr",
     "output_type": "stream",
     "text": [
      "/var/folders/db/zztlpw7s0bx2bpqqwrkksxg40000gp/T/ipykernel_21914/2993019566.py:7: FutureWarning: The frame.append method is deprecated and will be removed from pandas in a future version. Use pandas.concat instead.\n",
      "  sp500 = sp500.append(data)\n"
     ]
    },
    {
     "name": "stdout",
     "output_type": "stream",
     "text": [
      "[*********************100%***********************]  1 of 1 completed\n",
      "Descargando datos para PWR...\n"
     ]
    },
    {
     "name": "stderr",
     "output_type": "stream",
     "text": [
      "/var/folders/db/zztlpw7s0bx2bpqqwrkksxg40000gp/T/ipykernel_21914/2993019566.py:7: FutureWarning: The frame.append method is deprecated and will be removed from pandas in a future version. Use pandas.concat instead.\n",
      "  sp500 = sp500.append(data)\n"
     ]
    },
    {
     "name": "stdout",
     "output_type": "stream",
     "text": [
      "[*********************100%***********************]  1 of 1 completed\n",
      "Descargando datos para QCOM...\n"
     ]
    },
    {
     "name": "stderr",
     "output_type": "stream",
     "text": [
      "/var/folders/db/zztlpw7s0bx2bpqqwrkksxg40000gp/T/ipykernel_21914/2993019566.py:7: FutureWarning: The frame.append method is deprecated and will be removed from pandas in a future version. Use pandas.concat instead.\n",
      "  sp500 = sp500.append(data)\n"
     ]
    },
    {
     "name": "stdout",
     "output_type": "stream",
     "text": [
      "[*********************100%***********************]  1 of 1 completed\n",
      "Descargando datos para DGX...\n"
     ]
    },
    {
     "name": "stderr",
     "output_type": "stream",
     "text": [
      "/var/folders/db/zztlpw7s0bx2bpqqwrkksxg40000gp/T/ipykernel_21914/2993019566.py:7: FutureWarning: The frame.append method is deprecated and will be removed from pandas in a future version. Use pandas.concat instead.\n",
      "  sp500 = sp500.append(data)\n"
     ]
    },
    {
     "name": "stdout",
     "output_type": "stream",
     "text": [
      "[*********************100%***********************]  1 of 1 completed\n",
      "Descargando datos para RL...\n"
     ]
    },
    {
     "name": "stderr",
     "output_type": "stream",
     "text": [
      "/var/folders/db/zztlpw7s0bx2bpqqwrkksxg40000gp/T/ipykernel_21914/2993019566.py:7: FutureWarning: The frame.append method is deprecated and will be removed from pandas in a future version. Use pandas.concat instead.\n",
      "  sp500 = sp500.append(data)\n"
     ]
    },
    {
     "name": "stdout",
     "output_type": "stream",
     "text": [
      "[*********************100%***********************]  1 of 1 completed\n",
      "Descargando datos para RJF...\n"
     ]
    },
    {
     "name": "stderr",
     "output_type": "stream",
     "text": [
      "/var/folders/db/zztlpw7s0bx2bpqqwrkksxg40000gp/T/ipykernel_21914/2993019566.py:7: FutureWarning: The frame.append method is deprecated and will be removed from pandas in a future version. Use pandas.concat instead.\n",
      "  sp500 = sp500.append(data)\n"
     ]
    },
    {
     "name": "stdout",
     "output_type": "stream",
     "text": [
      "[*********************100%***********************]  1 of 1 completed\n",
      "Descargando datos para RTX...\n"
     ]
    },
    {
     "name": "stderr",
     "output_type": "stream",
     "text": [
      "/var/folders/db/zztlpw7s0bx2bpqqwrkksxg40000gp/T/ipykernel_21914/2993019566.py:7: FutureWarning: The frame.append method is deprecated and will be removed from pandas in a future version. Use pandas.concat instead.\n",
      "  sp500 = sp500.append(data)\n"
     ]
    },
    {
     "name": "stdout",
     "output_type": "stream",
     "text": [
      "[*********************100%***********************]  1 of 1 completed\n",
      "Descargando datos para O...\n"
     ]
    },
    {
     "name": "stderr",
     "output_type": "stream",
     "text": [
      "/var/folders/db/zztlpw7s0bx2bpqqwrkksxg40000gp/T/ipykernel_21914/2993019566.py:7: FutureWarning: The frame.append method is deprecated and will be removed from pandas in a future version. Use pandas.concat instead.\n",
      "  sp500 = sp500.append(data)\n"
     ]
    },
    {
     "name": "stdout",
     "output_type": "stream",
     "text": [
      "[*********************100%***********************]  1 of 1 completed\n",
      "Descargando datos para REG...\n"
     ]
    },
    {
     "name": "stderr",
     "output_type": "stream",
     "text": [
      "/var/folders/db/zztlpw7s0bx2bpqqwrkksxg40000gp/T/ipykernel_21914/2993019566.py:7: FutureWarning: The frame.append method is deprecated and will be removed from pandas in a future version. Use pandas.concat instead.\n",
      "  sp500 = sp500.append(data)\n"
     ]
    },
    {
     "name": "stdout",
     "output_type": "stream",
     "text": [
      "[*********************100%***********************]  1 of 1 completed\n",
      "Descargando datos para REGN...\n"
     ]
    },
    {
     "name": "stderr",
     "output_type": "stream",
     "text": [
      "/var/folders/db/zztlpw7s0bx2bpqqwrkksxg40000gp/T/ipykernel_21914/2993019566.py:7: FutureWarning: The frame.append method is deprecated and will be removed from pandas in a future version. Use pandas.concat instead.\n",
      "  sp500 = sp500.append(data)\n"
     ]
    },
    {
     "name": "stdout",
     "output_type": "stream",
     "text": [
      "[*********************100%***********************]  1 of 1 completed\n",
      "Descargando datos para RF...\n"
     ]
    },
    {
     "name": "stderr",
     "output_type": "stream",
     "text": [
      "/var/folders/db/zztlpw7s0bx2bpqqwrkksxg40000gp/T/ipykernel_21914/2993019566.py:7: FutureWarning: The frame.append method is deprecated and will be removed from pandas in a future version. Use pandas.concat instead.\n",
      "  sp500 = sp500.append(data)\n"
     ]
    },
    {
     "name": "stdout",
     "output_type": "stream",
     "text": [
      "[*********************100%***********************]  1 of 1 completed\n",
      "Descargando datos para RSG...\n"
     ]
    },
    {
     "name": "stderr",
     "output_type": "stream",
     "text": [
      "/var/folders/db/zztlpw7s0bx2bpqqwrkksxg40000gp/T/ipykernel_21914/2993019566.py:7: FutureWarning: The frame.append method is deprecated and will be removed from pandas in a future version. Use pandas.concat instead.\n",
      "  sp500 = sp500.append(data)\n"
     ]
    },
    {
     "name": "stdout",
     "output_type": "stream",
     "text": [
      "[*********************100%***********************]  1 of 1 completed\n",
      "Descargando datos para RMD...\n"
     ]
    },
    {
     "name": "stderr",
     "output_type": "stream",
     "text": [
      "/var/folders/db/zztlpw7s0bx2bpqqwrkksxg40000gp/T/ipykernel_21914/2993019566.py:7: FutureWarning: The frame.append method is deprecated and will be removed from pandas in a future version. Use pandas.concat instead.\n",
      "  sp500 = sp500.append(data)\n"
     ]
    },
    {
     "name": "stdout",
     "output_type": "stream",
     "text": [
      "[*********************100%***********************]  1 of 1 completed\n",
      "Descargando datos para RHI...\n"
     ]
    },
    {
     "name": "stderr",
     "output_type": "stream",
     "text": [
      "/var/folders/db/zztlpw7s0bx2bpqqwrkksxg40000gp/T/ipykernel_21914/2993019566.py:7: FutureWarning: The frame.append method is deprecated and will be removed from pandas in a future version. Use pandas.concat instead.\n",
      "  sp500 = sp500.append(data)\n"
     ]
    },
    {
     "name": "stdout",
     "output_type": "stream",
     "text": [
      "[*********************100%***********************]  1 of 1 completed\n",
      "Descargando datos para ROK...\n"
     ]
    },
    {
     "name": "stderr",
     "output_type": "stream",
     "text": [
      "/var/folders/db/zztlpw7s0bx2bpqqwrkksxg40000gp/T/ipykernel_21914/2993019566.py:7: FutureWarning: The frame.append method is deprecated and will be removed from pandas in a future version. Use pandas.concat instead.\n",
      "  sp500 = sp500.append(data)\n"
     ]
    },
    {
     "name": "stdout",
     "output_type": "stream",
     "text": [
      "[*********************100%***********************]  1 of 1 completed\n",
      "Descargando datos para ROL...\n"
     ]
    },
    {
     "name": "stderr",
     "output_type": "stream",
     "text": [
      "/var/folders/db/zztlpw7s0bx2bpqqwrkksxg40000gp/T/ipykernel_21914/2993019566.py:7: FutureWarning: The frame.append method is deprecated and will be removed from pandas in a future version. Use pandas.concat instead.\n",
      "  sp500 = sp500.append(data)\n"
     ]
    },
    {
     "name": "stdout",
     "output_type": "stream",
     "text": [
      "[*********************100%***********************]  1 of 1 completed\n",
      "Descargando datos para ROP...\n"
     ]
    },
    {
     "name": "stderr",
     "output_type": "stream",
     "text": [
      "/var/folders/db/zztlpw7s0bx2bpqqwrkksxg40000gp/T/ipykernel_21914/2993019566.py:7: FutureWarning: The frame.append method is deprecated and will be removed from pandas in a future version. Use pandas.concat instead.\n",
      "  sp500 = sp500.append(data)\n"
     ]
    },
    {
     "name": "stdout",
     "output_type": "stream",
     "text": [
      "[*********************100%***********************]  1 of 1 completed\n",
      "Descargando datos para ROST...\n"
     ]
    },
    {
     "name": "stderr",
     "output_type": "stream",
     "text": [
      "/var/folders/db/zztlpw7s0bx2bpqqwrkksxg40000gp/T/ipykernel_21914/2993019566.py:7: FutureWarning: The frame.append method is deprecated and will be removed from pandas in a future version. Use pandas.concat instead.\n",
      "  sp500 = sp500.append(data)\n"
     ]
    },
    {
     "name": "stdout",
     "output_type": "stream",
     "text": [
      "[*********************100%***********************]  1 of 1 completed\n",
      "Descargando datos para RCL...\n"
     ]
    },
    {
     "name": "stderr",
     "output_type": "stream",
     "text": [
      "/var/folders/db/zztlpw7s0bx2bpqqwrkksxg40000gp/T/ipykernel_21914/2993019566.py:7: FutureWarning: The frame.append method is deprecated and will be removed from pandas in a future version. Use pandas.concat instead.\n",
      "  sp500 = sp500.append(data)\n"
     ]
    },
    {
     "name": "stdout",
     "output_type": "stream",
     "text": [
      "[*********************100%***********************]  1 of 1 completed\n",
      "Descargando datos para SPGI...\n"
     ]
    },
    {
     "name": "stderr",
     "output_type": "stream",
     "text": [
      "/var/folders/db/zztlpw7s0bx2bpqqwrkksxg40000gp/T/ipykernel_21914/2993019566.py:7: FutureWarning: The frame.append method is deprecated and will be removed from pandas in a future version. Use pandas.concat instead.\n",
      "  sp500 = sp500.append(data)\n"
     ]
    },
    {
     "name": "stdout",
     "output_type": "stream",
     "text": [
      "[*********************100%***********************]  1 of 1 completed\n",
      "Descargando datos para CRM...\n"
     ]
    },
    {
     "name": "stderr",
     "output_type": "stream",
     "text": [
      "/var/folders/db/zztlpw7s0bx2bpqqwrkksxg40000gp/T/ipykernel_21914/2993019566.py:7: FutureWarning: The frame.append method is deprecated and will be removed from pandas in a future version. Use pandas.concat instead.\n",
      "  sp500 = sp500.append(data)\n"
     ]
    },
    {
     "name": "stdout",
     "output_type": "stream",
     "text": [
      "[*********************100%***********************]  1 of 1 completed\n",
      "Descargando datos para SBAC...\n"
     ]
    },
    {
     "name": "stderr",
     "output_type": "stream",
     "text": [
      "/var/folders/db/zztlpw7s0bx2bpqqwrkksxg40000gp/T/ipykernel_21914/2993019566.py:7: FutureWarning: The frame.append method is deprecated and will be removed from pandas in a future version. Use pandas.concat instead.\n",
      "  sp500 = sp500.append(data)\n"
     ]
    },
    {
     "name": "stdout",
     "output_type": "stream",
     "text": [
      "[*********************100%***********************]  1 of 1 completed\n",
      "Descargando datos para SLB...\n"
     ]
    },
    {
     "name": "stderr",
     "output_type": "stream",
     "text": [
      "/var/folders/db/zztlpw7s0bx2bpqqwrkksxg40000gp/T/ipykernel_21914/2993019566.py:7: FutureWarning: The frame.append method is deprecated and will be removed from pandas in a future version. Use pandas.concat instead.\n",
      "  sp500 = sp500.append(data)\n"
     ]
    },
    {
     "name": "stdout",
     "output_type": "stream",
     "text": [
      "[*********************100%***********************]  1 of 1 completed\n",
      "Descargando datos para STX...\n"
     ]
    },
    {
     "name": "stderr",
     "output_type": "stream",
     "text": [
      "/var/folders/db/zztlpw7s0bx2bpqqwrkksxg40000gp/T/ipykernel_21914/2993019566.py:7: FutureWarning: The frame.append method is deprecated and will be removed from pandas in a future version. Use pandas.concat instead.\n",
      "  sp500 = sp500.append(data)\n"
     ]
    },
    {
     "name": "stdout",
     "output_type": "stream",
     "text": [
      "[*********************100%***********************]  1 of 1 completed\n",
      "Descargando datos para SEE...\n"
     ]
    },
    {
     "name": "stderr",
     "output_type": "stream",
     "text": [
      "/var/folders/db/zztlpw7s0bx2bpqqwrkksxg40000gp/T/ipykernel_21914/2993019566.py:7: FutureWarning: The frame.append method is deprecated and will be removed from pandas in a future version. Use pandas.concat instead.\n",
      "  sp500 = sp500.append(data)\n"
     ]
    },
    {
     "name": "stdout",
     "output_type": "stream",
     "text": [
      "[*********************100%***********************]  1 of 1 completed\n",
      "Descargando datos para SRE...\n"
     ]
    },
    {
     "name": "stderr",
     "output_type": "stream",
     "text": [
      "/var/folders/db/zztlpw7s0bx2bpqqwrkksxg40000gp/T/ipykernel_21914/2993019566.py:7: FutureWarning: The frame.append method is deprecated and will be removed from pandas in a future version. Use pandas.concat instead.\n",
      "  sp500 = sp500.append(data)\n"
     ]
    },
    {
     "name": "stdout",
     "output_type": "stream",
     "text": [
      "[*********************100%***********************]  1 of 1 completed\n",
      "Descargando datos para NOW...\n"
     ]
    },
    {
     "name": "stderr",
     "output_type": "stream",
     "text": [
      "/var/folders/db/zztlpw7s0bx2bpqqwrkksxg40000gp/T/ipykernel_21914/2993019566.py:7: FutureWarning: The frame.append method is deprecated and will be removed from pandas in a future version. Use pandas.concat instead.\n",
      "  sp500 = sp500.append(data)\n"
     ]
    },
    {
     "name": "stdout",
     "output_type": "stream",
     "text": [
      "[*********************100%***********************]  1 of 1 completed\n",
      "Descargando datos para SHW...\n"
     ]
    },
    {
     "name": "stderr",
     "output_type": "stream",
     "text": [
      "/var/folders/db/zztlpw7s0bx2bpqqwrkksxg40000gp/T/ipykernel_21914/2993019566.py:7: FutureWarning: The frame.append method is deprecated and will be removed from pandas in a future version. Use pandas.concat instead.\n",
      "  sp500 = sp500.append(data)\n"
     ]
    },
    {
     "name": "stdout",
     "output_type": "stream",
     "text": [
      "[*********************100%***********************]  1 of 1 completed\n",
      "Descargando datos para SBNY...\n"
     ]
    },
    {
     "name": "stderr",
     "output_type": "stream",
     "text": [
      "/var/folders/db/zztlpw7s0bx2bpqqwrkksxg40000gp/T/ipykernel_21914/2993019566.py:7: FutureWarning: The frame.append method is deprecated and will be removed from pandas in a future version. Use pandas.concat instead.\n",
      "  sp500 = sp500.append(data)\n"
     ]
    },
    {
     "name": "stdout",
     "output_type": "stream",
     "text": [
      "[*********************100%***********************]  1 of 1 completed\n",
      "Descargando datos para SPG...\n"
     ]
    },
    {
     "name": "stderr",
     "output_type": "stream",
     "text": [
      "/var/folders/db/zztlpw7s0bx2bpqqwrkksxg40000gp/T/ipykernel_21914/2993019566.py:7: FutureWarning: The frame.append method is deprecated and will be removed from pandas in a future version. Use pandas.concat instead.\n",
      "  sp500 = sp500.append(data)\n"
     ]
    },
    {
     "name": "stdout",
     "output_type": "stream",
     "text": [
      "[*********************100%***********************]  1 of 1 completed\n",
      "Descargando datos para SWKS...\n"
     ]
    },
    {
     "name": "stderr",
     "output_type": "stream",
     "text": [
      "/var/folders/db/zztlpw7s0bx2bpqqwrkksxg40000gp/T/ipykernel_21914/2993019566.py:7: FutureWarning: The frame.append method is deprecated and will be removed from pandas in a future version. Use pandas.concat instead.\n",
      "  sp500 = sp500.append(data)\n"
     ]
    },
    {
     "name": "stdout",
     "output_type": "stream",
     "text": [
      "[*********************100%***********************]  1 of 1 completed\n",
      "Descargando datos para SJM...\n"
     ]
    },
    {
     "name": "stderr",
     "output_type": "stream",
     "text": [
      "/var/folders/db/zztlpw7s0bx2bpqqwrkksxg40000gp/T/ipykernel_21914/2993019566.py:7: FutureWarning: The frame.append method is deprecated and will be removed from pandas in a future version. Use pandas.concat instead.\n",
      "  sp500 = sp500.append(data)\n"
     ]
    },
    {
     "name": "stdout",
     "output_type": "stream",
     "text": [
      "[*********************100%***********************]  1 of 1 completed\n",
      "Descargando datos para SNA...\n"
     ]
    },
    {
     "name": "stderr",
     "output_type": "stream",
     "text": [
      "/var/folders/db/zztlpw7s0bx2bpqqwrkksxg40000gp/T/ipykernel_21914/2993019566.py:7: FutureWarning: The frame.append method is deprecated and will be removed from pandas in a future version. Use pandas.concat instead.\n",
      "  sp500 = sp500.append(data)\n"
     ]
    },
    {
     "name": "stdout",
     "output_type": "stream",
     "text": [
      "[*********************100%***********************]  1 of 1 completed\n",
      "Descargando datos para SEDG...\n"
     ]
    },
    {
     "name": "stderr",
     "output_type": "stream",
     "text": [
      "/var/folders/db/zztlpw7s0bx2bpqqwrkksxg40000gp/T/ipykernel_21914/2993019566.py:7: FutureWarning: The frame.append method is deprecated and will be removed from pandas in a future version. Use pandas.concat instead.\n",
      "  sp500 = sp500.append(data)\n"
     ]
    },
    {
     "name": "stdout",
     "output_type": "stream",
     "text": [
      "[*********************100%***********************]  1 of 1 completed\n",
      "Descargando datos para SO...\n"
     ]
    },
    {
     "name": "stderr",
     "output_type": "stream",
     "text": [
      "/var/folders/db/zztlpw7s0bx2bpqqwrkksxg40000gp/T/ipykernel_21914/2993019566.py:7: FutureWarning: The frame.append method is deprecated and will be removed from pandas in a future version. Use pandas.concat instead.\n",
      "  sp500 = sp500.append(data)\n"
     ]
    },
    {
     "name": "stdout",
     "output_type": "stream",
     "text": [
      "[*********************100%***********************]  1 of 1 completed\n",
      "Descargando datos para LUV...\n"
     ]
    },
    {
     "name": "stderr",
     "output_type": "stream",
     "text": [
      "/var/folders/db/zztlpw7s0bx2bpqqwrkksxg40000gp/T/ipykernel_21914/2993019566.py:7: FutureWarning: The frame.append method is deprecated and will be removed from pandas in a future version. Use pandas.concat instead.\n",
      "  sp500 = sp500.append(data)\n"
     ]
    },
    {
     "name": "stdout",
     "output_type": "stream",
     "text": [
      "[*********************100%***********************]  1 of 1 completed\n",
      "Descargando datos para SWK...\n"
     ]
    },
    {
     "name": "stderr",
     "output_type": "stream",
     "text": [
      "/var/folders/db/zztlpw7s0bx2bpqqwrkksxg40000gp/T/ipykernel_21914/2993019566.py:7: FutureWarning: The frame.append method is deprecated and will be removed from pandas in a future version. Use pandas.concat instead.\n",
      "  sp500 = sp500.append(data)\n"
     ]
    },
    {
     "name": "stdout",
     "output_type": "stream",
     "text": [
      "[*********************100%***********************]  1 of 1 completed\n",
      "Descargando datos para SBUX...\n"
     ]
    },
    {
     "name": "stderr",
     "output_type": "stream",
     "text": [
      "/var/folders/db/zztlpw7s0bx2bpqqwrkksxg40000gp/T/ipykernel_21914/2993019566.py:7: FutureWarning: The frame.append method is deprecated and will be removed from pandas in a future version. Use pandas.concat instead.\n",
      "  sp500 = sp500.append(data)\n"
     ]
    },
    {
     "name": "stdout",
     "output_type": "stream",
     "text": [
      "[*********************100%***********************]  1 of 1 completed\n",
      "Descargando datos para STT...\n"
     ]
    },
    {
     "name": "stderr",
     "output_type": "stream",
     "text": [
      "/var/folders/db/zztlpw7s0bx2bpqqwrkksxg40000gp/T/ipykernel_21914/2993019566.py:7: FutureWarning: The frame.append method is deprecated and will be removed from pandas in a future version. Use pandas.concat instead.\n",
      "  sp500 = sp500.append(data)\n"
     ]
    },
    {
     "name": "stdout",
     "output_type": "stream",
     "text": [
      "[*********************100%***********************]  1 of 1 completed\n",
      "Descargando datos para STLD...\n"
     ]
    },
    {
     "name": "stderr",
     "output_type": "stream",
     "text": [
      "/var/folders/db/zztlpw7s0bx2bpqqwrkksxg40000gp/T/ipykernel_21914/2993019566.py:7: FutureWarning: The frame.append method is deprecated and will be removed from pandas in a future version. Use pandas.concat instead.\n",
      "  sp500 = sp500.append(data)\n"
     ]
    },
    {
     "name": "stdout",
     "output_type": "stream",
     "text": [
      "[*********************100%***********************]  1 of 1 completed\n",
      "Descargando datos para STE...\n"
     ]
    },
    {
     "name": "stderr",
     "output_type": "stream",
     "text": [
      "/var/folders/db/zztlpw7s0bx2bpqqwrkksxg40000gp/T/ipykernel_21914/2993019566.py:7: FutureWarning: The frame.append method is deprecated and will be removed from pandas in a future version. Use pandas.concat instead.\n",
      "  sp500 = sp500.append(data)\n"
     ]
    },
    {
     "name": "stdout",
     "output_type": "stream",
     "text": [
      "[*********************100%***********************]  1 of 1 completed\n",
      "Descargando datos para SYK...\n"
     ]
    },
    {
     "name": "stderr",
     "output_type": "stream",
     "text": [
      "/var/folders/db/zztlpw7s0bx2bpqqwrkksxg40000gp/T/ipykernel_21914/2993019566.py:7: FutureWarning: The frame.append method is deprecated and will be removed from pandas in a future version. Use pandas.concat instead.\n",
      "  sp500 = sp500.append(data)\n"
     ]
    },
    {
     "name": "stdout",
     "output_type": "stream",
     "text": [
      "[*********************100%***********************]  1 of 1 completed\n",
      "Descargando datos para SIVB...\n"
     ]
    },
    {
     "name": "stderr",
     "output_type": "stream",
     "text": [
      "/var/folders/db/zztlpw7s0bx2bpqqwrkksxg40000gp/T/ipykernel_21914/2993019566.py:7: FutureWarning: The frame.append method is deprecated and will be removed from pandas in a future version. Use pandas.concat instead.\n",
      "  sp500 = sp500.append(data)\n"
     ]
    },
    {
     "name": "stdout",
     "output_type": "stream",
     "text": [
      "[*********************100%***********************]  1 of 1 completed\n",
      "Descargando datos para SYF...\n"
     ]
    },
    {
     "name": "stderr",
     "output_type": "stream",
     "text": [
      "/var/folders/db/zztlpw7s0bx2bpqqwrkksxg40000gp/T/ipykernel_21914/2993019566.py:7: FutureWarning: The frame.append method is deprecated and will be removed from pandas in a future version. Use pandas.concat instead.\n",
      "  sp500 = sp500.append(data)\n"
     ]
    },
    {
     "name": "stdout",
     "output_type": "stream",
     "text": [
      "[*********************100%***********************]  1 of 1 completed\n",
      "Descargando datos para SNPS...\n"
     ]
    },
    {
     "name": "stderr",
     "output_type": "stream",
     "text": [
      "/var/folders/db/zztlpw7s0bx2bpqqwrkksxg40000gp/T/ipykernel_21914/2993019566.py:7: FutureWarning: The frame.append method is deprecated and will be removed from pandas in a future version. Use pandas.concat instead.\n",
      "  sp500 = sp500.append(data)\n"
     ]
    },
    {
     "name": "stdout",
     "output_type": "stream",
     "text": [
      "[*********************100%***********************]  1 of 1 completed\n",
      "Descargando datos para SYY...\n"
     ]
    },
    {
     "name": "stderr",
     "output_type": "stream",
     "text": [
      "/var/folders/db/zztlpw7s0bx2bpqqwrkksxg40000gp/T/ipykernel_21914/2993019566.py:7: FutureWarning: The frame.append method is deprecated and will be removed from pandas in a future version. Use pandas.concat instead.\n",
      "  sp500 = sp500.append(data)\n"
     ]
    },
    {
     "name": "stdout",
     "output_type": "stream",
     "text": [
      "[*********************100%***********************]  1 of 1 completed\n",
      "Descargando datos para TMUS...\n"
     ]
    },
    {
     "name": "stderr",
     "output_type": "stream",
     "text": [
      "/var/folders/db/zztlpw7s0bx2bpqqwrkksxg40000gp/T/ipykernel_21914/2993019566.py:7: FutureWarning: The frame.append method is deprecated and will be removed from pandas in a future version. Use pandas.concat instead.\n",
      "  sp500 = sp500.append(data)\n"
     ]
    },
    {
     "name": "stdout",
     "output_type": "stream",
     "text": [
      "[*********************100%***********************]  1 of 1 completed\n",
      "Descargando datos para TROW...\n"
     ]
    },
    {
     "name": "stderr",
     "output_type": "stream",
     "text": [
      "/var/folders/db/zztlpw7s0bx2bpqqwrkksxg40000gp/T/ipykernel_21914/2993019566.py:7: FutureWarning: The frame.append method is deprecated and will be removed from pandas in a future version. Use pandas.concat instead.\n",
      "  sp500 = sp500.append(data)\n"
     ]
    },
    {
     "name": "stdout",
     "output_type": "stream",
     "text": [
      "[*********************100%***********************]  1 of 1 completed\n",
      "Descargando datos para TTWO...\n"
     ]
    },
    {
     "name": "stderr",
     "output_type": "stream",
     "text": [
      "/var/folders/db/zztlpw7s0bx2bpqqwrkksxg40000gp/T/ipykernel_21914/2993019566.py:7: FutureWarning: The frame.append method is deprecated and will be removed from pandas in a future version. Use pandas.concat instead.\n",
      "  sp500 = sp500.append(data)\n"
     ]
    },
    {
     "name": "stdout",
     "output_type": "stream",
     "text": [
      "[*********************100%***********************]  1 of 1 completed\n",
      "Descargando datos para TPR...\n"
     ]
    },
    {
     "name": "stderr",
     "output_type": "stream",
     "text": [
      "/var/folders/db/zztlpw7s0bx2bpqqwrkksxg40000gp/T/ipykernel_21914/2993019566.py:7: FutureWarning: The frame.append method is deprecated and will be removed from pandas in a future version. Use pandas.concat instead.\n",
      "  sp500 = sp500.append(data)\n"
     ]
    },
    {
     "name": "stdout",
     "output_type": "stream",
     "text": [
      "[*********************100%***********************]  1 of 1 completed\n",
      "Descargando datos para TRGP...\n"
     ]
    },
    {
     "name": "stderr",
     "output_type": "stream",
     "text": [
      "/var/folders/db/zztlpw7s0bx2bpqqwrkksxg40000gp/T/ipykernel_21914/2993019566.py:7: FutureWarning: The frame.append method is deprecated and will be removed from pandas in a future version. Use pandas.concat instead.\n",
      "  sp500 = sp500.append(data)\n"
     ]
    },
    {
     "name": "stdout",
     "output_type": "stream",
     "text": [
      "[*********************100%***********************]  1 of 1 completed\n",
      "Descargando datos para TGT...\n"
     ]
    },
    {
     "name": "stderr",
     "output_type": "stream",
     "text": [
      "/var/folders/db/zztlpw7s0bx2bpqqwrkksxg40000gp/T/ipykernel_21914/2993019566.py:7: FutureWarning: The frame.append method is deprecated and will be removed from pandas in a future version. Use pandas.concat instead.\n",
      "  sp500 = sp500.append(data)\n"
     ]
    },
    {
     "name": "stdout",
     "output_type": "stream",
     "text": [
      "[*********************100%***********************]  1 of 1 completed\n",
      "Descargando datos para TEL...\n"
     ]
    },
    {
     "name": "stderr",
     "output_type": "stream",
     "text": [
      "/var/folders/db/zztlpw7s0bx2bpqqwrkksxg40000gp/T/ipykernel_21914/2993019566.py:7: FutureWarning: The frame.append method is deprecated and will be removed from pandas in a future version. Use pandas.concat instead.\n",
      "  sp500 = sp500.append(data)\n"
     ]
    },
    {
     "name": "stdout",
     "output_type": "stream",
     "text": [
      "[*********************100%***********************]  1 of 1 completed\n",
      "Descargando datos para TDY...\n"
     ]
    },
    {
     "name": "stderr",
     "output_type": "stream",
     "text": [
      "/var/folders/db/zztlpw7s0bx2bpqqwrkksxg40000gp/T/ipykernel_21914/2993019566.py:7: FutureWarning: The frame.append method is deprecated and will be removed from pandas in a future version. Use pandas.concat instead.\n",
      "  sp500 = sp500.append(data)\n"
     ]
    },
    {
     "name": "stdout",
     "output_type": "stream",
     "text": [
      "[*********************100%***********************]  1 of 1 completed\n",
      "Descargando datos para TFX...\n"
     ]
    },
    {
     "name": "stderr",
     "output_type": "stream",
     "text": [
      "/var/folders/db/zztlpw7s0bx2bpqqwrkksxg40000gp/T/ipykernel_21914/2993019566.py:7: FutureWarning: The frame.append method is deprecated and will be removed from pandas in a future version. Use pandas.concat instead.\n",
      "  sp500 = sp500.append(data)\n"
     ]
    },
    {
     "name": "stdout",
     "output_type": "stream",
     "text": [
      "[*********************100%***********************]  1 of 1 completed\n",
      "Descargando datos para TER...\n"
     ]
    },
    {
     "name": "stderr",
     "output_type": "stream",
     "text": [
      "/var/folders/db/zztlpw7s0bx2bpqqwrkksxg40000gp/T/ipykernel_21914/2993019566.py:7: FutureWarning: The frame.append method is deprecated and will be removed from pandas in a future version. Use pandas.concat instead.\n",
      "  sp500 = sp500.append(data)\n"
     ]
    },
    {
     "name": "stdout",
     "output_type": "stream",
     "text": [
      "[*********************100%***********************]  1 of 1 completed\n",
      "Descargando datos para TSLA...\n"
     ]
    },
    {
     "name": "stderr",
     "output_type": "stream",
     "text": [
      "/var/folders/db/zztlpw7s0bx2bpqqwrkksxg40000gp/T/ipykernel_21914/2993019566.py:7: FutureWarning: The frame.append method is deprecated and will be removed from pandas in a future version. Use pandas.concat instead.\n",
      "  sp500 = sp500.append(data)\n"
     ]
    },
    {
     "name": "stdout",
     "output_type": "stream",
     "text": [
      "[*********************100%***********************]  1 of 1 completed\n",
      "Descargando datos para TXN...\n"
     ]
    },
    {
     "name": "stderr",
     "output_type": "stream",
     "text": [
      "/var/folders/db/zztlpw7s0bx2bpqqwrkksxg40000gp/T/ipykernel_21914/2993019566.py:7: FutureWarning: The frame.append method is deprecated and will be removed from pandas in a future version. Use pandas.concat instead.\n",
      "  sp500 = sp500.append(data)\n"
     ]
    },
    {
     "name": "stdout",
     "output_type": "stream",
     "text": [
      "[*********************100%***********************]  1 of 1 completed\n",
      "Descargando datos para TXT...\n"
     ]
    },
    {
     "name": "stderr",
     "output_type": "stream",
     "text": [
      "/var/folders/db/zztlpw7s0bx2bpqqwrkksxg40000gp/T/ipykernel_21914/2993019566.py:7: FutureWarning: The frame.append method is deprecated and will be removed from pandas in a future version. Use pandas.concat instead.\n",
      "  sp500 = sp500.append(data)\n"
     ]
    },
    {
     "name": "stdout",
     "output_type": "stream",
     "text": [
      "[*********************100%***********************]  1 of 1 completed\n",
      "Descargando datos para TMO...\n"
     ]
    },
    {
     "name": "stderr",
     "output_type": "stream",
     "text": [
      "/var/folders/db/zztlpw7s0bx2bpqqwrkksxg40000gp/T/ipykernel_21914/2993019566.py:7: FutureWarning: The frame.append method is deprecated and will be removed from pandas in a future version. Use pandas.concat instead.\n",
      "  sp500 = sp500.append(data)\n"
     ]
    },
    {
     "name": "stdout",
     "output_type": "stream",
     "text": [
      "[*********************100%***********************]  1 of 1 completed\n",
      "Descargando datos para TJX...\n"
     ]
    },
    {
     "name": "stderr",
     "output_type": "stream",
     "text": [
      "/var/folders/db/zztlpw7s0bx2bpqqwrkksxg40000gp/T/ipykernel_21914/2993019566.py:7: FutureWarning: The frame.append method is deprecated and will be removed from pandas in a future version. Use pandas.concat instead.\n",
      "  sp500 = sp500.append(data)\n"
     ]
    },
    {
     "name": "stdout",
     "output_type": "stream",
     "text": [
      "[*********************100%***********************]  1 of 1 completed\n",
      "Descargando datos para TSCO...\n"
     ]
    },
    {
     "name": "stderr",
     "output_type": "stream",
     "text": [
      "/var/folders/db/zztlpw7s0bx2bpqqwrkksxg40000gp/T/ipykernel_21914/2993019566.py:7: FutureWarning: The frame.append method is deprecated and will be removed from pandas in a future version. Use pandas.concat instead.\n",
      "  sp500 = sp500.append(data)\n"
     ]
    },
    {
     "name": "stdout",
     "output_type": "stream",
     "text": [
      "[*********************100%***********************]  1 of 1 completed\n",
      "Descargando datos para TT...\n"
     ]
    },
    {
     "name": "stderr",
     "output_type": "stream",
     "text": [
      "/var/folders/db/zztlpw7s0bx2bpqqwrkksxg40000gp/T/ipykernel_21914/2993019566.py:7: FutureWarning: The frame.append method is deprecated and will be removed from pandas in a future version. Use pandas.concat instead.\n",
      "  sp500 = sp500.append(data)\n"
     ]
    },
    {
     "name": "stdout",
     "output_type": "stream",
     "text": [
      "[*********************100%***********************]  1 of 1 completed\n",
      "Descargando datos para TDG...\n"
     ]
    },
    {
     "name": "stderr",
     "output_type": "stream",
     "text": [
      "/var/folders/db/zztlpw7s0bx2bpqqwrkksxg40000gp/T/ipykernel_21914/2993019566.py:7: FutureWarning: The frame.append method is deprecated and will be removed from pandas in a future version. Use pandas.concat instead.\n",
      "  sp500 = sp500.append(data)\n"
     ]
    },
    {
     "name": "stdout",
     "output_type": "stream",
     "text": [
      "[*********************100%***********************]  1 of 1 completed\n",
      "Descargando datos para TRV...\n"
     ]
    },
    {
     "name": "stderr",
     "output_type": "stream",
     "text": [
      "/var/folders/db/zztlpw7s0bx2bpqqwrkksxg40000gp/T/ipykernel_21914/2993019566.py:7: FutureWarning: The frame.append method is deprecated and will be removed from pandas in a future version. Use pandas.concat instead.\n",
      "  sp500 = sp500.append(data)\n"
     ]
    },
    {
     "name": "stdout",
     "output_type": "stream",
     "text": [
      "[*********************100%***********************]  1 of 1 completed\n",
      "Descargando datos para TRMB...\n"
     ]
    },
    {
     "name": "stderr",
     "output_type": "stream",
     "text": [
      "/var/folders/db/zztlpw7s0bx2bpqqwrkksxg40000gp/T/ipykernel_21914/2993019566.py:7: FutureWarning: The frame.append method is deprecated and will be removed from pandas in a future version. Use pandas.concat instead.\n",
      "  sp500 = sp500.append(data)\n"
     ]
    },
    {
     "name": "stdout",
     "output_type": "stream",
     "text": [
      "[*********************100%***********************]  1 of 1 completed\n",
      "Descargando datos para TFC...\n"
     ]
    },
    {
     "name": "stderr",
     "output_type": "stream",
     "text": [
      "/var/folders/db/zztlpw7s0bx2bpqqwrkksxg40000gp/T/ipykernel_21914/2993019566.py:7: FutureWarning: The frame.append method is deprecated and will be removed from pandas in a future version. Use pandas.concat instead.\n",
      "  sp500 = sp500.append(data)\n"
     ]
    },
    {
     "name": "stdout",
     "output_type": "stream",
     "text": [
      "[*********************100%***********************]  1 of 1 completed\n",
      "Descargando datos para TYL...\n"
     ]
    },
    {
     "name": "stderr",
     "output_type": "stream",
     "text": [
      "/var/folders/db/zztlpw7s0bx2bpqqwrkksxg40000gp/T/ipykernel_21914/2993019566.py:7: FutureWarning: The frame.append method is deprecated and will be removed from pandas in a future version. Use pandas.concat instead.\n",
      "  sp500 = sp500.append(data)\n"
     ]
    },
    {
     "name": "stdout",
     "output_type": "stream",
     "text": [
      "[*********************100%***********************]  1 of 1 completed\n",
      "Descargando datos para TSN...\n"
     ]
    },
    {
     "name": "stderr",
     "output_type": "stream",
     "text": [
      "/var/folders/db/zztlpw7s0bx2bpqqwrkksxg40000gp/T/ipykernel_21914/2993019566.py:7: FutureWarning: The frame.append method is deprecated and will be removed from pandas in a future version. Use pandas.concat instead.\n",
      "  sp500 = sp500.append(data)\n"
     ]
    },
    {
     "name": "stdout",
     "output_type": "stream",
     "text": [
      "[*********************100%***********************]  1 of 1 completed\n",
      "Descargando datos para USB...\n"
     ]
    },
    {
     "name": "stderr",
     "output_type": "stream",
     "text": [
      "/var/folders/db/zztlpw7s0bx2bpqqwrkksxg40000gp/T/ipykernel_21914/2993019566.py:7: FutureWarning: The frame.append method is deprecated and will be removed from pandas in a future version. Use pandas.concat instead.\n",
      "  sp500 = sp500.append(data)\n"
     ]
    },
    {
     "name": "stdout",
     "output_type": "stream",
     "text": [
      "[*********************100%***********************]  1 of 1 completed\n",
      "Descargando datos para UDR...\n"
     ]
    },
    {
     "name": "stderr",
     "output_type": "stream",
     "text": [
      "/var/folders/db/zztlpw7s0bx2bpqqwrkksxg40000gp/T/ipykernel_21914/2993019566.py:7: FutureWarning: The frame.append method is deprecated and will be removed from pandas in a future version. Use pandas.concat instead.\n",
      "  sp500 = sp500.append(data)\n"
     ]
    },
    {
     "name": "stdout",
     "output_type": "stream",
     "text": [
      "[*********************100%***********************]  1 of 1 completed\n",
      "Descargando datos para ULTA...\n"
     ]
    },
    {
     "name": "stderr",
     "output_type": "stream",
     "text": [
      "/var/folders/db/zztlpw7s0bx2bpqqwrkksxg40000gp/T/ipykernel_21914/2993019566.py:7: FutureWarning: The frame.append method is deprecated and will be removed from pandas in a future version. Use pandas.concat instead.\n",
      "  sp500 = sp500.append(data)\n"
     ]
    },
    {
     "name": "stdout",
     "output_type": "stream",
     "text": [
      "[*********************100%***********************]  1 of 1 completed\n",
      "Descargando datos para UNP...\n"
     ]
    },
    {
     "name": "stderr",
     "output_type": "stream",
     "text": [
      "/var/folders/db/zztlpw7s0bx2bpqqwrkksxg40000gp/T/ipykernel_21914/2993019566.py:7: FutureWarning: The frame.append method is deprecated and will be removed from pandas in a future version. Use pandas.concat instead.\n",
      "  sp500 = sp500.append(data)\n"
     ]
    },
    {
     "name": "stdout",
     "output_type": "stream",
     "text": [
      "[*********************100%***********************]  1 of 1 completed\n",
      "Descargando datos para UAL...\n"
     ]
    },
    {
     "name": "stderr",
     "output_type": "stream",
     "text": [
      "/var/folders/db/zztlpw7s0bx2bpqqwrkksxg40000gp/T/ipykernel_21914/2993019566.py:7: FutureWarning: The frame.append method is deprecated and will be removed from pandas in a future version. Use pandas.concat instead.\n",
      "  sp500 = sp500.append(data)\n"
     ]
    },
    {
     "name": "stdout",
     "output_type": "stream",
     "text": [
      "[*********************100%***********************]  1 of 1 completed\n",
      "Descargando datos para UPS...\n"
     ]
    },
    {
     "name": "stderr",
     "output_type": "stream",
     "text": [
      "/var/folders/db/zztlpw7s0bx2bpqqwrkksxg40000gp/T/ipykernel_21914/2993019566.py:7: FutureWarning: The frame.append method is deprecated and will be removed from pandas in a future version. Use pandas.concat instead.\n",
      "  sp500 = sp500.append(data)\n"
     ]
    },
    {
     "name": "stdout",
     "output_type": "stream",
     "text": [
      "[*********************100%***********************]  1 of 1 completed\n",
      "Descargando datos para URI...\n"
     ]
    },
    {
     "name": "stderr",
     "output_type": "stream",
     "text": [
      "/var/folders/db/zztlpw7s0bx2bpqqwrkksxg40000gp/T/ipykernel_21914/2993019566.py:7: FutureWarning: The frame.append method is deprecated and will be removed from pandas in a future version. Use pandas.concat instead.\n",
      "  sp500 = sp500.append(data)\n"
     ]
    },
    {
     "name": "stdout",
     "output_type": "stream",
     "text": [
      "[*********************100%***********************]  1 of 1 completed\n",
      "Descargando datos para UNH...\n"
     ]
    },
    {
     "name": "stderr",
     "output_type": "stream",
     "text": [
      "/var/folders/db/zztlpw7s0bx2bpqqwrkksxg40000gp/T/ipykernel_21914/2993019566.py:7: FutureWarning: The frame.append method is deprecated and will be removed from pandas in a future version. Use pandas.concat instead.\n",
      "  sp500 = sp500.append(data)\n"
     ]
    },
    {
     "name": "stdout",
     "output_type": "stream",
     "text": [
      "[*********************100%***********************]  1 of 1 completed\n",
      "Descargando datos para UHS...\n"
     ]
    },
    {
     "name": "stderr",
     "output_type": "stream",
     "text": [
      "/var/folders/db/zztlpw7s0bx2bpqqwrkksxg40000gp/T/ipykernel_21914/2993019566.py:7: FutureWarning: The frame.append method is deprecated and will be removed from pandas in a future version. Use pandas.concat instead.\n",
      "  sp500 = sp500.append(data)\n"
     ]
    },
    {
     "name": "stdout",
     "output_type": "stream",
     "text": [
      "[*********************100%***********************]  1 of 1 completed\n",
      "Descargando datos para VLO...\n"
     ]
    },
    {
     "name": "stderr",
     "output_type": "stream",
     "text": [
      "/var/folders/db/zztlpw7s0bx2bpqqwrkksxg40000gp/T/ipykernel_21914/2993019566.py:7: FutureWarning: The frame.append method is deprecated and will be removed from pandas in a future version. Use pandas.concat instead.\n",
      "  sp500 = sp500.append(data)\n"
     ]
    },
    {
     "name": "stdout",
     "output_type": "stream",
     "text": [
      "[*********************100%***********************]  1 of 1 completed\n",
      "Descargando datos para VTR...\n"
     ]
    },
    {
     "name": "stderr",
     "output_type": "stream",
     "text": [
      "/var/folders/db/zztlpw7s0bx2bpqqwrkksxg40000gp/T/ipykernel_21914/2993019566.py:7: FutureWarning: The frame.append method is deprecated and will be removed from pandas in a future version. Use pandas.concat instead.\n",
      "  sp500 = sp500.append(data)\n"
     ]
    },
    {
     "name": "stdout",
     "output_type": "stream",
     "text": [
      "[*********************100%***********************]  1 of 1 completed\n",
      "Descargando datos para VRSN...\n"
     ]
    },
    {
     "name": "stderr",
     "output_type": "stream",
     "text": [
      "/var/folders/db/zztlpw7s0bx2bpqqwrkksxg40000gp/T/ipykernel_21914/2993019566.py:7: FutureWarning: The frame.append method is deprecated and will be removed from pandas in a future version. Use pandas.concat instead.\n",
      "  sp500 = sp500.append(data)\n"
     ]
    },
    {
     "name": "stdout",
     "output_type": "stream",
     "text": [
      "[*********************100%***********************]  1 of 1 completed\n",
      "Descargando datos para VRSK...\n"
     ]
    },
    {
     "name": "stderr",
     "output_type": "stream",
     "text": [
      "/var/folders/db/zztlpw7s0bx2bpqqwrkksxg40000gp/T/ipykernel_21914/2993019566.py:7: FutureWarning: The frame.append method is deprecated and will be removed from pandas in a future version. Use pandas.concat instead.\n",
      "  sp500 = sp500.append(data)\n"
     ]
    },
    {
     "name": "stdout",
     "output_type": "stream",
     "text": [
      "[*********************100%***********************]  1 of 1 completed\n",
      "Descargando datos para VZ...\n"
     ]
    },
    {
     "name": "stderr",
     "output_type": "stream",
     "text": [
      "/var/folders/db/zztlpw7s0bx2bpqqwrkksxg40000gp/T/ipykernel_21914/2993019566.py:7: FutureWarning: The frame.append method is deprecated and will be removed from pandas in a future version. Use pandas.concat instead.\n",
      "  sp500 = sp500.append(data)\n"
     ]
    },
    {
     "name": "stdout",
     "output_type": "stream",
     "text": [
      "[*********************100%***********************]  1 of 1 completed\n",
      "Descargando datos para VRTX...\n"
     ]
    },
    {
     "name": "stderr",
     "output_type": "stream",
     "text": [
      "/var/folders/db/zztlpw7s0bx2bpqqwrkksxg40000gp/T/ipykernel_21914/2993019566.py:7: FutureWarning: The frame.append method is deprecated and will be removed from pandas in a future version. Use pandas.concat instead.\n",
      "  sp500 = sp500.append(data)\n"
     ]
    },
    {
     "name": "stdout",
     "output_type": "stream",
     "text": [
      "[*********************100%***********************]  1 of 1 completed\n",
      "Descargando datos para VFC...\n"
     ]
    },
    {
     "name": "stderr",
     "output_type": "stream",
     "text": [
      "/var/folders/db/zztlpw7s0bx2bpqqwrkksxg40000gp/T/ipykernel_21914/2993019566.py:7: FutureWarning: The frame.append method is deprecated and will be removed from pandas in a future version. Use pandas.concat instead.\n",
      "  sp500 = sp500.append(data)\n"
     ]
    },
    {
     "name": "stdout",
     "output_type": "stream",
     "text": [
      "[*********************100%***********************]  1 of 1 completed\n",
      "Descargando datos para VTRS...\n"
     ]
    },
    {
     "name": "stderr",
     "output_type": "stream",
     "text": [
      "/var/folders/db/zztlpw7s0bx2bpqqwrkksxg40000gp/T/ipykernel_21914/2993019566.py:7: FutureWarning: The frame.append method is deprecated and will be removed from pandas in a future version. Use pandas.concat instead.\n",
      "  sp500 = sp500.append(data)\n"
     ]
    },
    {
     "name": "stdout",
     "output_type": "stream",
     "text": [
      "[*********************100%***********************]  1 of 1 completed\n",
      "Descargando datos para VICI...\n"
     ]
    },
    {
     "name": "stderr",
     "output_type": "stream",
     "text": [
      "/var/folders/db/zztlpw7s0bx2bpqqwrkksxg40000gp/T/ipykernel_21914/2993019566.py:7: FutureWarning: The frame.append method is deprecated and will be removed from pandas in a future version. Use pandas.concat instead.\n",
      "  sp500 = sp500.append(data)\n"
     ]
    },
    {
     "name": "stdout",
     "output_type": "stream",
     "text": [
      "[*********************100%***********************]  1 of 1 completed\n",
      "Descargando datos para V...\n"
     ]
    },
    {
     "name": "stderr",
     "output_type": "stream",
     "text": [
      "/var/folders/db/zztlpw7s0bx2bpqqwrkksxg40000gp/T/ipykernel_21914/2993019566.py:7: FutureWarning: The frame.append method is deprecated and will be removed from pandas in a future version. Use pandas.concat instead.\n",
      "  sp500 = sp500.append(data)\n"
     ]
    },
    {
     "name": "stdout",
     "output_type": "stream",
     "text": [
      "[*********************100%***********************]  1 of 1 completed\n",
      "Descargando datos para VMC...\n"
     ]
    },
    {
     "name": "stderr",
     "output_type": "stream",
     "text": [
      "/var/folders/db/zztlpw7s0bx2bpqqwrkksxg40000gp/T/ipykernel_21914/2993019566.py:7: FutureWarning: The frame.append method is deprecated and will be removed from pandas in a future version. Use pandas.concat instead.\n",
      "  sp500 = sp500.append(data)\n"
     ]
    },
    {
     "name": "stdout",
     "output_type": "stream",
     "text": [
      "[*********************100%***********************]  1 of 1 completed\n",
      "Descargando datos para WAB...\n"
     ]
    },
    {
     "name": "stderr",
     "output_type": "stream",
     "text": [
      "/var/folders/db/zztlpw7s0bx2bpqqwrkksxg40000gp/T/ipykernel_21914/2993019566.py:7: FutureWarning: The frame.append method is deprecated and will be removed from pandas in a future version. Use pandas.concat instead.\n",
      "  sp500 = sp500.append(data)\n"
     ]
    },
    {
     "name": "stdout",
     "output_type": "stream",
     "text": [
      "[*********************100%***********************]  1 of 1 completed\n",
      "Descargando datos para WBA...\n"
     ]
    },
    {
     "name": "stderr",
     "output_type": "stream",
     "text": [
      "/var/folders/db/zztlpw7s0bx2bpqqwrkksxg40000gp/T/ipykernel_21914/2993019566.py:7: FutureWarning: The frame.append method is deprecated and will be removed from pandas in a future version. Use pandas.concat instead.\n",
      "  sp500 = sp500.append(data)\n"
     ]
    },
    {
     "name": "stdout",
     "output_type": "stream",
     "text": [
      "[*********************100%***********************]  1 of 1 completed\n",
      "Descargando datos para WMT...\n"
     ]
    },
    {
     "name": "stderr",
     "output_type": "stream",
     "text": [
      "/var/folders/db/zztlpw7s0bx2bpqqwrkksxg40000gp/T/ipykernel_21914/2993019566.py:7: FutureWarning: The frame.append method is deprecated and will be removed from pandas in a future version. Use pandas.concat instead.\n",
      "  sp500 = sp500.append(data)\n"
     ]
    },
    {
     "name": "stdout",
     "output_type": "stream",
     "text": [
      "[*********************100%***********************]  1 of 1 completed\n",
      "Descargando datos para WBD...\n"
     ]
    },
    {
     "name": "stderr",
     "output_type": "stream",
     "text": [
      "/var/folders/db/zztlpw7s0bx2bpqqwrkksxg40000gp/T/ipykernel_21914/2993019566.py:7: FutureWarning: The frame.append method is deprecated and will be removed from pandas in a future version. Use pandas.concat instead.\n",
      "  sp500 = sp500.append(data)\n"
     ]
    },
    {
     "name": "stdout",
     "output_type": "stream",
     "text": [
      "[*********************100%***********************]  1 of 1 completed\n",
      "Descargando datos para WM...\n"
     ]
    },
    {
     "name": "stderr",
     "output_type": "stream",
     "text": [
      "/var/folders/db/zztlpw7s0bx2bpqqwrkksxg40000gp/T/ipykernel_21914/2993019566.py:7: FutureWarning: The frame.append method is deprecated and will be removed from pandas in a future version. Use pandas.concat instead.\n",
      "  sp500 = sp500.append(data)\n"
     ]
    },
    {
     "name": "stdout",
     "output_type": "stream",
     "text": [
      "[*********************100%***********************]  1 of 1 completed\n",
      "Descargando datos para WAT...\n"
     ]
    },
    {
     "name": "stderr",
     "output_type": "stream",
     "text": [
      "/var/folders/db/zztlpw7s0bx2bpqqwrkksxg40000gp/T/ipykernel_21914/2993019566.py:7: FutureWarning: The frame.append method is deprecated and will be removed from pandas in a future version. Use pandas.concat instead.\n",
      "  sp500 = sp500.append(data)\n"
     ]
    },
    {
     "name": "stdout",
     "output_type": "stream",
     "text": [
      "[*********************100%***********************]  1 of 1 completed\n",
      "Descargando datos para WEC...\n"
     ]
    },
    {
     "name": "stderr",
     "output_type": "stream",
     "text": [
      "/var/folders/db/zztlpw7s0bx2bpqqwrkksxg40000gp/T/ipykernel_21914/2993019566.py:7: FutureWarning: The frame.append method is deprecated and will be removed from pandas in a future version. Use pandas.concat instead.\n",
      "  sp500 = sp500.append(data)\n"
     ]
    },
    {
     "name": "stdout",
     "output_type": "stream",
     "text": [
      "[*********************100%***********************]  1 of 1 completed\n",
      "Descargando datos para WFC...\n"
     ]
    },
    {
     "name": "stderr",
     "output_type": "stream",
     "text": [
      "/var/folders/db/zztlpw7s0bx2bpqqwrkksxg40000gp/T/ipykernel_21914/2993019566.py:7: FutureWarning: The frame.append method is deprecated and will be removed from pandas in a future version. Use pandas.concat instead.\n",
      "  sp500 = sp500.append(data)\n"
     ]
    },
    {
     "name": "stdout",
     "output_type": "stream",
     "text": [
      "[*********************100%***********************]  1 of 1 completed\n",
      "Descargando datos para WELL...\n"
     ]
    },
    {
     "name": "stderr",
     "output_type": "stream",
     "text": [
      "/var/folders/db/zztlpw7s0bx2bpqqwrkksxg40000gp/T/ipykernel_21914/2993019566.py:7: FutureWarning: The frame.append method is deprecated and will be removed from pandas in a future version. Use pandas.concat instead.\n",
      "  sp500 = sp500.append(data)\n"
     ]
    },
    {
     "name": "stdout",
     "output_type": "stream",
     "text": [
      "[*********************100%***********************]  1 of 1 completed\n",
      "Descargando datos para WST...\n"
     ]
    },
    {
     "name": "stderr",
     "output_type": "stream",
     "text": [
      "/var/folders/db/zztlpw7s0bx2bpqqwrkksxg40000gp/T/ipykernel_21914/2993019566.py:7: FutureWarning: The frame.append method is deprecated and will be removed from pandas in a future version. Use pandas.concat instead.\n",
      "  sp500 = sp500.append(data)\n"
     ]
    },
    {
     "name": "stdout",
     "output_type": "stream",
     "text": [
      "[*********************100%***********************]  1 of 1 completed\n",
      "Descargando datos para WDC...\n"
     ]
    },
    {
     "name": "stderr",
     "output_type": "stream",
     "text": [
      "/var/folders/db/zztlpw7s0bx2bpqqwrkksxg40000gp/T/ipykernel_21914/2993019566.py:7: FutureWarning: The frame.append method is deprecated and will be removed from pandas in a future version. Use pandas.concat instead.\n",
      "  sp500 = sp500.append(data)\n"
     ]
    },
    {
     "name": "stdout",
     "output_type": "stream",
     "text": [
      "[*********************100%***********************]  1 of 1 completed\n",
      "Descargando datos para WRK...\n"
     ]
    },
    {
     "name": "stderr",
     "output_type": "stream",
     "text": [
      "/var/folders/db/zztlpw7s0bx2bpqqwrkksxg40000gp/T/ipykernel_21914/2993019566.py:7: FutureWarning: The frame.append method is deprecated and will be removed from pandas in a future version. Use pandas.concat instead.\n",
      "  sp500 = sp500.append(data)\n"
     ]
    },
    {
     "name": "stdout",
     "output_type": "stream",
     "text": [
      "[*********************100%***********************]  1 of 1 completed\n",
      "Descargando datos para WY...\n"
     ]
    },
    {
     "name": "stderr",
     "output_type": "stream",
     "text": [
      "/var/folders/db/zztlpw7s0bx2bpqqwrkksxg40000gp/T/ipykernel_21914/2993019566.py:7: FutureWarning: The frame.append method is deprecated and will be removed from pandas in a future version. Use pandas.concat instead.\n",
      "  sp500 = sp500.append(data)\n"
     ]
    },
    {
     "name": "stdout",
     "output_type": "stream",
     "text": [
      "[*********************100%***********************]  1 of 1 completed\n",
      "Descargando datos para WHR...\n"
     ]
    },
    {
     "name": "stderr",
     "output_type": "stream",
     "text": [
      "/var/folders/db/zztlpw7s0bx2bpqqwrkksxg40000gp/T/ipykernel_21914/2993019566.py:7: FutureWarning: The frame.append method is deprecated and will be removed from pandas in a future version. Use pandas.concat instead.\n",
      "  sp500 = sp500.append(data)\n"
     ]
    },
    {
     "name": "stdout",
     "output_type": "stream",
     "text": [
      "[*********************100%***********************]  1 of 1 completed\n",
      "Descargando datos para WMB...\n"
     ]
    },
    {
     "name": "stderr",
     "output_type": "stream",
     "text": [
      "/var/folders/db/zztlpw7s0bx2bpqqwrkksxg40000gp/T/ipykernel_21914/2993019566.py:7: FutureWarning: The frame.append method is deprecated and will be removed from pandas in a future version. Use pandas.concat instead.\n",
      "  sp500 = sp500.append(data)\n"
     ]
    },
    {
     "name": "stdout",
     "output_type": "stream",
     "text": [
      "[*********************100%***********************]  1 of 1 completed\n",
      "Descargando datos para WTW...\n"
     ]
    },
    {
     "name": "stderr",
     "output_type": "stream",
     "text": [
      "/var/folders/db/zztlpw7s0bx2bpqqwrkksxg40000gp/T/ipykernel_21914/2993019566.py:7: FutureWarning: The frame.append method is deprecated and will be removed from pandas in a future version. Use pandas.concat instead.\n",
      "  sp500 = sp500.append(data)\n"
     ]
    },
    {
     "name": "stdout",
     "output_type": "stream",
     "text": [
      "[*********************100%***********************]  1 of 1 completed\n",
      "Descargando datos para GWW...\n"
     ]
    },
    {
     "name": "stderr",
     "output_type": "stream",
     "text": [
      "/var/folders/db/zztlpw7s0bx2bpqqwrkksxg40000gp/T/ipykernel_21914/2993019566.py:7: FutureWarning: The frame.append method is deprecated and will be removed from pandas in a future version. Use pandas.concat instead.\n",
      "  sp500 = sp500.append(data)\n"
     ]
    },
    {
     "name": "stdout",
     "output_type": "stream",
     "text": [
      "[*********************100%***********************]  1 of 1 completed\n",
      "Descargando datos para WYNN...\n"
     ]
    },
    {
     "name": "stderr",
     "output_type": "stream",
     "text": [
      "/var/folders/db/zztlpw7s0bx2bpqqwrkksxg40000gp/T/ipykernel_21914/2993019566.py:7: FutureWarning: The frame.append method is deprecated and will be removed from pandas in a future version. Use pandas.concat instead.\n",
      "  sp500 = sp500.append(data)\n"
     ]
    },
    {
     "name": "stdout",
     "output_type": "stream",
     "text": [
      "[*********************100%***********************]  1 of 1 completed\n",
      "Descargando datos para XEL...\n"
     ]
    },
    {
     "name": "stderr",
     "output_type": "stream",
     "text": [
      "/var/folders/db/zztlpw7s0bx2bpqqwrkksxg40000gp/T/ipykernel_21914/2993019566.py:7: FutureWarning: The frame.append method is deprecated and will be removed from pandas in a future version. Use pandas.concat instead.\n",
      "  sp500 = sp500.append(data)\n"
     ]
    },
    {
     "name": "stdout",
     "output_type": "stream",
     "text": [
      "[*********************100%***********************]  1 of 1 completed\n",
      "Descargando datos para XYL...\n"
     ]
    },
    {
     "name": "stderr",
     "output_type": "stream",
     "text": [
      "/var/folders/db/zztlpw7s0bx2bpqqwrkksxg40000gp/T/ipykernel_21914/2993019566.py:7: FutureWarning: The frame.append method is deprecated and will be removed from pandas in a future version. Use pandas.concat instead.\n",
      "  sp500 = sp500.append(data)\n"
     ]
    },
    {
     "name": "stdout",
     "output_type": "stream",
     "text": [
      "[*********************100%***********************]  1 of 1 completed\n",
      "Descargando datos para YUM...\n"
     ]
    },
    {
     "name": "stderr",
     "output_type": "stream",
     "text": [
      "/var/folders/db/zztlpw7s0bx2bpqqwrkksxg40000gp/T/ipykernel_21914/2993019566.py:7: FutureWarning: The frame.append method is deprecated and will be removed from pandas in a future version. Use pandas.concat instead.\n",
      "  sp500 = sp500.append(data)\n"
     ]
    },
    {
     "name": "stdout",
     "output_type": "stream",
     "text": [
      "[*********************100%***********************]  1 of 1 completed\n",
      "Descargando datos para ZBRA...\n"
     ]
    },
    {
     "name": "stderr",
     "output_type": "stream",
     "text": [
      "/var/folders/db/zztlpw7s0bx2bpqqwrkksxg40000gp/T/ipykernel_21914/2993019566.py:7: FutureWarning: The frame.append method is deprecated and will be removed from pandas in a future version. Use pandas.concat instead.\n",
      "  sp500 = sp500.append(data)\n"
     ]
    },
    {
     "name": "stdout",
     "output_type": "stream",
     "text": [
      "[*********************100%***********************]  1 of 1 completed\n",
      "Descargando datos para ZBH...\n"
     ]
    },
    {
     "name": "stderr",
     "output_type": "stream",
     "text": [
      "/var/folders/db/zztlpw7s0bx2bpqqwrkksxg40000gp/T/ipykernel_21914/2993019566.py:7: FutureWarning: The frame.append method is deprecated and will be removed from pandas in a future version. Use pandas.concat instead.\n",
      "  sp500 = sp500.append(data)\n"
     ]
    },
    {
     "name": "stdout",
     "output_type": "stream",
     "text": [
      "[*********************100%***********************]  1 of 1 completed\n",
      "Descargando datos para ZION...\n"
     ]
    },
    {
     "name": "stderr",
     "output_type": "stream",
     "text": [
      "/var/folders/db/zztlpw7s0bx2bpqqwrkksxg40000gp/T/ipykernel_21914/2993019566.py:7: FutureWarning: The frame.append method is deprecated and will be removed from pandas in a future version. Use pandas.concat instead.\n",
      "  sp500 = sp500.append(data)\n"
     ]
    },
    {
     "name": "stdout",
     "output_type": "stream",
     "text": [
      "[*********************100%***********************]  1 of 1 completed\n",
      "Descargando datos para ZTS...\n"
     ]
    },
    {
     "name": "stderr",
     "output_type": "stream",
     "text": [
      "/var/folders/db/zztlpw7s0bx2bpqqwrkksxg40000gp/T/ipykernel_21914/2993019566.py:7: FutureWarning: The frame.append method is deprecated and will be removed from pandas in a future version. Use pandas.concat instead.\n",
      "  sp500 = sp500.append(data)\n"
     ]
    },
    {
     "name": "stdout",
     "output_type": "stream",
     "text": [
      "[*********************100%***********************]  1 of 1 completed\n"
     ]
    },
    {
     "name": "stderr",
     "output_type": "stream",
     "text": [
      "/var/folders/db/zztlpw7s0bx2bpqqwrkksxg40000gp/T/ipykernel_21914/2993019566.py:7: FutureWarning: The frame.append method is deprecated and will be removed from pandas in a future version. Use pandas.concat instead.\n",
      "  sp500 = sp500.append(data)\n"
     ]
    }
   ],
   "source": [
    "# Iterar a través de cada símbolo de acción y agregar los datos\n",
    "for symbol in sp500_symbols:\n",
    "    print(f\"Descargando datos para {symbol}...\")\n",
    "    data = yf.download(symbol, start=start_date, end=end_date)\n",
    "    if len(data) > 0:\n",
    "        data['Symbol'] = symbol\n",
    "        sp500 = sp500.append(data)"
   ]
  },
  {
   "attachments": {},
   "cell_type": "markdown",
   "metadata": {},
   "source": [
    "## INFORMACIÓN BÁSICA DE LOS DATOS"
   ]
  },
  {
   "attachments": {},
   "cell_type": "markdown",
   "metadata": {},
   "source": [
    "Visualizo los datos que pude recolectar desde la S&P 500"
   ]
  },
  {
   "cell_type": "code",
   "execution_count": 6,
   "metadata": {},
   "outputs": [
    {
     "name": "stdout",
     "output_type": "stream",
     "text": [
      "<class 'pandas.core.frame.DataFrame'>\n",
      "DatetimeIndex: 2605020 entries, 2000-01-03 to 2023-02-21\n",
      "Data columns (total 7 columns):\n",
      " #   Column     Dtype  \n",
      "---  ------     -----  \n",
      " 0   Open       float64\n",
      " 1   High       float64\n",
      " 2   Low        float64\n",
      " 3   Close      float64\n",
      " 4   Adj Close  float64\n",
      " 5   Volume     int64  \n",
      " 6   Symbol     object \n",
      "dtypes: float64(5), int64(1), object(1)\n",
      "memory usage: 159.0+ MB\n"
     ]
    }
   ],
   "source": [
    "sp500.info()"
   ]
  },
  {
   "cell_type": "code",
   "execution_count": 7,
   "metadata": {},
   "outputs": [
    {
     "data": {
      "text/html": [
       "<div>\n",
       "<style scoped>\n",
       "    .dataframe tbody tr th:only-of-type {\n",
       "        vertical-align: middle;\n",
       "    }\n",
       "\n",
       "    .dataframe tbody tr th {\n",
       "        vertical-align: top;\n",
       "    }\n",
       "\n",
       "    .dataframe thead th {\n",
       "        text-align: right;\n",
       "    }\n",
       "</style>\n",
       "<table border=\"1\" class=\"dataframe\">\n",
       "  <thead>\n",
       "    <tr style=\"text-align: right;\">\n",
       "      <th></th>\n",
       "      <th>Open</th>\n",
       "      <th>High</th>\n",
       "      <th>Low</th>\n",
       "      <th>Close</th>\n",
       "      <th>Adj Close</th>\n",
       "      <th>Volume</th>\n",
       "      <th>Symbol</th>\n",
       "    </tr>\n",
       "    <tr>\n",
       "      <th>Date</th>\n",
       "      <th></th>\n",
       "      <th></th>\n",
       "      <th></th>\n",
       "      <th></th>\n",
       "      <th></th>\n",
       "      <th></th>\n",
       "      <th></th>\n",
       "    </tr>\n",
       "  </thead>\n",
       "  <tbody>\n",
       "    <tr>\n",
       "      <th>2000-01-03</th>\n",
       "      <td>48.03125</td>\n",
       "      <td>48.25000</td>\n",
       "      <td>47.03125</td>\n",
       "      <td>47.1875</td>\n",
       "      <td>25.525515</td>\n",
       "      <td>2173400</td>\n",
       "      <td>MMM</td>\n",
       "    </tr>\n",
       "    <tr>\n",
       "      <th>2000-01-04</th>\n",
       "      <td>46.43750</td>\n",
       "      <td>47.40625</td>\n",
       "      <td>45.31250</td>\n",
       "      <td>45.3125</td>\n",
       "      <td>24.511253</td>\n",
       "      <td>2713800</td>\n",
       "      <td>MMM</td>\n",
       "    </tr>\n",
       "    <tr>\n",
       "      <th>2000-01-05</th>\n",
       "      <td>45.56250</td>\n",
       "      <td>48.12500</td>\n",
       "      <td>45.56250</td>\n",
       "      <td>46.6250</td>\n",
       "      <td>25.221243</td>\n",
       "      <td>3699400</td>\n",
       "      <td>MMM</td>\n",
       "    </tr>\n",
       "    <tr>\n",
       "      <th>2000-01-06</th>\n",
       "      <td>47.15625</td>\n",
       "      <td>51.25000</td>\n",
       "      <td>47.15625</td>\n",
       "      <td>50.3750</td>\n",
       "      <td>27.249744</td>\n",
       "      <td>5975800</td>\n",
       "      <td>MMM</td>\n",
       "    </tr>\n",
       "    <tr>\n",
       "      <th>2000-01-07</th>\n",
       "      <td>50.56250</td>\n",
       "      <td>51.90625</td>\n",
       "      <td>49.96875</td>\n",
       "      <td>51.3750</td>\n",
       "      <td>27.790695</td>\n",
       "      <td>4101200</td>\n",
       "      <td>MMM</td>\n",
       "    </tr>\n",
       "  </tbody>\n",
       "</table>\n",
       "</div>"
      ],
      "text/plain": [
       "                Open      High       Low    Close  Adj Close   Volume Symbol\n",
       "Date                                                                        \n",
       "2000-01-03  48.03125  48.25000  47.03125  47.1875  25.525515  2173400    MMM\n",
       "2000-01-04  46.43750  47.40625  45.31250  45.3125  24.511253  2713800    MMM\n",
       "2000-01-05  45.56250  48.12500  45.56250  46.6250  25.221243  3699400    MMM\n",
       "2000-01-06  47.15625  51.25000  47.15625  50.3750  27.249744  5975800    MMM\n",
       "2000-01-07  50.56250  51.90625  49.96875  51.3750  27.790695  4101200    MMM"
      ]
     },
     "execution_count": 7,
     "metadata": {},
     "output_type": "execute_result"
    }
   ],
   "source": [
    "sp500.head()\n"
   ]
  },
  {
   "cell_type": "code",
   "execution_count": 8,
   "metadata": {},
   "outputs": [],
   "source": [
    "#Cambio de los índices dejando las fechas como un dato más.\n",
    "sp500= sp500.reset_index()"
   ]
  },
  {
   "cell_type": "code",
   "execution_count": 9,
   "metadata": {},
   "outputs": [
    {
     "data": {
      "text/plain": [
       "(2605020, 8)"
      ]
     },
     "execution_count": 9,
     "metadata": {},
     "output_type": "execute_result"
    }
   ],
   "source": [
    "sp500.shape"
   ]
  },
  {
   "cell_type": "code",
   "execution_count": 10,
   "metadata": {},
   "outputs": [
    {
     "data": {
      "text/html": [
       "<div>\n",
       "<style scoped>\n",
       "    .dataframe tbody tr th:only-of-type {\n",
       "        vertical-align: middle;\n",
       "    }\n",
       "\n",
       "    .dataframe tbody tr th {\n",
       "        vertical-align: top;\n",
       "    }\n",
       "\n",
       "    .dataframe thead th {\n",
       "        text-align: right;\n",
       "    }\n",
       "</style>\n",
       "<table border=\"1\" class=\"dataframe\">\n",
       "  <thead>\n",
       "    <tr style=\"text-align: right;\">\n",
       "      <th></th>\n",
       "      <th>Date</th>\n",
       "      <th>Open</th>\n",
       "      <th>High</th>\n",
       "      <th>Low</th>\n",
       "      <th>Close</th>\n",
       "      <th>Adj Close</th>\n",
       "      <th>Volume</th>\n",
       "      <th>Symbol</th>\n",
       "    </tr>\n",
       "  </thead>\n",
       "  <tbody>\n",
       "    <tr>\n",
       "      <th>2605015</th>\n",
       "      <td>2023-02-14</td>\n",
       "      <td>173.440002</td>\n",
       "      <td>176.660004</td>\n",
       "      <td>168.940002</td>\n",
       "      <td>171.899994</td>\n",
       "      <td>171.899994</td>\n",
       "      <td>3532400</td>\n",
       "      <td>ZTS</td>\n",
       "    </tr>\n",
       "    <tr>\n",
       "      <th>2605016</th>\n",
       "      <td>2023-02-15</td>\n",
       "      <td>171.899994</td>\n",
       "      <td>175.270004</td>\n",
       "      <td>170.750000</td>\n",
       "      <td>175.020004</td>\n",
       "      <td>175.020004</td>\n",
       "      <td>2510800</td>\n",
       "      <td>ZTS</td>\n",
       "    </tr>\n",
       "    <tr>\n",
       "      <th>2605017</th>\n",
       "      <td>2023-02-16</td>\n",
       "      <td>173.630005</td>\n",
       "      <td>176.479996</td>\n",
       "      <td>172.500000</td>\n",
       "      <td>173.929993</td>\n",
       "      <td>173.929993</td>\n",
       "      <td>1951100</td>\n",
       "      <td>ZTS</td>\n",
       "    </tr>\n",
       "    <tr>\n",
       "      <th>2605018</th>\n",
       "      <td>2023-02-17</td>\n",
       "      <td>172.149994</td>\n",
       "      <td>173.289993</td>\n",
       "      <td>170.259995</td>\n",
       "      <td>172.029999</td>\n",
       "      <td>172.029999</td>\n",
       "      <td>1954500</td>\n",
       "      <td>ZTS</td>\n",
       "    </tr>\n",
       "    <tr>\n",
       "      <th>2605019</th>\n",
       "      <td>2023-02-21</td>\n",
       "      <td>171.529999</td>\n",
       "      <td>172.080002</td>\n",
       "      <td>168.660004</td>\n",
       "      <td>169.839996</td>\n",
       "      <td>169.839996</td>\n",
       "      <td>1791300</td>\n",
       "      <td>ZTS</td>\n",
       "    </tr>\n",
       "  </tbody>\n",
       "</table>\n",
       "</div>"
      ],
      "text/plain": [
       "              Date        Open        High         Low       Close  \\\n",
       "2605015 2023-02-14  173.440002  176.660004  168.940002  171.899994   \n",
       "2605016 2023-02-15  171.899994  175.270004  170.750000  175.020004   \n",
       "2605017 2023-02-16  173.630005  176.479996  172.500000  173.929993   \n",
       "2605018 2023-02-17  172.149994  173.289993  170.259995  172.029999   \n",
       "2605019 2023-02-21  171.529999  172.080002  168.660004  169.839996   \n",
       "\n",
       "          Adj Close   Volume Symbol  \n",
       "2605015  171.899994  3532400    ZTS  \n",
       "2605016  175.020004  2510800    ZTS  \n",
       "2605017  173.929993  1951100    ZTS  \n",
       "2605018  172.029999  1954500    ZTS  \n",
       "2605019  169.839996  1791300    ZTS  "
      ]
     },
     "execution_count": 10,
     "metadata": {},
     "output_type": "execute_result"
    }
   ],
   "source": [
    "sp500.tail()"
   ]
  },
  {
   "cell_type": "code",
   "execution_count": 11,
   "metadata": {},
   "outputs": [
    {
     "data": {
      "text/html": [
       "<div>\n",
       "<style scoped>\n",
       "    .dataframe tbody tr th:only-of-type {\n",
       "        vertical-align: middle;\n",
       "    }\n",
       "\n",
       "    .dataframe tbody tr th {\n",
       "        vertical-align: top;\n",
       "    }\n",
       "\n",
       "    .dataframe thead th {\n",
       "        text-align: right;\n",
       "    }\n",
       "</style>\n",
       "<table border=\"1\" class=\"dataframe\">\n",
       "  <thead>\n",
       "    <tr style=\"text-align: right;\">\n",
       "      <th></th>\n",
       "      <th>Date</th>\n",
       "      <th>Open</th>\n",
       "      <th>High</th>\n",
       "      <th>Low</th>\n",
       "      <th>Close</th>\n",
       "      <th>Adj Close</th>\n",
       "      <th>Volume</th>\n",
       "      <th>Symbol</th>\n",
       "    </tr>\n",
       "  </thead>\n",
       "  <tbody>\n",
       "    <tr>\n",
       "      <th>0</th>\n",
       "      <td>2000-01-03</td>\n",
       "      <td>48.03125</td>\n",
       "      <td>48.25000</td>\n",
       "      <td>47.03125</td>\n",
       "      <td>47.1875</td>\n",
       "      <td>25.525515</td>\n",
       "      <td>2173400</td>\n",
       "      <td>MMM</td>\n",
       "    </tr>\n",
       "    <tr>\n",
       "      <th>1</th>\n",
       "      <td>2000-01-04</td>\n",
       "      <td>46.43750</td>\n",
       "      <td>47.40625</td>\n",
       "      <td>45.31250</td>\n",
       "      <td>45.3125</td>\n",
       "      <td>24.511253</td>\n",
       "      <td>2713800</td>\n",
       "      <td>MMM</td>\n",
       "    </tr>\n",
       "    <tr>\n",
       "      <th>2</th>\n",
       "      <td>2000-01-05</td>\n",
       "      <td>45.56250</td>\n",
       "      <td>48.12500</td>\n",
       "      <td>45.56250</td>\n",
       "      <td>46.6250</td>\n",
       "      <td>25.221243</td>\n",
       "      <td>3699400</td>\n",
       "      <td>MMM</td>\n",
       "    </tr>\n",
       "    <tr>\n",
       "      <th>3</th>\n",
       "      <td>2000-01-06</td>\n",
       "      <td>47.15625</td>\n",
       "      <td>51.25000</td>\n",
       "      <td>47.15625</td>\n",
       "      <td>50.3750</td>\n",
       "      <td>27.249744</td>\n",
       "      <td>5975800</td>\n",
       "      <td>MMM</td>\n",
       "    </tr>\n",
       "    <tr>\n",
       "      <th>4</th>\n",
       "      <td>2000-01-07</td>\n",
       "      <td>50.56250</td>\n",
       "      <td>51.90625</td>\n",
       "      <td>49.96875</td>\n",
       "      <td>51.3750</td>\n",
       "      <td>27.790695</td>\n",
       "      <td>4101200</td>\n",
       "      <td>MMM</td>\n",
       "    </tr>\n",
       "  </tbody>\n",
       "</table>\n",
       "</div>"
      ],
      "text/plain": [
       "        Date      Open      High       Low    Close  Adj Close   Volume Symbol\n",
       "0 2000-01-03  48.03125  48.25000  47.03125  47.1875  25.525515  2173400    MMM\n",
       "1 2000-01-04  46.43750  47.40625  45.31250  45.3125  24.511253  2713800    MMM\n",
       "2 2000-01-05  45.56250  48.12500  45.56250  46.6250  25.221243  3699400    MMM\n",
       "3 2000-01-06  47.15625  51.25000  47.15625  50.3750  27.249744  5975800    MMM\n",
       "4 2000-01-07  50.56250  51.90625  49.96875  51.3750  27.790695  4101200    MMM"
      ]
     },
     "execution_count": 11,
     "metadata": {},
     "output_type": "execute_result"
    }
   ],
   "source": [
    "#Compruebo que me sumo la columna 'DATE' al DataFrame\n",
    "sp500.head()"
   ]
  },
  {
   "attachments": {},
   "cell_type": "markdown",
   "metadata": {},
   "source": [
    "## DATOS II"
   ]
  },
  {
   "attachments": {},
   "cell_type": "markdown",
   "metadata": {},
   "source": [
    "Comienzo a trabajar con una tabla con otra información. La reviso y determino cual es la que me sirve. "
   ]
  },
  {
   "cell_type": "code",
   "execution_count": 12,
   "metadata": {},
   "outputs": [],
   "source": [
    "url = \"https://en.wikipedia.org/wiki/List_of_S%26P_500_companies\""
   ]
  },
  {
   "cell_type": "code",
   "execution_count": 13,
   "metadata": {},
   "outputs": [],
   "source": [
    "# Usar la función read_html() para leer la tabla desde la página web\n",
    "tabla= pd.read_html(url)"
   ]
  },
  {
   "cell_type": "code",
   "execution_count": 14,
   "metadata": {},
   "outputs": [],
   "source": [
    "# La tabla que nos interesa es la primera\n",
    "sp500_tabla= tabla[0]"
   ]
  },
  {
   "cell_type": "code",
   "execution_count": 15,
   "metadata": {},
   "outputs": [
    {
     "data": {
      "text/html": [
       "<div>\n",
       "<style scoped>\n",
       "    .dataframe tbody tr th:only-of-type {\n",
       "        vertical-align: middle;\n",
       "    }\n",
       "\n",
       "    .dataframe tbody tr th {\n",
       "        vertical-align: top;\n",
       "    }\n",
       "\n",
       "    .dataframe thead th {\n",
       "        text-align: right;\n",
       "    }\n",
       "</style>\n",
       "<table border=\"1\" class=\"dataframe\">\n",
       "  <thead>\n",
       "    <tr style=\"text-align: right;\">\n",
       "      <th></th>\n",
       "      <th>Symbol</th>\n",
       "      <th>Security</th>\n",
       "      <th>GICS Sector</th>\n",
       "      <th>GICS Sub-Industry</th>\n",
       "      <th>Headquarters Location</th>\n",
       "      <th>Date added</th>\n",
       "      <th>CIK</th>\n",
       "      <th>Founded</th>\n",
       "    </tr>\n",
       "  </thead>\n",
       "  <tbody>\n",
       "    <tr>\n",
       "      <th>0</th>\n",
       "      <td>MMM</td>\n",
       "      <td>3M</td>\n",
       "      <td>Industrials</td>\n",
       "      <td>Industrial Conglomerates</td>\n",
       "      <td>Saint Paul, Minnesota</td>\n",
       "      <td>1957-03-04</td>\n",
       "      <td>66740</td>\n",
       "      <td>1902</td>\n",
       "    </tr>\n",
       "    <tr>\n",
       "      <th>1</th>\n",
       "      <td>AOS</td>\n",
       "      <td>A. O. Smith</td>\n",
       "      <td>Industrials</td>\n",
       "      <td>Building Products</td>\n",
       "      <td>Milwaukee, Wisconsin</td>\n",
       "      <td>2017-07-26</td>\n",
       "      <td>91142</td>\n",
       "      <td>1916</td>\n",
       "    </tr>\n",
       "    <tr>\n",
       "      <th>2</th>\n",
       "      <td>ABT</td>\n",
       "      <td>Abbott</td>\n",
       "      <td>Health Care</td>\n",
       "      <td>Health Care Equipment</td>\n",
       "      <td>North Chicago, Illinois</td>\n",
       "      <td>1957-03-04</td>\n",
       "      <td>1800</td>\n",
       "      <td>1888</td>\n",
       "    </tr>\n",
       "    <tr>\n",
       "      <th>3</th>\n",
       "      <td>ABBV</td>\n",
       "      <td>AbbVie</td>\n",
       "      <td>Health Care</td>\n",
       "      <td>Pharmaceuticals</td>\n",
       "      <td>North Chicago, Illinois</td>\n",
       "      <td>2012-12-31</td>\n",
       "      <td>1551152</td>\n",
       "      <td>2013 (1888)</td>\n",
       "    </tr>\n",
       "    <tr>\n",
       "      <th>4</th>\n",
       "      <td>ACN</td>\n",
       "      <td>Accenture</td>\n",
       "      <td>Information Technology</td>\n",
       "      <td>IT Consulting &amp; Other Services</td>\n",
       "      <td>Dublin, Ireland</td>\n",
       "      <td>2011-07-06</td>\n",
       "      <td>1467373</td>\n",
       "      <td>1989</td>\n",
       "    </tr>\n",
       "  </tbody>\n",
       "</table>\n",
       "</div>"
      ],
      "text/plain": [
       "  Symbol     Security             GICS Sector               GICS Sub-Industry  \\\n",
       "0    MMM           3M             Industrials        Industrial Conglomerates   \n",
       "1    AOS  A. O. Smith             Industrials               Building Products   \n",
       "2    ABT       Abbott             Health Care           Health Care Equipment   \n",
       "3   ABBV       AbbVie             Health Care                 Pharmaceuticals   \n",
       "4    ACN    Accenture  Information Technology  IT Consulting & Other Services   \n",
       "\n",
       "     Headquarters Location  Date added      CIK      Founded  \n",
       "0    Saint Paul, Minnesota  1957-03-04    66740         1902  \n",
       "1     Milwaukee, Wisconsin  2017-07-26    91142         1916  \n",
       "2  North Chicago, Illinois  1957-03-04     1800         1888  \n",
       "3  North Chicago, Illinois  2012-12-31  1551152  2013 (1888)  \n",
       "4          Dublin, Ireland  2011-07-06  1467373         1989  "
      ]
     },
     "execution_count": 15,
     "metadata": {},
     "output_type": "execute_result"
    }
   ],
   "source": [
    "# Imprimir los primeros cinco registros del DataFrame\n",
    "sp500_tabla.head()"
   ]
  },
  {
   "attachments": {},
   "cell_type": "markdown",
   "metadata": {},
   "source": [
    "## UNIÓN Y TRANSFORMACIÓN "
   ]
  },
  {
   "attachments": {},
   "cell_type": "markdown",
   "metadata": {},
   "source": [
    "\n",
    "Uno los dataframes que tengo asi tener un panorama mejor de las empresas de lça S&P 500, y poder comenzar con mi EDA."
   ]
  },
  {
   "cell_type": "code",
   "execution_count": 16,
   "metadata": {},
   "outputs": [],
   "source": [
    "# Uno por el campo \"Symbol\"\n",
    "df = pd.merge(sp500, sp500_tabla, on='Symbol')"
   ]
  },
  {
   "cell_type": "code",
   "execution_count": 17,
   "metadata": {},
   "outputs": [
    {
     "data": {
      "text/html": [
       "<div>\n",
       "<style scoped>\n",
       "    .dataframe tbody tr th:only-of-type {\n",
       "        vertical-align: middle;\n",
       "    }\n",
       "\n",
       "    .dataframe tbody tr th {\n",
       "        vertical-align: top;\n",
       "    }\n",
       "\n",
       "    .dataframe thead th {\n",
       "        text-align: right;\n",
       "    }\n",
       "</style>\n",
       "<table border=\"1\" class=\"dataframe\">\n",
       "  <thead>\n",
       "    <tr style=\"text-align: right;\">\n",
       "      <th></th>\n",
       "      <th>Date</th>\n",
       "      <th>Open</th>\n",
       "      <th>High</th>\n",
       "      <th>Low</th>\n",
       "      <th>Close</th>\n",
       "      <th>Adj Close</th>\n",
       "      <th>Volume</th>\n",
       "      <th>Symbol</th>\n",
       "      <th>Security</th>\n",
       "      <th>GICS Sector</th>\n",
       "      <th>GICS Sub-Industry</th>\n",
       "      <th>Headquarters Location</th>\n",
       "      <th>Date added</th>\n",
       "      <th>CIK</th>\n",
       "      <th>Founded</th>\n",
       "    </tr>\n",
       "  </thead>\n",
       "  <tbody>\n",
       "    <tr>\n",
       "      <th>0</th>\n",
       "      <td>2000-01-03</td>\n",
       "      <td>48.03125</td>\n",
       "      <td>48.25000</td>\n",
       "      <td>47.03125</td>\n",
       "      <td>47.1875</td>\n",
       "      <td>25.525515</td>\n",
       "      <td>2173400</td>\n",
       "      <td>MMM</td>\n",
       "      <td>3M</td>\n",
       "      <td>Industrials</td>\n",
       "      <td>Industrial Conglomerates</td>\n",
       "      <td>Saint Paul, Minnesota</td>\n",
       "      <td>1957-03-04</td>\n",
       "      <td>66740</td>\n",
       "      <td>1902</td>\n",
       "    </tr>\n",
       "    <tr>\n",
       "      <th>1</th>\n",
       "      <td>2000-01-04</td>\n",
       "      <td>46.43750</td>\n",
       "      <td>47.40625</td>\n",
       "      <td>45.31250</td>\n",
       "      <td>45.3125</td>\n",
       "      <td>24.511253</td>\n",
       "      <td>2713800</td>\n",
       "      <td>MMM</td>\n",
       "      <td>3M</td>\n",
       "      <td>Industrials</td>\n",
       "      <td>Industrial Conglomerates</td>\n",
       "      <td>Saint Paul, Minnesota</td>\n",
       "      <td>1957-03-04</td>\n",
       "      <td>66740</td>\n",
       "      <td>1902</td>\n",
       "    </tr>\n",
       "    <tr>\n",
       "      <th>2</th>\n",
       "      <td>2000-01-05</td>\n",
       "      <td>45.56250</td>\n",
       "      <td>48.12500</td>\n",
       "      <td>45.56250</td>\n",
       "      <td>46.6250</td>\n",
       "      <td>25.221243</td>\n",
       "      <td>3699400</td>\n",
       "      <td>MMM</td>\n",
       "      <td>3M</td>\n",
       "      <td>Industrials</td>\n",
       "      <td>Industrial Conglomerates</td>\n",
       "      <td>Saint Paul, Minnesota</td>\n",
       "      <td>1957-03-04</td>\n",
       "      <td>66740</td>\n",
       "      <td>1902</td>\n",
       "    </tr>\n",
       "    <tr>\n",
       "      <th>3</th>\n",
       "      <td>2000-01-06</td>\n",
       "      <td>47.15625</td>\n",
       "      <td>51.25000</td>\n",
       "      <td>47.15625</td>\n",
       "      <td>50.3750</td>\n",
       "      <td>27.249744</td>\n",
       "      <td>5975800</td>\n",
       "      <td>MMM</td>\n",
       "      <td>3M</td>\n",
       "      <td>Industrials</td>\n",
       "      <td>Industrial Conglomerates</td>\n",
       "      <td>Saint Paul, Minnesota</td>\n",
       "      <td>1957-03-04</td>\n",
       "      <td>66740</td>\n",
       "      <td>1902</td>\n",
       "    </tr>\n",
       "    <tr>\n",
       "      <th>4</th>\n",
       "      <td>2000-01-07</td>\n",
       "      <td>50.56250</td>\n",
       "      <td>51.90625</td>\n",
       "      <td>49.96875</td>\n",
       "      <td>51.3750</td>\n",
       "      <td>27.790695</td>\n",
       "      <td>4101200</td>\n",
       "      <td>MMM</td>\n",
       "      <td>3M</td>\n",
       "      <td>Industrials</td>\n",
       "      <td>Industrial Conglomerates</td>\n",
       "      <td>Saint Paul, Minnesota</td>\n",
       "      <td>1957-03-04</td>\n",
       "      <td>66740</td>\n",
       "      <td>1902</td>\n",
       "    </tr>\n",
       "  </tbody>\n",
       "</table>\n",
       "</div>"
      ],
      "text/plain": [
       "        Date      Open      High       Low    Close  Adj Close   Volume  \\\n",
       "0 2000-01-03  48.03125  48.25000  47.03125  47.1875  25.525515  2173400   \n",
       "1 2000-01-04  46.43750  47.40625  45.31250  45.3125  24.511253  2713800   \n",
       "2 2000-01-05  45.56250  48.12500  45.56250  46.6250  25.221243  3699400   \n",
       "3 2000-01-06  47.15625  51.25000  47.15625  50.3750  27.249744  5975800   \n",
       "4 2000-01-07  50.56250  51.90625  49.96875  51.3750  27.790695  4101200   \n",
       "\n",
       "  Symbol Security  GICS Sector         GICS Sub-Industry  \\\n",
       "0    MMM       3M  Industrials  Industrial Conglomerates   \n",
       "1    MMM       3M  Industrials  Industrial Conglomerates   \n",
       "2    MMM       3M  Industrials  Industrial Conglomerates   \n",
       "3    MMM       3M  Industrials  Industrial Conglomerates   \n",
       "4    MMM       3M  Industrials  Industrial Conglomerates   \n",
       "\n",
       "   Headquarters Location  Date added    CIK Founded  \n",
       "0  Saint Paul, Minnesota  1957-03-04  66740    1902  \n",
       "1  Saint Paul, Minnesota  1957-03-04  66740    1902  \n",
       "2  Saint Paul, Minnesota  1957-03-04  66740    1902  \n",
       "3  Saint Paul, Minnesota  1957-03-04  66740    1902  \n",
       "4  Saint Paul, Minnesota  1957-03-04  66740    1902  "
      ]
     },
     "execution_count": 17,
     "metadata": {},
     "output_type": "execute_result"
    }
   ],
   "source": [
    "df.head()"
   ]
  },
  {
   "cell_type": "code",
   "execution_count": 18,
   "metadata": {},
   "outputs": [
    {
     "name": "stdout",
     "output_type": "stream",
     "text": [
      "<class 'pandas.core.frame.DataFrame'>\n",
      "Int64Index: 2605020 entries, 0 to 2605019\n",
      "Data columns (total 15 columns):\n",
      " #   Column                 Dtype         \n",
      "---  ------                 -----         \n",
      " 0   Date                   datetime64[ns]\n",
      " 1   Open                   float64       \n",
      " 2   High                   float64       \n",
      " 3   Low                    float64       \n",
      " 4   Close                  float64       \n",
      " 5   Adj Close              float64       \n",
      " 6   Volume                 int64         \n",
      " 7   Symbol                 object        \n",
      " 8   Security               object        \n",
      " 9   GICS Sector            object        \n",
      " 10  GICS Sub-Industry      object        \n",
      " 11  Headquarters Location  object        \n",
      " 12  Date added             object        \n",
      " 13  CIK                    int64         \n",
      " 14  Founded                object        \n",
      "dtypes: datetime64[ns](1), float64(5), int64(2), object(7)\n",
      "memory usage: 318.0+ MB\n"
     ]
    }
   ],
   "source": [
    "df.info()"
   ]
  },
  {
   "cell_type": "code",
   "execution_count": 19,
   "metadata": {},
   "outputs": [],
   "source": [
    "#En un analisis posterior debo conocer cuál es el día que mejor resulta la compra de acciones, asique sumo una columna con esta info.\n",
    "\n",
    "Day = {\n",
    "    0: 'Mon',\n",
    "    1: 'Tues',\n",
    "    2: 'Wed',\n",
    "    3: 'Thrus',\n",
    "    4: 'Fri',\n",
    "    5: 'Sat',\n",
    "    6: 'Sun'}\n",
    "\n",
    "#Uno el df con los datos del dicc asignando para cada fecha un día correspondiente.\n",
    "\n",
    "df['Day'] = df['Date'].dt.dayofweek.map(Day)"
   ]
  },
  {
   "cell_type": "code",
   "execution_count": 20,
   "metadata": {},
   "outputs": [
    {
     "data": {
      "text/html": [
       "<div>\n",
       "<style scoped>\n",
       "    .dataframe tbody tr th:only-of-type {\n",
       "        vertical-align: middle;\n",
       "    }\n",
       "\n",
       "    .dataframe tbody tr th {\n",
       "        vertical-align: top;\n",
       "    }\n",
       "\n",
       "    .dataframe thead th {\n",
       "        text-align: right;\n",
       "    }\n",
       "</style>\n",
       "<table border=\"1\" class=\"dataframe\">\n",
       "  <thead>\n",
       "    <tr style=\"text-align: right;\">\n",
       "      <th></th>\n",
       "      <th>Date</th>\n",
       "      <th>Open</th>\n",
       "      <th>High</th>\n",
       "      <th>Low</th>\n",
       "      <th>Close</th>\n",
       "      <th>Adj Close</th>\n",
       "      <th>Volume</th>\n",
       "      <th>Symbol</th>\n",
       "      <th>Security</th>\n",
       "      <th>GICS Sector</th>\n",
       "      <th>GICS Sub-Industry</th>\n",
       "      <th>Headquarters Location</th>\n",
       "      <th>Date added</th>\n",
       "      <th>CIK</th>\n",
       "      <th>Founded</th>\n",
       "      <th>Day</th>\n",
       "    </tr>\n",
       "  </thead>\n",
       "  <tbody>\n",
       "    <tr>\n",
       "      <th>0</th>\n",
       "      <td>2000-01-03</td>\n",
       "      <td>48.03125</td>\n",
       "      <td>48.25000</td>\n",
       "      <td>47.03125</td>\n",
       "      <td>47.1875</td>\n",
       "      <td>25.525515</td>\n",
       "      <td>2173400</td>\n",
       "      <td>MMM</td>\n",
       "      <td>3M</td>\n",
       "      <td>Industrials</td>\n",
       "      <td>Industrial Conglomerates</td>\n",
       "      <td>Saint Paul, Minnesota</td>\n",
       "      <td>1957-03-04</td>\n",
       "      <td>66740</td>\n",
       "      <td>1902</td>\n",
       "      <td>Mon</td>\n",
       "    </tr>\n",
       "    <tr>\n",
       "      <th>1</th>\n",
       "      <td>2000-01-04</td>\n",
       "      <td>46.43750</td>\n",
       "      <td>47.40625</td>\n",
       "      <td>45.31250</td>\n",
       "      <td>45.3125</td>\n",
       "      <td>24.511253</td>\n",
       "      <td>2713800</td>\n",
       "      <td>MMM</td>\n",
       "      <td>3M</td>\n",
       "      <td>Industrials</td>\n",
       "      <td>Industrial Conglomerates</td>\n",
       "      <td>Saint Paul, Minnesota</td>\n",
       "      <td>1957-03-04</td>\n",
       "      <td>66740</td>\n",
       "      <td>1902</td>\n",
       "      <td>Tues</td>\n",
       "    </tr>\n",
       "    <tr>\n",
       "      <th>2</th>\n",
       "      <td>2000-01-05</td>\n",
       "      <td>45.56250</td>\n",
       "      <td>48.12500</td>\n",
       "      <td>45.56250</td>\n",
       "      <td>46.6250</td>\n",
       "      <td>25.221243</td>\n",
       "      <td>3699400</td>\n",
       "      <td>MMM</td>\n",
       "      <td>3M</td>\n",
       "      <td>Industrials</td>\n",
       "      <td>Industrial Conglomerates</td>\n",
       "      <td>Saint Paul, Minnesota</td>\n",
       "      <td>1957-03-04</td>\n",
       "      <td>66740</td>\n",
       "      <td>1902</td>\n",
       "      <td>Wed</td>\n",
       "    </tr>\n",
       "    <tr>\n",
       "      <th>3</th>\n",
       "      <td>2000-01-06</td>\n",
       "      <td>47.15625</td>\n",
       "      <td>51.25000</td>\n",
       "      <td>47.15625</td>\n",
       "      <td>50.3750</td>\n",
       "      <td>27.249744</td>\n",
       "      <td>5975800</td>\n",
       "      <td>MMM</td>\n",
       "      <td>3M</td>\n",
       "      <td>Industrials</td>\n",
       "      <td>Industrial Conglomerates</td>\n",
       "      <td>Saint Paul, Minnesota</td>\n",
       "      <td>1957-03-04</td>\n",
       "      <td>66740</td>\n",
       "      <td>1902</td>\n",
       "      <td>Thrus</td>\n",
       "    </tr>\n",
       "    <tr>\n",
       "      <th>4</th>\n",
       "      <td>2000-01-07</td>\n",
       "      <td>50.56250</td>\n",
       "      <td>51.90625</td>\n",
       "      <td>49.96875</td>\n",
       "      <td>51.3750</td>\n",
       "      <td>27.790695</td>\n",
       "      <td>4101200</td>\n",
       "      <td>MMM</td>\n",
       "      <td>3M</td>\n",
       "      <td>Industrials</td>\n",
       "      <td>Industrial Conglomerates</td>\n",
       "      <td>Saint Paul, Minnesota</td>\n",
       "      <td>1957-03-04</td>\n",
       "      <td>66740</td>\n",
       "      <td>1902</td>\n",
       "      <td>Fri</td>\n",
       "    </tr>\n",
       "  </tbody>\n",
       "</table>\n",
       "</div>"
      ],
      "text/plain": [
       "        Date      Open      High       Low    Close  Adj Close   Volume  \\\n",
       "0 2000-01-03  48.03125  48.25000  47.03125  47.1875  25.525515  2173400   \n",
       "1 2000-01-04  46.43750  47.40625  45.31250  45.3125  24.511253  2713800   \n",
       "2 2000-01-05  45.56250  48.12500  45.56250  46.6250  25.221243  3699400   \n",
       "3 2000-01-06  47.15625  51.25000  47.15625  50.3750  27.249744  5975800   \n",
       "4 2000-01-07  50.56250  51.90625  49.96875  51.3750  27.790695  4101200   \n",
       "\n",
       "  Symbol Security  GICS Sector         GICS Sub-Industry  \\\n",
       "0    MMM       3M  Industrials  Industrial Conglomerates   \n",
       "1    MMM       3M  Industrials  Industrial Conglomerates   \n",
       "2    MMM       3M  Industrials  Industrial Conglomerates   \n",
       "3    MMM       3M  Industrials  Industrial Conglomerates   \n",
       "4    MMM       3M  Industrials  Industrial Conglomerates   \n",
       "\n",
       "   Headquarters Location  Date added    CIK Founded    Day  \n",
       "0  Saint Paul, Minnesota  1957-03-04  66740    1902    Mon  \n",
       "1  Saint Paul, Minnesota  1957-03-04  66740    1902   Tues  \n",
       "2  Saint Paul, Minnesota  1957-03-04  66740    1902    Wed  \n",
       "3  Saint Paul, Minnesota  1957-03-04  66740    1902  Thrus  \n",
       "4  Saint Paul, Minnesota  1957-03-04  66740    1902    Fri  "
      ]
     },
     "execution_count": 20,
     "metadata": {},
     "output_type": "execute_result"
    }
   ],
   "source": [
    "df.head()"
   ]
  },
  {
   "cell_type": "code",
   "execution_count": 21,
   "metadata": {},
   "outputs": [
    {
     "data": {
      "text/plain": [
       "array(['3M', 'A. O. Smith', 'Abbott', 'AbbVie', 'Accenture',\n",
       "       'Activision Blizzard', 'ADM', 'Adobe Inc.', 'ADP',\n",
       "       'Advance Auto Parts', 'AES Corporation', 'Aflac',\n",
       "       'Agilent Technologies', 'Air Products and Chemicals', 'Akamai',\n",
       "       'Alaska Air Group', 'Albemarle Corporation',\n",
       "       'Alexandria Real Estate Equities', 'Align Technology', 'Allegion',\n",
       "       'Alliant Energy', 'Allstate', 'Alphabet Inc. (Class A)',\n",
       "       'Alphabet Inc. (Class C)', 'Altria', 'Amazon', 'Amcor', 'AMD',\n",
       "       'Ameren', 'American Airlines Group', 'American Electric Power',\n",
       "       'American Express', 'American International Group',\n",
       "       'American Tower', 'American Water Works', 'Ameriprise Financial',\n",
       "       'AmerisourceBergen', 'Ametek', 'Amgen', 'Amphenol',\n",
       "       'Analog Devices', 'Ansys', 'Aon', 'APA Corporation', 'Apple Inc.',\n",
       "       'Applied Materials', 'Aptiv', 'Arch Capital Group',\n",
       "       'Arista Networks', 'Arthur J. Gallagher & Co.', 'Assurant', 'AT&T',\n",
       "       'Atmos Energy', 'Autodesk', 'AutoZone', 'AvalonBay Communities',\n",
       "       'Avery Dennison', 'Baker Hughes', 'Ball Corporation',\n",
       "       'Bank of America', 'Bath & Body Works, Inc.',\n",
       "       'Baxter International', 'Becton Dickinson', 'Berkley', 'Best Buy',\n",
       "       'Bio-Rad', 'Bio-Techne', 'Biogen', 'BlackRock', 'BNY Mellon',\n",
       "       'Boeing', 'Booking Holdings', 'BorgWarner', 'Boston Properties',\n",
       "       'Boston Scientific', 'Bristol Myers Squibb', 'Broadcom Inc.',\n",
       "       'Broadridge Financial Solutions', 'Brown & Brown', 'C.H. Robinson',\n",
       "       'Cadence Design Systems', 'Caesars Entertainment',\n",
       "       'Camden Property Trust', 'Campbell Soup Company', 'Capital One',\n",
       "       'Cardinal Health', 'CarMax', 'Carnival', 'Carrier Global',\n",
       "       'Catalent', 'Caterpillar Inc.', 'Cboe Global Markets',\n",
       "       'CBRE Group', 'CDW', 'Celanese', 'Centene Corporation',\n",
       "       'CenterPoint Energy', 'Ceridian', 'CF Industries',\n",
       "       'Charles River Laboratories', 'Charles Schwab Corporation',\n",
       "       'Charter Communications', 'Chevron Corporation',\n",
       "       'Chipotle Mexican Grill', 'Chubb Limited', 'Church & Dwight',\n",
       "       'Cigna', 'Cincinnati Financial', 'Cintas', 'Cisco', 'Citigroup',\n",
       "       'Citizens Financial Group', 'Clorox', 'CME Group', 'CMS Energy',\n",
       "       'Coca-Cola Company (The)', 'Cognizant', 'Colgate-Palmolive',\n",
       "       'Comcast', 'Comerica', 'Conagra Brands', 'ConocoPhillips',\n",
       "       'Consolidated Edison', 'Constellation Brands',\n",
       "       'Constellation Energy', 'CooperCompanies', 'Copart',\n",
       "       'Corning Inc.', 'Corteva', 'CoStar Group', 'Costco', 'Coterra',\n",
       "       'Crown Castle', 'CSX', 'Cummins', 'CVS Health', 'D.R. Horton',\n",
       "       'Danaher Corporation', 'Darden Restaurants', 'DaVita Inc.',\n",
       "       'John Deere', 'Delta Air Lines', 'Dentsply Sirona', 'Devon Energy',\n",
       "       'Dexcom', 'Diamondback Energy', 'Digital Realty',\n",
       "       'Discover Financial', 'Dish Network', 'Disney', 'Dollar General',\n",
       "       'Dollar Tree', 'Dominion Energy', \"Domino's\", 'Dover Corporation',\n",
       "       'Dow Inc.', 'DTE Energy', 'Duke Energy', 'DuPont',\n",
       "       'DXC Technology', 'Eastman Chemical Company', 'Eaton Corporation',\n",
       "       'eBay', 'Ecolab', 'Edison International', 'Edwards Lifesciences',\n",
       "       'Electronic Arts', 'Elevance Health', 'Eli Lilly and Company',\n",
       "       'Emerson Electric', 'Enphase', 'Entergy', 'EOG Resources',\n",
       "       'EPAM Systems', 'EQT', 'Equifax', 'Equinix', 'Equity Residential',\n",
       "       'Essex Property Trust', 'Estée Lauder Companies (The)', 'Etsy',\n",
       "       'Everest Re', 'Evergy', 'Eversource', 'Exelon', 'Expedia Group',\n",
       "       'Expeditors International', 'Extra Space Storage', 'ExxonMobil',\n",
       "       'F5, Inc.', 'FactSet', 'Fastenal', 'Federal Realty', 'FedEx',\n",
       "       'Fifth Third Bank', 'First Republic Bank', 'First Solar',\n",
       "       'FirstEnergy', 'FIS', 'Fiserv', 'Fleetcor', 'FMC Corporation',\n",
       "       'Ford Motor Company', 'Fortinet', 'Fortive',\n",
       "       'Fox Corporation (Class A)', 'Fox Corporation (Class B)',\n",
       "       'Franklin Templeton', 'Freeport-McMoRan', 'Garmin', 'Gartner',\n",
       "       'GE HealthCare', 'Gen Digital', 'Generac', 'General Dynamics',\n",
       "       'General Electric', 'General Mills', 'General Motors',\n",
       "       'Genuine Parts Company', 'Gilead Sciences', 'Globe Life',\n",
       "       'Global Payments', 'Goldman Sachs', 'Halliburton',\n",
       "       'Hartford (The)', 'Hasbro', 'HCA Healthcare', 'Healthpeak',\n",
       "       'Henry Schein', \"Hershey's\", 'Hess Corporation',\n",
       "       'Hewlett Packard Enterprise', 'Hilton Worldwide', 'Hologic',\n",
       "       'Home Depot (The)', 'Honeywell', 'Hormel Foods',\n",
       "       'Host Hotels & Resorts', 'Howmet Aerospace', 'HP Inc.', 'Humana',\n",
       "       'Huntington Bancshares', 'Huntington Ingalls Industries', 'IBM',\n",
       "       'IDEX Corporation', 'Idexx Laboratories', 'Illinois Tool Works',\n",
       "       'Illumina', 'Incyte', 'Ingersoll Rand', 'Intel',\n",
       "       'Intercontinental Exchange', 'International Flavors & Fragrances',\n",
       "       'International Paper', 'Interpublic Group of Companies (The)',\n",
       "       'Intuit', 'Intuitive Surgical', 'Invesco', 'Invitation Homes',\n",
       "       'IQVIA', 'Iron Mountain', 'J.B. Hunt', 'Jack Henry & Associates',\n",
       "       'Jacobs Solutions', 'Johnson & Johnson', 'Johnson Controls',\n",
       "       'JPMorgan Chase', 'Juniper Networks', \"Kellogg's\",\n",
       "       'Keurig Dr Pepper', 'KeyCorp', 'Keysight', 'Kimberly-Clark',\n",
       "       'Kimco Realty', 'Kinder Morgan', 'KLA Corporation', 'Kraft Heinz',\n",
       "       'Kroger', 'L3Harris', 'LabCorp', 'Lam Research', 'Lamb Weston',\n",
       "       'Las Vegas Sands', 'Leidos', 'Lennar', 'Lincoln Financial',\n",
       "       'Linde plc', 'Live Nation Entertainment', 'LKQ Corporation',\n",
       "       'Lockheed Martin', 'Loews Corporation', \"Lowe's\",\n",
       "       'Lumen Technologies', 'LyondellBasell', 'M&T Bank', 'Marathon Oil',\n",
       "       'Marathon Petroleum', 'MarketAxess', 'Marriott International',\n",
       "       'Marsh McLennan', 'Martin Marietta Materials', 'Masco',\n",
       "       'Mastercard', 'Match Group', 'McCormick & Company', \"McDonald's\",\n",
       "       'McKesson', 'Medtronic', 'Merck & Co.', 'Meta Platforms',\n",
       "       'MetLife', 'Mettler Toledo', 'MGM Resorts', 'Microchip Technology',\n",
       "       'Micron Technology', 'Microsoft',\n",
       "       'Mid-America Apartment Communities', 'Moderna',\n",
       "       'Mohawk Industries', 'Molina Healthcare',\n",
       "       'Molson Coors Beverage Company', 'Mondelez International',\n",
       "       'Monolithic Power Systems', 'Monster Beverage',\n",
       "       \"Moody's Corporation\", 'Morgan Stanley', 'Mosaic Company (The)',\n",
       "       'Motorola Solutions', 'MSCI', 'Nasdaq, Inc.', 'NetApp', 'Netflix',\n",
       "       'Newell Brands', 'Newmont', 'News Corp (Class A)',\n",
       "       'News Corp (Class B)', 'NextEra Energy', 'Nike, Inc.', 'NiSource',\n",
       "       'Nordson Corporation', 'Norfolk Southern Railway',\n",
       "       'Northern Trust', 'Northrop Grumman',\n",
       "       'Norwegian Cruise Line Holdings', 'NRG Energy', 'Nucor', 'Nvidia',\n",
       "       'NVR, Inc.', 'NXP Semiconductors', \"O'Reilly Auto Parts\",\n",
       "       'Occidental Petroleum', 'Old Dominion', 'Omnicom Group',\n",
       "       'ON Semiconductor', 'ONEOK', 'Oracle Corporation', 'Organon & Co.',\n",
       "       'Otis Worldwide', 'Paccar', 'Packaging Corporation of America',\n",
       "       'Paramount Global', 'Parker Hannifin', 'Paychex', 'Paycom',\n",
       "       'PayPal', 'Pentair', 'PepsiCo', 'PerkinElmer', 'Pfizer',\n",
       "       'PG&E Corporation', 'Philip Morris International', 'Phillips 66',\n",
       "       'Pinnacle West', 'Pioneer Natural Resources',\n",
       "       'PNC Financial Services', 'Pool Corporation', 'PPG Industries',\n",
       "       'PPL Corporation', 'Principal Financial Group', 'Procter & Gamble',\n",
       "       'Progressive Corporation', 'Prologis', 'Prudential Financial',\n",
       "       'Public Service Enterprise Group', 'PTC', 'Public Storage',\n",
       "       'PulteGroup', 'Qorvo', 'Quanta Services', 'Qualcomm',\n",
       "       'Quest Diagnostics', 'Ralph Lauren Corporation', 'Raymond James',\n",
       "       'Raytheon Technologies', 'Realty Income', 'Regency Centers',\n",
       "       'Regeneron', 'Regions Financial Corporation', 'Republic Services',\n",
       "       'ResMed', 'Robert Half', 'Rockwell Automation', 'Rollins, Inc.',\n",
       "       'Roper Technologies', 'Ross Stores', 'Royal Caribbean Group',\n",
       "       'S&P Global', 'Salesforce', 'SBA Communications', 'Schlumberger',\n",
       "       'Seagate Technology', 'Sealed Air', 'Sempra Energy', 'ServiceNow',\n",
       "       'Sherwin-Williams', 'Signature Bank', 'Simon Property Group',\n",
       "       'Skyworks Solutions', 'J.M. Smucker Company (The)', 'Snap-on',\n",
       "       'SolarEdge', 'Southern Company', 'Southwest Airlines',\n",
       "       'Stanley Black & Decker', 'Starbucks', 'State Street Corporation',\n",
       "       'Steel Dynamics', 'Steris', 'Stryker Corporation', 'SVB Financial',\n",
       "       'Synchrony Financial', 'Synopsys', 'Sysco', 'T-Mobile US',\n",
       "       'T. Rowe Price', 'Take-Two Interactive', 'Tapestry, Inc.',\n",
       "       'Targa Resources', 'Target Corporation', 'TE Connectivity',\n",
       "       'Teledyne Technologies', 'Teleflex', 'Teradyne', 'Tesla, Inc.',\n",
       "       'Texas Instruments', 'Textron', 'Thermo Fisher Scientific',\n",
       "       'TJX Companies', 'Tractor Supply', 'Trane Technologies',\n",
       "       'TransDigm Group', 'Travelers Companies (The)', 'Trimble Inc.',\n",
       "       'Truist', 'Tyler Technologies', 'Tyson Foods', 'U.S. Bank',\n",
       "       'UDR, Inc.', 'Ulta Beauty', 'Union Pacific Corporation',\n",
       "       'United Airlines Holdings', 'United Parcel Service',\n",
       "       'United Rentals', 'UnitedHealth Group',\n",
       "       'Universal Health Services', 'Valero Energy', 'Ventas', 'Verisign',\n",
       "       'Verisk', 'Verizon', 'Vertex Pharmaceuticals', 'VF Corporation',\n",
       "       'Viatris', 'Vici Properties', 'Visa Inc.',\n",
       "       'Vulcan Materials Company', 'Wabtec', 'Walgreens Boots Alliance',\n",
       "       'Walmart', 'Warner Bros. Discovery', 'Waste Management',\n",
       "       'Waters Corporation', 'WEC Energy Group', 'Wells Fargo',\n",
       "       'Welltower', 'West Pharmaceutical Services', 'Western Digital',\n",
       "       'WestRock', 'Weyerhaeuser', 'Whirlpool Corporation',\n",
       "       'Williams Companies', 'Willis Towers Watson', 'W. W. Grainger',\n",
       "       'Wynn Resorts', 'Xcel Energy', 'Xylem Inc.', 'Yum! Brands',\n",
       "       'Zebra Technologies', 'Zimmer Biomet', 'Zions Bancorporation',\n",
       "       'Zoetis'], dtype=object)"
      ]
     },
     "execution_count": 21,
     "metadata": {},
     "output_type": "execute_result"
    }
   ],
   "source": [
    "df['Security'].unique()"
   ]
  },
  {
   "cell_type": "code",
   "execution_count": 22,
   "metadata": {},
   "outputs": [],
   "source": [
    "#Elimino los espacios de los nombres de las columnas para manejar mejor los datos.\n",
    "\n",
    "df = df.rename(columns=lambda x: x.strip().replace(' ', '_'))"
   ]
  },
  {
   "cell_type": "code",
   "execution_count": 23,
   "metadata": {},
   "outputs": [
    {
     "name": "stdout",
     "output_type": "stream",
     "text": [
      "<class 'pandas.core.frame.DataFrame'>\n",
      "Int64Index: 2605020 entries, 0 to 2605019\n",
      "Data columns (total 16 columns):\n",
      " #   Column                 Dtype         \n",
      "---  ------                 -----         \n",
      " 0   Date                   datetime64[ns]\n",
      " 1   Open                   float64       \n",
      " 2   High                   float64       \n",
      " 3   Low                    float64       \n",
      " 4   Close                  float64       \n",
      " 5   Adj_Close              float64       \n",
      " 6   Volume                 int64         \n",
      " 7   Symbol                 object        \n",
      " 8   Security               object        \n",
      " 9   GICS_Sector            object        \n",
      " 10  GICS_Sub-Industry      object        \n",
      " 11  Headquarters_Location  object        \n",
      " 12  Date_added             object        \n",
      " 13  CIK                    int64         \n",
      " 14  Founded                object        \n",
      " 15  Day                    object        \n",
      "dtypes: datetime64[ns](1), float64(5), int64(2), object(8)\n",
      "memory usage: 337.9+ MB\n"
     ]
    }
   ],
   "source": [
    "df.info()"
   ]
  },
  {
   "cell_type": "code",
   "execution_count": 24,
   "metadata": {},
   "outputs": [
    {
     "data": {
      "text/html": [
       "<div>\n",
       "<style scoped>\n",
       "    .dataframe tbody tr th:only-of-type {\n",
       "        vertical-align: middle;\n",
       "    }\n",
       "\n",
       "    .dataframe tbody tr th {\n",
       "        vertical-align: top;\n",
       "    }\n",
       "\n",
       "    .dataframe thead th {\n",
       "        text-align: right;\n",
       "    }\n",
       "</style>\n",
       "<table border=\"1\" class=\"dataframe\">\n",
       "  <thead>\n",
       "    <tr style=\"text-align: right;\">\n",
       "      <th></th>\n",
       "      <th>Open</th>\n",
       "      <th>High</th>\n",
       "      <th>Low</th>\n",
       "      <th>Close</th>\n",
       "      <th>Adj_Close</th>\n",
       "      <th>Volume</th>\n",
       "      <th>CIK</th>\n",
       "    </tr>\n",
       "  </thead>\n",
       "  <tbody>\n",
       "    <tr>\n",
       "      <th>count</th>\n",
       "      <td>2.605020e+06</td>\n",
       "      <td>2.605020e+06</td>\n",
       "      <td>2.605020e+06</td>\n",
       "      <td>2.605020e+06</td>\n",
       "      <td>2.605020e+06</td>\n",
       "      <td>2.605020e+06</td>\n",
       "      <td>2.605020e+06</td>\n",
       "    </tr>\n",
       "    <tr>\n",
       "      <th>mean</th>\n",
       "      <td>7.260396e+01</td>\n",
       "      <td>7.346485e+01</td>\n",
       "      <td>7.172131e+01</td>\n",
       "      <td>7.261482e+01</td>\n",
       "      <td>6.424758e+01</td>\n",
       "      <td>6.639565e+06</td>\n",
       "      <td>7.170233e+05</td>\n",
       "    </tr>\n",
       "    <tr>\n",
       "      <th>std</th>\n",
       "      <td>1.448828e+02</td>\n",
       "      <td>1.467120e+02</td>\n",
       "      <td>1.430492e+02</td>\n",
       "      <td>1.449173e+02</td>\n",
       "      <td>1.416385e+02</td>\n",
       "      <td>3.226503e+07</td>\n",
       "      <td>5.201818e+05</td>\n",
       "    </tr>\n",
       "    <tr>\n",
       "      <th>min</th>\n",
       "      <td>6.041700e-02</td>\n",
       "      <td>6.104200e-02</td>\n",
       "      <td>5.395800e-02</td>\n",
       "      <td>6.104200e-02</td>\n",
       "      <td>6.104200e-02</td>\n",
       "      <td>0.000000e+00</td>\n",
       "      <td>1.800000e+03</td>\n",
       "    </tr>\n",
       "    <tr>\n",
       "      <th>25%</th>\n",
       "      <td>2.326000e+01</td>\n",
       "      <td>2.358000e+01</td>\n",
       "      <td>2.293000e+01</td>\n",
       "      <td>2.326000e+01</td>\n",
       "      <td>1.683413e+01</td>\n",
       "      <td>9.063000e+05</td>\n",
       "      <td>9.144000e+04</td>\n",
       "    </tr>\n",
       "    <tr>\n",
       "      <th>50%</th>\n",
       "      <td>4.238000e+01</td>\n",
       "      <td>4.289000e+01</td>\n",
       "      <td>4.187000e+01</td>\n",
       "      <td>4.239000e+01</td>\n",
       "      <td>3.309344e+01</td>\n",
       "      <td>2.060100e+06</td>\n",
       "      <td>8.519680e+05</td>\n",
       "    </tr>\n",
       "    <tr>\n",
       "      <th>75%</th>\n",
       "      <td>7.709000e+01</td>\n",
       "      <td>7.790000e+01</td>\n",
       "      <td>7.626000e+01</td>\n",
       "      <td>7.710000e+01</td>\n",
       "      <td>6.633000e+01</td>\n",
       "      <td>4.868500e+06</td>\n",
       "      <td>1.067701e+06</td>\n",
       "    </tr>\n",
       "    <tr>\n",
       "      <th>max</th>\n",
       "      <td>5.977610e+03</td>\n",
       "      <td>5.982450e+03</td>\n",
       "      <td>5.884060e+03</td>\n",
       "      <td>5.959330e+03</td>\n",
       "      <td>5.959330e+03</td>\n",
       "      <td>7.421641e+09</td>\n",
       "      <td>1.932393e+06</td>\n",
       "    </tr>\n",
       "  </tbody>\n",
       "</table>\n",
       "</div>"
      ],
      "text/plain": [
       "               Open          High           Low         Close     Adj_Close  \\\n",
       "count  2.605020e+06  2.605020e+06  2.605020e+06  2.605020e+06  2.605020e+06   \n",
       "mean   7.260396e+01  7.346485e+01  7.172131e+01  7.261482e+01  6.424758e+01   \n",
       "std    1.448828e+02  1.467120e+02  1.430492e+02  1.449173e+02  1.416385e+02   \n",
       "min    6.041700e-02  6.104200e-02  5.395800e-02  6.104200e-02  6.104200e-02   \n",
       "25%    2.326000e+01  2.358000e+01  2.293000e+01  2.326000e+01  1.683413e+01   \n",
       "50%    4.238000e+01  4.289000e+01  4.187000e+01  4.239000e+01  3.309344e+01   \n",
       "75%    7.709000e+01  7.790000e+01  7.626000e+01  7.710000e+01  6.633000e+01   \n",
       "max    5.977610e+03  5.982450e+03  5.884060e+03  5.959330e+03  5.959330e+03   \n",
       "\n",
       "             Volume           CIK  \n",
       "count  2.605020e+06  2.605020e+06  \n",
       "mean   6.639565e+06  7.170233e+05  \n",
       "std    3.226503e+07  5.201818e+05  \n",
       "min    0.000000e+00  1.800000e+03  \n",
       "25%    9.063000e+05  9.144000e+04  \n",
       "50%    2.060100e+06  8.519680e+05  \n",
       "75%    4.868500e+06  1.067701e+06  \n",
       "max    7.421641e+09  1.932393e+06  "
      ]
     },
     "execution_count": 24,
     "metadata": {},
     "output_type": "execute_result"
    }
   ],
   "source": [
    "df.describe()"
   ]
  },
  {
   "attachments": {},
   "cell_type": "markdown",
   "metadata": {},
   "source": [
    "## ANÁLISIS GLOBALES DE MIS DATOS"
   ]
  },
  {
   "attachments": {},
   "cell_type": "markdown",
   "metadata": {},
   "source": [
    "### Variación de las industrias."
   ]
  },
  {
   "cell_type": "code",
   "execution_count": 25,
   "metadata": {},
   "outputs": [],
   "source": [
    "#Agrupo por el campo de las industrias\n",
    "indutrias_df = df.groupby('GICS_Sector')"
   ]
  },
  {
   "cell_type": "code",
   "execution_count": 26,
   "metadata": {},
   "outputs": [],
   "source": [
    "#Calculo el promedio de cierre para cada insdustria\n",
    "ind_mean = indutrias_df['Close'].mean()"
   ]
  },
  {
   "cell_type": "code",
   "execution_count": 27,
   "metadata": {},
   "outputs": [],
   "source": [
    "#Ordeno \n",
    "ind_mean_ord = ind_mean.sort_values(ascending=False)"
   ]
  },
  {
   "cell_type": "code",
   "execution_count": 28,
   "metadata": {},
   "outputs": [
    {
     "data": {
      "image/png": "[encoded data removed]",
      "text/plain": [
       "<Figure size 640x480 with 1 Axes>"
      ]
     },
     "metadata": {},
     "output_type": "display_data"
    }
   ],
   "source": [
    "#Grafico\n",
    "import matplotlib.pyplot as plt\n",
    "\n",
    "ax = ind_mean_ord.plot(kind='bar', color= 'darkorange')\n",
    "ax.set_title('Industry mean')\n",
    "ax.set_xlabel('Sector')\n",
    "ax.set_ylabel('Mean')\n",
    "plt.show()\n"
   ]
  },
  {
   "attachments": {},
   "cell_type": "markdown",
   "metadata": {},
   "source": [
    "### Variacion de los cierres a lo largo de los años."
   ]
  },
  {
   "cell_type": "code",
   "execution_count": 29,
   "metadata": {},
   "outputs": [],
   "source": [
    "# Creo una columna con solo los años\n",
    "df['Year'] = df['Date'].dt.year\n"
   ]
  },
  {
   "cell_type": "code",
   "execution_count": 30,
   "metadata": {},
   "outputs": [
    {
     "data": {
      "image/png": "[encoded data removed]",
      "text/plain": [
       "<Figure size 2000x600 with 1 Axes>"
      ]
     },
     "metadata": {},
     "output_type": "display_data"
    }
   ],
   "source": [
    "import seaborn as sns\n",
    "plt.subplots(figsize=(20, 6))\n",
    "sns.lineplot(data= df, x= 'Year', y= 'Close', color='darkorange' )\n",
    "plt.show()"
   ]
  },
  {
   "attachments": {},
   "cell_type": "markdown",
   "metadata": {},
   "source": [
    "### Tendencias del mercado."
   ]
  },
  {
   "cell_type": "code",
   "execution_count": 31,
   "metadata": {},
   "outputs": [
    {
     "data": {
      "text/plain": [
       "'Este código crea un nuevo DataFrame df_vela a partir de otro DataFrame df que contiene información \\nsobre los precios de una serie temporal.\\n\\nPrimero, se define la función tendencia que toma una fila del DataFrame df y determina si la tendencia del precio es alcista,\\nbajista o indefinida. Esta función compara los valores de los precios de apertura y cierre de la vela, que se encuentran en las \\ncolumnas \"Open\" y \"Close\" respectivamente, y devuelve una cadena de texto que indica la tendencia correspondiente.\\n\\nLuego, se define la función tipo_vela que toma una fila del DataFrame df y determina el tipo de vela, que puede ser \"Alza\" o \"Baja\",\\nen función de la tendencia del precio. Esta función utiliza la función tendencia para determinar la tendencia y, si la tendencia es alcista,\\ndevuelve la diferencia entre el precio máximo y mínimo de la vela (que se encuentra en la columna \"Delta\"). Si la tendencia es bajista,\\ndevuelve el valor negativo de la diferencia entre el precio máximo y mínimo de la vela. Si la tendencia es indefinida,la función devuelve None.\\n\\nA continuación, se crea el DataFrame df_vela con dos columnas: \"Delta\" que representa la diferencia entre el precio máximo y \\nmínimo de la vela y \"Type\" que representa el tipo de vela, que se determina utilizando la función tipo_vela.\\n\\nPara crear la columna \"Type\", se aplica la función tendencia a cada fila del DataFrame df utilizando la función apply y el \\nargumento axis=1. Esto crea una nueva columna en df_vela que indica la tendencia correspondiente para cada vela.\\n\\nFinalmente, se aplica la función tipo_vela a cada fila de df_vela utilizando la función apply y el argumento axis=1. \\nEsto crea una nueva columna en df_vela que indica el tipo de vela correspondiente para cada tendencia.\\n\\nSe utiliza el método dropna() para eliminar cualquier columna que contenga valores nulos, aunque en este caso no\\n debería haber ninguna. El resultado final es el DataFrame df_vela.'"
      ]
     },
     "execution_count": 31,
     "metadata": {},
     "output_type": "execute_result"
    }
   ],
   "source": [
    "def tendencia(price):\n",
    "  if price[\"Close\"] > price[\"Open\"] : return \"Alza\"\n",
    "  if price[\"Close\"] < price[\"Open\"] : return \"Baja\"\n",
    "  if price[\"Close\"] == price[\"Open\"] : return \"Indefinido\"\n",
    "  \n",
    "\n",
    "def tipo_vela(row):\n",
    "  type_ = row[\"Type\"]\n",
    "  if type_ == \"Alza\":\n",
    "    return row[\"Delta\"]\n",
    "  if type_ == \"Baja\":\n",
    "    return -row[\"Delta\"]\n",
    "\n",
    "  return None\n",
    "\n",
    "df_vela = pd.DataFrame()\n",
    "df_vela[\"Delta\"] = df[\"High\"] - df[\"Low\"]\n",
    "df_vela[\"Type\"]  = df.apply(lambda row: tendencia(row), axis=1)\n",
    "df_vela[\"Delta\"] = df_vela.apply(lambda row: tipo_vela(row), axis=1)\n",
    "df_vela.dropna(axis=1)\n",
    "df_vela\n",
    "\n",
    "\n",
    "\n",
    "\"\"\"Este código crea un nuevo DataFrame df_vela a partir de otro DataFrame df que contiene información \n",
    "sobre los precios de una serie temporal.\n",
    "\n",
    "Primero, se define la función tendencia que toma una fila del DataFrame df y determina si la tendencia del precio es alcista,\n",
    "bajista o indefinida. Esta función compara los valores de los precios de apertura y cierre de la vela, que se encuentran en las \n",
    "columnas \"Open\" y \"Close\" respectivamente, y devuelve una cadena de texto que indica la tendencia correspondiente.\n",
    "\n",
    "Luego, se define la función tipo_vela que toma una fila del DataFrame df y determina el tipo de vela, que puede ser \"Alza\" o \"Baja\",\n",
    "en función de la tendencia del precio. Esta función utiliza la función tendencia para determinar la tendencia y, si la tendencia es alcista,\n",
    "devuelve la diferencia entre el precio máximo y mínimo de la vela (que se encuentra en la columna \"Delta\"). Si la tendencia es bajista,\n",
    "devuelve el valor negativo de la diferencia entre el precio máximo y mínimo de la vela. Si la tendencia es indefinida,la función devuelve None.\n",
    "\n",
    "A continuación, se crea el DataFrame df_vela con dos columnas: \"Delta\" que representa la diferencia entre el precio máximo y \n",
    "mínimo de la vela y \"Type\" que representa el tipo de vela, que se determina utilizando la función tipo_vela.\n",
    "\n",
    "Para crear la columna \"Type\", se aplica la función tendencia a cada fila del DataFrame df utilizando la función apply y el \n",
    "argumento axis=1. Esto crea una nueva columna en df_vela que indica la tendencia correspondiente para cada vela.\n",
    "\n",
    "Finalmente, se aplica la función tipo_vela a cada fila de df_vela utilizando la función apply y el argumento axis=1. \n",
    "Esto crea una nueva columna en df_vela que indica el tipo de vela correspondiente para cada tendencia.\n",
    "\n",
    "Se utiliza el método dropna() para eliminar cualquier columna que contenga valores nulos, aunque en este caso no\n",
    " debería haber ninguna. El resultado final es el DataFrame df_vela.\"\"\""
   ]
  },
  {
   "cell_type": "code",
   "execution_count": 32,
   "metadata": {},
   "outputs": [
    {
     "data": {
      "image/png": "[encoded data removed]",
      "text/plain": [
       "<Figure size 640x480 with 1 Axes>"
      ]
     },
     "metadata": {},
     "output_type": "display_data"
    }
   ],
   "source": [
    "sns.countplot(data=df_vela, x='Type', palette= \"Set2\")\n",
    "plt.show()"
   ]
  },
  {
   "attachments": {},
   "cell_type": "markdown",
   "metadata": {},
   "source": [
    "### BETA"
   ]
  },
  {
   "attachments": {},
   "cell_type": "markdown",
   "metadata": {},
   "source": [
    "Beta es una medida de la sensibilidad de un activo financiero (como una acción) con respecto a los movimientos del mercado o de un activo de referencia. Se calcula como la covarianza de los retornos del activo y del mercado o activo de referencia, dividida entre la varianza de los retornos de la referencia.\n",
    "\n",
    "La beta de un activo es una medida de la relación entre su volatilidad (covarianza) y la volatilidad del mercado o del activo de referencia (varianza). Una beta mayor que 1 indica que el activo es más volátil que el mercado o la referencia, mientras que una beta menor que 1 indica que es menos volátil.\n",
    "\n"
   ]
  },
  {
   "cell_type": "code",
   "execution_count": 33,
   "metadata": {},
   "outputs": [],
   "source": [
    "#Calculo los retornos diarios del S&P 500 y de cada una de las acciones en el dataframe.\n",
    "#Uso el método pct_change()\n",
    "\n",
    "df_sp500 = df[df['Symbol'] == '^GSPC']\n",
    "df_sp500['Daily_Return'] = df_sp500['Adj_Close'].pct_change()\n",
    "df_stocks = df[df['Symbol'] != '^GSPC']\n",
    "df_stocks['Daily_Return'] = df_stocks['Adj_Close'].pct_change()\n"
   ]
  },
  {
   "cell_type": "code",
   "execution_count": 34,
   "metadata": {},
   "outputs": [],
   "source": [
    "#Calcular la covarianza entre los retornos diarios de cada acción y los retornos diarios del S&P 500.\n",
    "\n",
    "covariances = {}\n",
    "for symbol in df_stocks['Symbol'].unique():\n",
    "    stock_returns = df_stocks[df_stocks['Symbol'] == symbol]['Daily_Return']\n",
    "    sp500_returns = df_sp500['Daily_Return']\n",
    "    covariance = stock_returns.cov(sp500_returns)\n",
    "    covariances[symbol] = covariance\n"
   ]
  },
  {
   "cell_type": "code",
   "execution_count": 35,
   "metadata": {},
   "outputs": [],
   "source": [
    "#Calcular la varianza de los retornos diarios del S&P 500.\n",
    "\n",
    "sp500_variance = df_sp500['Daily_Return'].var()\n"
   ]
  },
  {
   "cell_type": "code",
   "execution_count": 36,
   "metadata": {},
   "outputs": [],
   "source": [
    "#Calcular la beta de cada acción como la covarianza entre los retornos diarios de la acción y los retornos diarios del S&P 500\n",
    "# dividido por la varianza de los retornos diarios del S&P 500.\n",
    "\n",
    "betas = {}\n",
    "for symbol in df_stocks['Symbol'].unique():\n",
    "    covariance = covariances[symbol]\n",
    "    beta = covariance / sp500_variance\n",
    "    betas[symbol] = beta\n"
   ]
  },
  {
   "cell_type": "code",
   "execution_count": 37,
   "metadata": {},
   "outputs": [
    {
     "data": {
      "image/png": "[encoded data removed]",
      "text/plain": [
       "<Figure size 640x480 with 1 Axes>"
      ]
     },
     "metadata": {},
     "output_type": "display_data"
    }
   ],
   "source": [
    "import matplotlib.pyplot as plt\n",
    "\n",
    "# Ordenar el diccionario de betas por valor de beta\n",
    "sorted_betas = dict(sorted(betas.items(), key=lambda item: item[1], reverse=True))\n",
    "\n",
    "# Seleccionar las primeras 10 empresas con las mayores betas\n",
    "n = 5\n",
    "top_betas = dict(list(sorted_betas.items())[:n])\n",
    "\n",
    "# Graficar las empresas seleccionadas\n",
    "for symbol in top_betas.keys():\n",
    "    df_symbol = df[df['Symbol'] == symbol]\n",
    "    plt.plot(df_symbol['Date'], df_symbol['Adj_Close'], label=symbol)\n",
    "\n",
    "plt.legend()\n",
    "plt.show()\n"
   ]
  },
  {
   "attachments": {},
   "cell_type": "markdown",
   "metadata": {},
   "source": [
    "### Top 5 de las compañías más estables lo largo de los años."
   ]
  },
  {
   "cell_type": "code",
   "execution_count": 38,
   "metadata": {},
   "outputs": [],
   "source": [
    "import matplotlib.pyplot as plt\n",
    "\n",
    "\n",
    "# Calcular la desviación estándar de los precios de cierre para cada compañía\n",
    "std_by_company = df.groupby('Symbol')['Close'].std()\n",
    "\n",
    "# Obtengo las 5 compañías más estables\n",
    "stable_companies = std_by_company.nsmallest(5).index.tolist()\n",
    "\n",
    "# Filtrar el DataFrame original para quedarse solo con los datos de las 5 compañías más estables\n",
    "df_stable = df[df['Symbol'].isin(stable_companies)]"
   ]
  },
  {
   "cell_type": "code",
   "execution_count": 39,
   "metadata": {},
   "outputs": [
    {
     "data": {
      "image/png": "[encoded data removed]",
      "text/plain": [
       "<Figure size 1200x800 with 1 Axes>"
      ]
     },
     "metadata": {},
     "output_type": "display_data"
    }
   ],
   "source": [
    "# Crear un gráfico que muestre la evolución de los precios de cierre para cada una de las 5 compañías\n",
    "fig, ax = plt.subplots(figsize=(12, 8))\n",
    "\n",
    "for company in stable_companies:\n",
    "    df_company = df_stable[df_stable['Symbol'] == company]\n",
    "    ax.plot(df_company['Date'], df_company['Close'], label=company)\n",
    "\n",
    "ax.legend()\n",
    "ax.set_xlabel('Date')\n",
    "ax.set_ylabel('Price of close')\n",
    "ax.set_title('Top five companies')\n",
    "plt.show()"
   ]
  },
  {
   "attachments": {},
   "cell_type": "markdown",
   "metadata": {},
   "source": [
    "### Top ten de compañías con el mayor retorno total."
   ]
  },
  {
   "cell_type": "code",
   "execution_count": 40,
   "metadata": {},
   "outputs": [],
   "source": [
    "# Agrupar el DataFrame por compañía y calcular la diferencia porcentual entre el precio de cierre de la primera fecha del DataFrame y el precio de cierre de la última fecha del DataFrame para cada compañía\n",
    "returns = (df.groupby('Symbol')['Close'].last() - df.groupby('Symbol')['Close'].first()) / df.groupby('Symbol')['Close'].first()\n",
    "\n",
    "# Seleccionar las diez primeras compañías con el mayor retorno total\n",
    "top_10_returns = returns.nlargest(10)\n"
   ]
  },
  {
   "cell_type": "code",
   "execution_count": 41,
   "metadata": {},
   "outputs": [
    {
     "data": {
      "image/png": "[encoded data removed]",
      "text/plain": [
       "<Figure size 1000x600 with 1 Axes>"
      ]
     },
     "metadata": {},
     "output_type": "display_data"
    }
   ],
   "source": [
    "# Crear un gráfico de barras horizontales con Seaborn\n",
    "sns.set(style='whitegrid')\n",
    "plt.figure(figsize=(10, 6))\n",
    "sns.barplot(x=top_10_returns.values, y=top_10_returns.index, palette='Oranges_r')\n",
    "plt.title('Top 10 Companies by Total Return')\n",
    "plt.xlabel('Total Return (%)')\n",
    "plt.ylabel('Company Symbol')\n",
    "plt.show()"
   ]
  },
  {
   "attachments": {},
   "cell_type": "markdown",
   "metadata": {},
   "source": [
    "### Top ten de compañías con la mayor capitalización de mercado."
   ]
  },
  {
   "cell_type": "code",
   "execution_count": 42,
   "metadata": {},
   "outputs": [],
   "source": [
    "\n",
    "# Agrupar el DataFrame por compañía y calcular la capitalización de mercado para cada compañía\n",
    "market_cap = (df.groupby('Symbol')['Close'].last() * df.groupby('Symbol')['Volume'].last()).sort_values(ascending=False)\n",
    "\n",
    "# Seleccionar las diez primeras compañías con la mayor capitalización de mercado\n",
    "top_10_market_cap = market_cap.nlargest(10)\n"
   ]
  },
  {
   "cell_type": "code",
   "execution_count": 43,
   "metadata": {},
   "outputs": [
    {
     "data": {
      "image/png": "[encoded data removed]",
      "text/plain": [
       "<Figure size 1000x600 with 1 Axes>"
      ]
     },
     "metadata": {},
     "output_type": "display_data"
    }
   ],
   "source": [
    "# Crear un gráfico de violín con Seaborn\n",
    "sns.set(style='whitegrid')\n",
    "plt.figure(figsize=(10, 6))\n",
    "sns.barplot(x=df[df['Symbol'].isin(top_10_market_cap.index)]['Symbol'], y=(df['Close'] * df['Volume']), palette='Oranges_r')\n",
    "plt.title('Distribution of Market Capitalization for Top 10 Companies')\n",
    "plt.xlabel('Company Symbol')\n",
    "plt.ylabel('Market Capitalization')\n",
    "plt.show()"
   ]
  },
  {
   "attachments": {},
   "cell_type": "markdown",
   "metadata": {},
   "source": [
    "### Top ten compañías con el mayor volumen de negociación."
   ]
  },
  {
   "cell_type": "code",
   "execution_count": 44,
   "metadata": {},
   "outputs": [],
   "source": [
    "# Agrupar el DataFrame por compañía y sumar el volumen de negociación para cada compañía\n",
    "volume = df.groupby('Symbol')['Volume'].sum()\n",
    "\n",
    "# Seleccionar las diez primeras compañías con el mayor volumen de negociación\n",
    "top_10_volume = volume.nlargest(10)"
   ]
  },
  {
   "cell_type": "code",
   "execution_count": 45,
   "metadata": {},
   "outputs": [
    {
     "data": {
      "image/png": "[encoded data removed]",
      "text/plain": [
       "<Figure size 1000x600 with 1 Axes>"
      ]
     },
     "metadata": {},
     "output_type": "display_data"
    }
   ],
   "source": [
    "# Crear un gráfico de barras con Seaborn\n",
    "sns.set(style='whitegrid')\n",
    "plt.figure(figsize=(10, 6))\n",
    "sns.barplot(x=top_10_volume.index, y=top_10_volume.values, palette='Oranges_r')\n",
    "plt.title('Top 10 Companies by Volume Traded')\n",
    "plt.xlabel('Company Symbol')\n",
    "plt.ylabel('Volume Traded')\n",
    "plt.show()"
   ]
  },
  {
   "attachments": {},
   "cell_type": "markdown",
   "metadata": {},
   "source": [
    "## ANÁLISIS DE SECTOR TECNOLÓGICO"
   ]
  },
  {
   "cell_type": "code",
   "execution_count": 46,
   "metadata": {},
   "outputs": [],
   "source": [
    "sector_groups = df.groupby('GICS_Sector')"
   ]
  },
  {
   "cell_type": "code",
   "execution_count": 47,
   "metadata": {},
   "outputs": [
    {
     "data": {
      "text/plain": [
       "GICS_Sector\n",
       "Communication Services     49.959843\n",
       "Consumer Discretionary    118.848151\n",
       "Consumer Staples           55.729328\n",
       "Energy                     49.148074\n",
       "Financials                 75.515599\n",
       "Health Care                83.797794\n",
       "Industrials                70.789006\n",
       "Information Technology     66.224740\n",
       "Materials                  60.014131\n",
       "Real Estate                72.489082\n",
       "Utilities                  42.472541\n",
       "Name: Close, dtype: float64"
      ]
     },
     "execution_count": 47,
     "metadata": {},
     "output_type": "execute_result"
    }
   ],
   "source": [
    "#Calculo los promedios de cierre para cada sector\n",
    "\n",
    "sector_groups['Close'].mean()\n"
   ]
  },
  {
   "attachments": {},
   "cell_type": "markdown",
   "metadata": {},
   "source": [
    "### Precio de cierre para industria Tech"
   ]
  },
  {
   "cell_type": "code",
   "execution_count": 48,
   "metadata": {},
   "outputs": [],
   "source": [
    "tech_sector = sector_groups.get_group('Information Technology')"
   ]
  },
  {
   "cell_type": "code",
   "execution_count": 49,
   "metadata": {},
   "outputs": [
    {
     "data": {
      "image/png": "[encoded data removed]",
      "text/plain": [
       "<Figure size 640x480 with 1 Axes>"
      ]
     },
     "metadata": {},
     "output_type": "display_data"
    }
   ],
   "source": [
    "# Grafico los datos de precio de cierre diario\n",
    "tech_sector.plot(x='Date', y='Close', color='darkorange', linewidth=1, linestyle='-', label='Precio de cierre')\n",
    "\n",
    "# Agregar etiquetas de ejes y leyenda\n",
    "plt.xlabel('Date')\n",
    "plt.ylabel('Price of closed')\n",
    "plt.legend(loc='upper left')\n",
    "\n",
    "# Mostrar el gráfico\n",
    "plt.show()\n"
   ]
  },
  {
   "attachments": {},
   "cell_type": "markdown",
   "metadata": {},
   "source": [
    "### Top ten empresas Techs por índece ROI."
   ]
  },
  {
   "attachments": {},
   "cell_type": "markdown",
   "metadata": {},
   "source": [
    "El índice ROI, también conocido como Return on Investment, es una medida financiera que se utiliza para evaluar la rentabilidad de una inversión. Esta medida indica la ganancia o pérdida que se ha generado en relación con la cantidad de dinero invertido. El ROI se calcula dividiendo el beneficio o ganancia obtenida por la inversión por el costo o cantidad de dinero invertido, y se expresa como un porcentaje o una fracción.\n",
    "\n",
    "Calculé este indice para lo ultimos 10 años.\n"
   ]
  },
  {
   "attachments": {},
   "cell_type": "markdown",
   "metadata": {},
   "source": [
    "El filtrado de subcategorías se debió a una investigación que hice sobre cuales son las industrias con mayor crecimiento futuro, competitividad einnovación se basa en lo siguiente.\n",
    "\n",
    "En función de los factores mencionados anteriormente se encontaron cuatro grupos interesantes de análisis:\n",
    "\n",
    "        Servicios de tecnología en la nube: Esta subcategoría ha experimentado un fuerte crecimiento en los últimos años debido a la mayor adopción de la nube por parte de empresas y consumidores. \n",
    "\n",
    "        Fabricantes de semiconductores: Esta subcategoría es crítica para el funcionamiento de la mayoría de los dispositivos electrónicos modernos y se espera que experimente un fuerte crecimiento en los próximos años debido a la mayor adopción de tecnologías como la inteligencia artificial y la Internet de las cosas. \n",
    "\n",
    "        Empresas de software empresarial: Esta subcategoría incluye empresas que ofrecen soluciones de software para empresas en áreas como la gestión de recursos empresariales, la gestión de relaciones con clientes y la gestión de la cadena de suministro.\n",
    "\n",
    "        Fabricantes de dispositivos móviles: Esta subcategoría ha experimentado un crecimiento constante en las últimas décadas y se espera que continúe en el futuro debido a la creciente adopción de dispositivos móviles y la evolución de la tecnología móvil."
   ]
  },
  {
   "cell_type": "code",
   "execution_count": 50,
   "metadata": {},
   "outputs": [],
   "source": [
    "#Filtro el dataframe original por el sector de tecnología y la subcategoría\n",
    "\n",
    "tech_companies = df.loc[(df['GICS_Sector'] == 'Information Technology') & \n",
    "                        (df['GICS_Sub-Industry'].isin(['Technology Hardware, Storage & Peripherals',\n",
    "                                                       'Cloud Computing Services',\n",
    "                                                       'Data Centers',\n",
    "                                                       'Semiconductors',\n",
    "                                                       'Electronic Equipment & Instruments', \n",
    "                                                       'Systems Software',\n",
    "                                                       'Application Software']))]\n"
   ]
  },
  {
   "cell_type": "code",
   "execution_count": 51,
   "metadata": {},
   "outputs": [],
   "source": [
    "#Agrupo por la columna \"Symbol\" y utiliza el método last para seleccionar el precio de cierre más reciente para cada empresa\n",
    "\n",
    "tech_grouped = tech_companies.groupby('Symbol').last()"
   ]
  },
  {
   "cell_type": "code",
   "execution_count": 52,
   "metadata": {},
   "outputs": [],
   "source": [
    "#Agrega una nueva columna al dataframe agrupado que contenga el precio de cierre en febrero de 2017\n",
    "\n",
    "tech_grouped['Price_2013'] = tech_companies.loc[tech_companies['Date'] == '2013-02-01'].set_index('Symbol')['Close']"
   ]
  },
  {
   "cell_type": "code",
   "execution_count": 53,
   "metadata": {},
   "outputs": [],
   "source": [
    "#Calculo la rentabilidad de inversión para cada empresa utilizando la fórmula mencionada anteriormente,ROI\n",
    "\n",
    "tech_grouped['ROI'] = (tech_grouped['Close'] - tech_grouped['Price_2013']) / tech_grouped['Price_2013']"
   ]
  },
  {
   "cell_type": "code",
   "execution_count": 54,
   "metadata": {},
   "outputs": [],
   "source": [
    "#Ordeno las empresas por \"ROI\" descendente\n",
    "\n",
    "top_tech = tech_grouped.sort_values('ROI', ascending=False)"
   ]
  },
  {
   "cell_type": "code",
   "execution_count": 55,
   "metadata": {},
   "outputs": [
    {
     "data": {
      "text/plain": [
       "array(['Nvidia', 'AMD', 'Monolithic Power Systems', 'Broadcom Inc.',\n",
       "       'ServiceNow', 'Cadence Design Systems', 'Fortinet', 'Synopsys',\n",
       "       'ON Semiconductor', 'Apple Inc.', 'Microsoft', 'Adobe Inc.',\n",
       "       'Micron Technology', 'Zebra Technologies', 'Intuit',\n",
       "       'Teledyne Technologies', 'Tyler Technologies',\n",
       "       'NXP Semiconductors', 'First Solar', 'Autodesk', 'PTC',\n",
       "       'Texas Instruments', 'Microchip Technology', 'Skyworks Solutions',\n",
       "       'Analog Devices', 'HP Inc.', 'Salesforce', 'Ansys',\n",
       "       'Roper Technologies', 'Oracle Corporation', 'Seagate Technology',\n",
       "       'Qualcomm', 'NetApp', 'Trimble Inc.', 'Intel', 'Gen Digital',\n",
       "       'Western Digital', 'Ceridian', 'Hewlett Packard Enterprise',\n",
       "       'Keysight', 'Paycom', 'Qorvo'], dtype=object)"
      ]
     },
     "execution_count": 55,
     "metadata": {},
     "output_type": "execute_result"
    }
   ],
   "source": [
    "#Muestro los valores unicos, sabiendo que empresas se encuentran.\n",
    "\n",
    "top_tech['Security'].unique()"
   ]
  },
  {
   "cell_type": "code",
   "execution_count": 56,
   "metadata": {},
   "outputs": [
    {
     "data": {
      "text/html": [
       "<div>\n",
       "<style scoped>\n",
       "    .dataframe tbody tr th:only-of-type {\n",
       "        vertical-align: middle;\n",
       "    }\n",
       "\n",
       "    .dataframe tbody tr th {\n",
       "        vertical-align: top;\n",
       "    }\n",
       "\n",
       "    .dataframe thead th {\n",
       "        text-align: right;\n",
       "    }\n",
       "</style>\n",
       "<table border=\"1\" class=\"dataframe\">\n",
       "  <thead>\n",
       "    <tr style=\"text-align: right;\">\n",
       "      <th></th>\n",
       "      <th>Date</th>\n",
       "      <th>Open</th>\n",
       "      <th>High</th>\n",
       "      <th>Low</th>\n",
       "      <th>Close</th>\n",
       "      <th>Adj_Close</th>\n",
       "      <th>Volume</th>\n",
       "      <th>Security</th>\n",
       "      <th>GICS_Sector</th>\n",
       "      <th>GICS_Sub-Industry</th>\n",
       "      <th>Headquarters_Location</th>\n",
       "      <th>Date_added</th>\n",
       "      <th>CIK</th>\n",
       "      <th>Founded</th>\n",
       "      <th>Day</th>\n",
       "      <th>Year</th>\n",
       "      <th>Price_2013</th>\n",
       "      <th>ROI</th>\n",
       "    </tr>\n",
       "    <tr>\n",
       "      <th>Symbol</th>\n",
       "      <th></th>\n",
       "      <th></th>\n",
       "      <th></th>\n",
       "      <th></th>\n",
       "      <th></th>\n",
       "      <th></th>\n",
       "      <th></th>\n",
       "      <th></th>\n",
       "      <th></th>\n",
       "      <th></th>\n",
       "      <th></th>\n",
       "      <th></th>\n",
       "      <th></th>\n",
       "      <th></th>\n",
       "      <th></th>\n",
       "      <th></th>\n",
       "      <th></th>\n",
       "      <th></th>\n",
       "    </tr>\n",
       "  </thead>\n",
       "  <tbody>\n",
       "    <tr>\n",
       "      <th>NVDA</th>\n",
       "      <td>2023-02-21</td>\n",
       "      <td>210.000000</td>\n",
       "      <td>214.940002</td>\n",
       "      <td>206.179993</td>\n",
       "      <td>206.550003</td>\n",
       "      <td>206.550003</td>\n",
       "      <td>41001500</td>\n",
       "      <td>Nvidia</td>\n",
       "      <td>Information Technology</td>\n",
       "      <td>Semiconductors</td>\n",
       "      <td>Santa Clara, California</td>\n",
       "      <td>2001-11-30</td>\n",
       "      <td>1045810</td>\n",
       "      <td>1993</td>\n",
       "      <td>Tues</td>\n",
       "      <td>2023</td>\n",
       "      <td>3.092500</td>\n",
       "      <td>65.790624</td>\n",
       "    </tr>\n",
       "    <tr>\n",
       "      <th>AMD</th>\n",
       "      <td>2023-02-21</td>\n",
       "      <td>77.150002</td>\n",
       "      <td>78.459999</td>\n",
       "      <td>76.449997</td>\n",
       "      <td>76.769997</td>\n",
       "      <td>76.769997</td>\n",
       "      <td>44045600</td>\n",
       "      <td>AMD</td>\n",
       "      <td>Information Technology</td>\n",
       "      <td>Semiconductors</td>\n",
       "      <td>Santa Clara, California</td>\n",
       "      <td>2017-03-20</td>\n",
       "      <td>2488</td>\n",
       "      <td>1969</td>\n",
       "      <td>Tues</td>\n",
       "      <td>2023</td>\n",
       "      <td>2.600000</td>\n",
       "      <td>28.526923</td>\n",
       "    </tr>\n",
       "    <tr>\n",
       "      <th>MPWR</th>\n",
       "      <td>2023-02-21</td>\n",
       "      <td>492.440002</td>\n",
       "      <td>501.029999</td>\n",
       "      <td>480.059998</td>\n",
       "      <td>481.920013</td>\n",
       "      <td>481.920013</td>\n",
       "      <td>645700</td>\n",
       "      <td>Monolithic Power Systems</td>\n",
       "      <td>Information Technology</td>\n",
       "      <td>Semiconductors</td>\n",
       "      <td>Kirkland, Washington</td>\n",
       "      <td>2021-02-12</td>\n",
       "      <td>1280452</td>\n",
       "      <td>1997</td>\n",
       "      <td>Tues</td>\n",
       "      <td>2023</td>\n",
       "      <td>23.660000</td>\n",
       "      <td>19.368555</td>\n",
       "    </tr>\n",
       "    <tr>\n",
       "      <th>AVGO</th>\n",
       "      <td>2023-02-21</td>\n",
       "      <td>590.000000</td>\n",
       "      <td>593.090027</td>\n",
       "      <td>579.840027</td>\n",
       "      <td>581.539978</td>\n",
       "      <td>581.539978</td>\n",
       "      <td>2273700</td>\n",
       "      <td>Broadcom Inc.</td>\n",
       "      <td>Information Technology</td>\n",
       "      <td>Semiconductors</td>\n",
       "      <td>San Jose, California</td>\n",
       "      <td>2014-05-08</td>\n",
       "      <td>1730168</td>\n",
       "      <td>1961</td>\n",
       "      <td>Tues</td>\n",
       "      <td>2023</td>\n",
       "      <td>36.259998</td>\n",
       "      <td>15.038059</td>\n",
       "    </tr>\n",
       "    <tr>\n",
       "      <th>NOW</th>\n",
       "      <td>2023-02-21</td>\n",
       "      <td>431.820007</td>\n",
       "      <td>437.100006</td>\n",
       "      <td>428.549988</td>\n",
       "      <td>431.859985</td>\n",
       "      <td>431.859985</td>\n",
       "      <td>1098500</td>\n",
       "      <td>ServiceNow</td>\n",
       "      <td>Information Technology</td>\n",
       "      <td>Systems Software</td>\n",
       "      <td>Santa Clara, California</td>\n",
       "      <td>2019-11-21</td>\n",
       "      <td>1373715</td>\n",
       "      <td>2003</td>\n",
       "      <td>Tues</td>\n",
       "      <td>2023</td>\n",
       "      <td>28.070000</td>\n",
       "      <td>14.385108</td>\n",
       "    </tr>\n",
       "    <tr>\n",
       "      <th>CDNS</th>\n",
       "      <td>2023-02-21</td>\n",
       "      <td>192.190002</td>\n",
       "      <td>193.580002</td>\n",
       "      <td>191.440002</td>\n",
       "      <td>192.649994</td>\n",
       "      <td>192.649994</td>\n",
       "      <td>1785900</td>\n",
       "      <td>Cadence Design Systems</td>\n",
       "      <td>Information Technology</td>\n",
       "      <td>Application Software</td>\n",
       "      <td>San Jose, California</td>\n",
       "      <td>2017-09-18</td>\n",
       "      <td>813672</td>\n",
       "      <td>1988</td>\n",
       "      <td>Tues</td>\n",
       "      <td>2023</td>\n",
       "      <td>14.150000</td>\n",
       "      <td>12.614841</td>\n",
       "    </tr>\n",
       "    <tr>\n",
       "      <th>FTNT</th>\n",
       "      <td>2023-02-21</td>\n",
       "      <td>59.790001</td>\n",
       "      <td>60.369999</td>\n",
       "      <td>59.299999</td>\n",
       "      <td>59.709999</td>\n",
       "      <td>59.709999</td>\n",
       "      <td>4515500</td>\n",
       "      <td>Fortinet</td>\n",
       "      <td>Information Technology</td>\n",
       "      <td>Systems Software</td>\n",
       "      <td>Sunnyvale, California</td>\n",
       "      <td>2018-10-11</td>\n",
       "      <td>1262039</td>\n",
       "      <td>2000</td>\n",
       "      <td>Tues</td>\n",
       "      <td>2023</td>\n",
       "      <td>4.720000</td>\n",
       "      <td>11.650424</td>\n",
       "    </tr>\n",
       "    <tr>\n",
       "      <th>SNPS</th>\n",
       "      <td>2023-02-21</td>\n",
       "      <td>350.660004</td>\n",
       "      <td>352.700012</td>\n",
       "      <td>347.970001</td>\n",
       "      <td>352.350006</td>\n",
       "      <td>352.350006</td>\n",
       "      <td>823900</td>\n",
       "      <td>Synopsys</td>\n",
       "      <td>Information Technology</td>\n",
       "      <td>Application Software</td>\n",
       "      <td>Mountain View, California</td>\n",
       "      <td>2017-03-16</td>\n",
       "      <td>883241</td>\n",
       "      <td>1986</td>\n",
       "      <td>Tues</td>\n",
       "      <td>2023</td>\n",
       "      <td>33.919998</td>\n",
       "      <td>9.387678</td>\n",
       "    </tr>\n",
       "    <tr>\n",
       "      <th>ON</th>\n",
       "      <td>2023-02-21</td>\n",
       "      <td>80.400002</td>\n",
       "      <td>81.760002</td>\n",
       "      <td>79.050003</td>\n",
       "      <td>79.279999</td>\n",
       "      <td>79.279999</td>\n",
       "      <td>6312800</td>\n",
       "      <td>ON Semiconductor</td>\n",
       "      <td>Information Technology</td>\n",
       "      <td>Semiconductors</td>\n",
       "      <td>Phoenix, Arizona</td>\n",
       "      <td>2022-06-21</td>\n",
       "      <td>1097864</td>\n",
       "      <td>1999</td>\n",
       "      <td>Tues</td>\n",
       "      <td>2023</td>\n",
       "      <td>8.150000</td>\n",
       "      <td>8.727608</td>\n",
       "    </tr>\n",
       "    <tr>\n",
       "      <th>AAPL</th>\n",
       "      <td>2023-02-21</td>\n",
       "      <td>150.199997</td>\n",
       "      <td>151.300003</td>\n",
       "      <td>148.410004</td>\n",
       "      <td>148.479996</td>\n",
       "      <td>148.479996</td>\n",
       "      <td>58867200</td>\n",
       "      <td>Apple Inc.</td>\n",
       "      <td>Information Technology</td>\n",
       "      <td>Technology Hardware, Storage &amp; Peripherals</td>\n",
       "      <td>Cupertino, California</td>\n",
       "      <td>1982-11-30</td>\n",
       "      <td>320193</td>\n",
       "      <td>1977</td>\n",
       "      <td>Tues</td>\n",
       "      <td>2023</td>\n",
       "      <td>16.200714</td>\n",
       "      <td>8.165028</td>\n",
       "    </tr>\n",
       "  </tbody>\n",
       "</table>\n",
       "</div>"
      ],
      "text/plain": [
       "             Date        Open        High         Low       Close   Adj_Close  \\\n",
       "Symbol                                                                          \n",
       "NVDA   2023-02-21  210.000000  214.940002  206.179993  206.550003  206.550003   \n",
       "AMD    2023-02-21   77.150002   78.459999   76.449997   76.769997   76.769997   \n",
       "MPWR   2023-02-21  492.440002  501.029999  480.059998  481.920013  481.920013   \n",
       "AVGO   2023-02-21  590.000000  593.090027  579.840027  581.539978  581.539978   \n",
       "NOW    2023-02-21  431.820007  437.100006  428.549988  431.859985  431.859985   \n",
       "CDNS   2023-02-21  192.190002  193.580002  191.440002  192.649994  192.649994   \n",
       "FTNT   2023-02-21   59.790001   60.369999   59.299999   59.709999   59.709999   \n",
       "SNPS   2023-02-21  350.660004  352.700012  347.970001  352.350006  352.350006   \n",
       "ON     2023-02-21   80.400002   81.760002   79.050003   79.279999   79.279999   \n",
       "AAPL   2023-02-21  150.199997  151.300003  148.410004  148.479996  148.479996   \n",
       "\n",
       "          Volume                  Security             GICS_Sector  \\\n",
       "Symbol                                                               \n",
       "NVDA    41001500                    Nvidia  Information Technology   \n",
       "AMD     44045600                       AMD  Information Technology   \n",
       "MPWR      645700  Monolithic Power Systems  Information Technology   \n",
       "AVGO     2273700             Broadcom Inc.  Information Technology   \n",
       "NOW      1098500                ServiceNow  Information Technology   \n",
       "CDNS     1785900    Cadence Design Systems  Information Technology   \n",
       "FTNT     4515500                  Fortinet  Information Technology   \n",
       "SNPS      823900                  Synopsys  Information Technology   \n",
       "ON       6312800          ON Semiconductor  Information Technology   \n",
       "AAPL    58867200                Apple Inc.  Information Technology   \n",
       "\n",
       "                                 GICS_Sub-Industry      Headquarters_Location  \\\n",
       "Symbol                                                                          \n",
       "NVDA                                Semiconductors    Santa Clara, California   \n",
       "AMD                                 Semiconductors    Santa Clara, California   \n",
       "MPWR                                Semiconductors       Kirkland, Washington   \n",
       "AVGO                                Semiconductors       San Jose, California   \n",
       "NOW                               Systems Software    Santa Clara, California   \n",
       "CDNS                          Application Software       San Jose, California   \n",
       "FTNT                              Systems Software      Sunnyvale, California   \n",
       "SNPS                          Application Software  Mountain View, California   \n",
       "ON                                  Semiconductors           Phoenix, Arizona   \n",
       "AAPL    Technology Hardware, Storage & Peripherals      Cupertino, California   \n",
       "\n",
       "        Date_added      CIK Founded   Day  Year  Price_2013        ROI  \n",
       "Symbol                                                                  \n",
       "NVDA    2001-11-30  1045810    1993  Tues  2023    3.092500  65.790624  \n",
       "AMD     2017-03-20     2488    1969  Tues  2023    2.600000  28.526923  \n",
       "MPWR    2021-02-12  1280452    1997  Tues  2023   23.660000  19.368555  \n",
       "AVGO    2014-05-08  1730168    1961  Tues  2023   36.259998  15.038059  \n",
       "NOW     2019-11-21  1373715    2003  Tues  2023   28.070000  14.385108  \n",
       "CDNS    2017-09-18   813672    1988  Tues  2023   14.150000  12.614841  \n",
       "FTNT    2018-10-11  1262039    2000  Tues  2023    4.720000  11.650424  \n",
       "SNPS    2017-03-16   883241    1986  Tues  2023   33.919998   9.387678  \n",
       "ON      2022-06-21  1097864    1999  Tues  2023    8.150000   8.727608  \n",
       "AAPL    1982-11-30   320193    1977  Tues  2023   16.200714   8.165028  "
      ]
     },
     "execution_count": 56,
     "metadata": {},
     "output_type": "execute_result"
    }
   ],
   "source": [
    "#Muestro el dataframe final, solo traigo los cinco primeros\n",
    "top_tech.head(10)"
   ]
  },
  {
   "cell_type": "code",
   "execution_count": 57,
   "metadata": {},
   "outputs": [],
   "source": [
    "top_tech= top_tech.head(10)"
   ]
  },
  {
   "cell_type": "code",
   "execution_count": 58,
   "metadata": {},
   "outputs": [
    {
     "data": {
      "image/png": "[encoded data removed]",
      "text/plain": [
       "<Figure size 640x480 with 1 Axes>"
      ]
     },
     "metadata": {},
     "output_type": "display_data"
    }
   ],
   "source": [
    "fig, ax = plt.subplots()\n",
    "\n",
    "ax.barh(top_tech.index, top_tech['ROI'], color = 'darkorange')\n",
    "\n",
    "ax.set_title('Top 10 Technology Companies by ROI')\n",
    "ax.set_xlabel('Return on Investment (ROI)')\n",
    "ax.set_ylabel('Company Symbol')\n",
    "\n",
    "plt.show()"
   ]
  },
  {
   "attachments": {},
   "cell_type": "markdown",
   "metadata": {},
   "source": [
    "### Dataframe final."
   ]
  },
  {
   "cell_type": "code",
   "execution_count": 59,
   "metadata": {},
   "outputs": [],
   "source": [
    "#Del primer dataframe reito la información para mi Dashboard, solo selecciono los primeros cuatro.\n",
    "\n",
    "df_tech = df.loc[df['Symbol'].isin(['NVDA', 'AMD', 'MPWR', 'AVGO'])]\n"
   ]
  },
  {
   "cell_type": "code",
   "execution_count": 60,
   "metadata": {},
   "outputs": [],
   "source": [
    "\n",
    "df_tech.to_csv('acciones.csv', index=False)\n"
   ]
  }
 ],
 "metadata": {
  "kernelspec": {
   "display_name": "base",
   "language": "python",
   "name": "python3"
  },
  "language_info": {
   "codemirror_mode": {
    "name": "ipython",
    "version": 3
   },
   "file_extension": ".py",
   "mimetype": "text/x-python",
   "name": "python",
   "nbconvert_exporter": "python",
   "pygments_lexer": "ipython3",
   "version": "3.9.13"
  },
  "orig_nbformat": 4,
  "vscode": {
   "interpreter": {
    "hash": "40d3a090f54c6569ab1632332b64b2c03c39dcf918b08424e98f38b5ae0af88f"
   }
  }
 },
 "nbformat": 4,
 "nbformat_minor": 2
}
